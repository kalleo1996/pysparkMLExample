{
  "nbformat": 4,
  "nbformat_minor": 0,
  "metadata": {
    "colab": {
      "name": "date_LinearRegression.ipynb",
      "provenance": [],
      "collapsed_sections": [],
      "include_colab_link": true
    },
    "kernelspec": {
      "display_name": "Python 3",
      "name": "python3"
    },
    "language_info": {
      "name": "python"
    }
  },
  "cells": [
    {
      "cell_type": "markdown",
      "metadata": {
        "id": "view-in-github",
        "colab_type": "text"
      },
      "source": [
        "<a href=\"https://colab.research.google.com/github/kalleo1996/pysparkMLExample/blob/main/date_LinearRegression.ipynb\" target=\"_parent\"><img src=\"https://colab.research.google.com/assets/colab-badge.svg\" alt=\"Open In Colab\"/></a>"
      ]
    },
    {
      "cell_type": "code",
      "metadata": {
        "id": "oSF_rJrKfqUO"
      },
      "source": [
        ""
      ],
      "execution_count": null,
      "outputs": []
    },
    {
      "cell_type": "code",
      "metadata": {
        "colab": {
          "base_uri": "https://localhost:8080/"
        },
        "id": "WVgT7Scp99jL",
        "outputId": "0ef6c741-91ad-4036-9114-b7aa7feac273"
      },
      "source": [
        "!pip install pyspark"
      ],
      "execution_count": 1,
      "outputs": [
        {
          "output_type": "stream",
          "text": [
            "Collecting pyspark\n",
            "\u001b[?25l  Downloading https://files.pythonhosted.org/packages/89/db/e18cfd78e408de957821ec5ca56de1250645b05f8523d169803d8df35a64/pyspark-3.1.2.tar.gz (212.4MB)\n",
            "\u001b[K     |████████████████████████████████| 212.4MB 66kB/s \n",
            "\u001b[?25hCollecting py4j==0.10.9\n",
            "\u001b[?25l  Downloading https://files.pythonhosted.org/packages/9e/b6/6a4fb90cd235dc8e265a6a2067f2a2c99f0d91787f06aca4bcf7c23f3f80/py4j-0.10.9-py2.py3-none-any.whl (198kB)\n",
            "\u001b[K     |████████████████████████████████| 204kB 17.1MB/s \n",
            "\u001b[?25hBuilding wheels for collected packages: pyspark\n",
            "  Building wheel for pyspark (setup.py) ... \u001b[?25l\u001b[?25hdone\n",
            "  Created wheel for pyspark: filename=pyspark-3.1.2-py2.py3-none-any.whl size=212880768 sha256=5a2313e661b469186a2b7650843dd03af68365afb2378037845cadeeab13301c\n",
            "  Stored in directory: /root/.cache/pip/wheels/40/1b/2c/30f43be2627857ab80062bef1527c0128f7b4070b6b2d02139\n",
            "Successfully built pyspark\n",
            "Installing collected packages: py4j, pyspark\n",
            "Successfully installed py4j-0.10.9 pyspark-3.1.2\n"
          ],
          "name": "stdout"
        }
      ]
    },
    {
      "cell_type": "code",
      "metadata": {
        "id": "JPuyqaq7Aduc"
      },
      "source": [
        "from pyspark.sql import SparkSession"
      ],
      "execution_count": 2,
      "outputs": []
    },
    {
      "cell_type": "code",
      "metadata": {
        "id": "CEt9UFlABkYl"
      },
      "source": [
        "spark = SparkSession \\\n",
        "    .builder \\\n",
        "    .config(\"spark.driver.memory\", \"15g\") \\\n",
        "    .appName(\"Exploratory Analysis\") \\\n",
        "    .getOrCreate()"
      ],
      "execution_count": 3,
      "outputs": []
    },
    {
      "cell_type": "code",
      "metadata": {
        "colab": {
          "base_uri": "https://localhost:8080/"
        },
        "id": "jqYlTH5BBn77",
        "outputId": "0e3bacc9-8af4-48b8-8e6f-ee4e9f47bda1"
      },
      "source": [
        "import numpy as np\n",
        "\n",
        "import pandas as pd\n",
        "from google.colab import drive\n",
        "drive.mount(\"/content/gdrive\")"
      ],
      "execution_count": 4,
      "outputs": [
        {
          "output_type": "stream",
          "text": [
            "Mounted at /content/gdrive\n"
          ],
          "name": "stdout"
        }
      ]
    },
    {
      "cell_type": "code",
      "metadata": {
        "id": "SW35cPY2Bqpd"
      },
      "source": [
        "parking2017 = spark.read.format(\"csv\").option(\"header\", \"true\").option(\"inferSchema\", \"true\").load('/content/gdrive/My Drive/Big Data/Parking_Violations_Issued_-_Fiscal_Year_2017.csv')\n",
        "parking2016 = spark.read.format(\"csv\").option(\"header\", \"true\").option(\"inferSchema\", \"true\").load('/content/gdrive/My Drive/Big Data/Parking_Violations_Issued_-_Fiscal_Year_2016.csv')\n",
        "parking2015 = spark.read.format(\"csv\").option(\"header\", \"true\").option(\"inferSchema\", \"true\").load('/content/gdrive/My Drive/Big Data/Parking_Violations_Issued_-_Fiscal_Year_2015.csv')\n",
        "parking2014 = spark.read.format(\"csv\").option(\"header\", \"true\").option(\"inferSchema\", \"true\").load('/content/gdrive/My Drive/Big Data/Parking_Violations_Issued_-_Fiscal_Year_2014__August_2013___June_2014_.csv')"
      ],
      "execution_count": 5,
      "outputs": []
    },
    {
      "cell_type": "code",
      "metadata": {
        "id": "IgG9QG5d8UYD"
      },
      "source": [
        ""
      ],
      "execution_count": 5,
      "outputs": []
    },
    {
      "cell_type": "code",
      "metadata": {
        "id": "S7VZEwJ1Dqe_"
      },
      "source": [
        "parking2017 = parking2017.dropDuplicates()\n",
        "parking2016 = parking2016.dropDuplicates()\n",
        "parking2015 = parking2015.dropDuplicates()\n",
        "parking2014 = parking2014.dropDuplicates()"
      ],
      "execution_count": 6,
      "outputs": []
    },
    {
      "cell_type": "code",
      "metadata": {
        "id": "VvQfkcirarNA"
      },
      "source": [
        ""
      ],
      "execution_count": 6,
      "outputs": []
    },
    {
      "cell_type": "code",
      "metadata": {
        "id": "VjvLft2LEjwO"
      },
      "source": [
        "parking2017 = parking2017.toDF(*(c.replace(' ', '_') for c in parking2017.columns))\n",
        "parking2016 = parking2016.toDF(*(c.replace(' ', '_') for c in parking2016.columns))\n",
        "parking2015 = parking2015.toDF(*(c.replace(' ', '_') for c in parking2015.columns))\n",
        "parking2014 = parking2014.toDF(*(c.replace(' ', '_') for c in parking2014.columns))"
      ],
      "execution_count": 7,
      "outputs": []
    },
    {
      "cell_type": "code",
      "metadata": {
        "id": "qn5kp3ey4dcT"
      },
      "source": [
        ""
      ],
      "execution_count": 7,
      "outputs": []
    },
    {
      "cell_type": "markdown",
      "metadata": {
        "id": "_mPWWkO3FD9l"
      },
      "source": [
        "# Predictions"
      ]
    },
    {
      "cell_type": "code",
      "metadata": {
        "id": "3JslUspQWFMX"
      },
      "source": [
        ""
      ],
      "execution_count": 7,
      "outputs": []
    },
    {
      "cell_type": "code",
      "metadata": {
        "id": "UEn7pbcNFFqX"
      },
      "source": [
        "from pyspark.sql.functions import unix_timestamp, from_unixtime\n",
        "\n"
      ],
      "execution_count": 8,
      "outputs": []
    },
    {
      "cell_type": "code",
      "metadata": {
        "id": "L1BN5BwkVjgX"
      },
      "source": [
        ""
      ],
      "execution_count": 8,
      "outputs": []
    },
    {
      "cell_type": "code",
      "metadata": {
        "id": "VdeMPXCVVl4n"
      },
      "source": [
        "parking2017.createOrReplaceTempView(\"parking2017\")\n",
        "parking2016.createOrReplaceTempView(\"parking2016\")\n",
        "parking2015.createOrReplaceTempView(\"parking2015\")\n",
        "parking2014.createOrReplaceTempView(\"parking2014\")"
      ],
      "execution_count": 9,
      "outputs": []
    },
    {
      "cell_type": "code",
      "metadata": {
        "id": "KB4nKoY03oUK"
      },
      "source": [
        "parkingtable2017 = spark.sql(\"select Issue_Date,Violation_Location,Violation_Code from parking2017\")\n",
        "parkingtable2016 = spark.sql(\"select Issue_Date,Violation_Location,Violation_Code from parking2016\")\n",
        "parkingtable2015 = spark.sql(\"select Issue_Date,Violation_Location,Violation_Code from parking2015\")\n",
        "parkingtable2014 = spark.sql(\"select Issue_Date,Violation_Location,Violation_Code from parking2014\")"
      ],
      "execution_count": 10,
      "outputs": []
    },
    {
      "cell_type": "code",
      "metadata": {
        "colab": {
          "base_uri": "https://localhost:8080/"
        },
        "id": "tJk1WOr238Bo",
        "outputId": "cd659f30-158f-4bf1-82dd-c94928508c04"
      },
      "source": [
        "from pyspark.sql.functions import unix_timestamp, from_unixtime\n",
        "\n",
        "combinedparkingtable = parkingtable2017.union(parkingtable2016).union(parkingtable2015).union(parkingtable2014)\n",
        "combinedparkingtable.show()"
      ],
      "execution_count": 11,
      "outputs": [
        {
          "output_type": "stream",
          "text": [
            "+----------+------------------+--------------+\n",
            "|Issue_Date|Violation_Location|Violation_Code|\n",
            "+----------+------------------+--------------+\n",
            "|02/22/2017|                19|            18|\n",
            "|01/27/2017|               110|            74|\n",
            "|07/23/2016|                71|            20|\n",
            "|06/23/2017|                30|            21|\n",
            "|06/15/2017|              null|            36|\n",
            "|02/16/2017|              null|            36|\n",
            "|10/28/2016|                72|            21|\n",
            "|05/30/2017|                90|            21|\n",
            "|08/20/2016|                47|            16|\n",
            "|11/11/2016|                 9|            40|\n",
            "|02/16/2017|                40|            21|\n",
            "|12/04/2016|                32|            71|\n",
            "|03/09/2017|              null|             7|\n",
            "|10/13/2016|              null|             5|\n",
            "|04/10/2017|                24|            21|\n",
            "|10/04/2016|                23|            38|\n",
            "|05/08/2017|               110|            13|\n",
            "|10/29/2016|               112|            37|\n",
            "|03/15/2017|                52|            19|\n",
            "|05/18/2017|                66|            38|\n",
            "+----------+------------------+--------------+\n",
            "only showing top 20 rows\n",
            "\n"
          ],
          "name": "stdout"
        }
      ]
    },
    {
      "cell_type": "code",
      "metadata": {
        "id": "KgthW5n-39OK"
      },
      "source": [
        "combinedparkingtable=combinedparkingtable.dropna()"
      ],
      "execution_count": 12,
      "outputs": []
    },
    {
      "cell_type": "code",
      "metadata": {
        "id": "bX7UqdJe4BGC"
      },
      "source": [
        "combinedparkingtable.createOrReplaceTempView(\"combinedparkingtableView\")"
      ],
      "execution_count": 13,
      "outputs": []
    },
    {
      "cell_type": "code",
      "metadata": {
        "id": "JRW9rp-Lb1Yf"
      },
      "source": [
        "from pyspark.sql.functions import udf,desc\n",
        "from datetime import datetime"
      ],
      "execution_count": 14,
      "outputs": []
    },
    {
      "cell_type": "code",
      "metadata": {
        "id": "XvisW97yI-g6"
      },
      "source": [
        "\n",
        "\n",
        "from pyspark.sql.functions import date_format\n",
        "from pyspark.sql.functions import to_date, date_format\n",
        "\n",
        "from pyspark.sql.functions import *\n"
      ],
      "execution_count": 15,
      "outputs": []
    },
    {
      "cell_type": "code",
      "metadata": {
        "id": "wNUHDXsFtB4r"
      },
      "source": [
        "\n"
      ],
      "execution_count": 15,
      "outputs": []
    },
    {
      "cell_type": "code",
      "metadata": {
        "id": "jgfT_GUjSqOd"
      },
      "source": [
        ""
      ],
      "execution_count": 15,
      "outputs": []
    },
    {
      "cell_type": "code",
      "metadata": {
        "id": "d8yJIp6hSyWa"
      },
      "source": [
        ""
      ],
      "execution_count": 15,
      "outputs": []
    },
    {
      "cell_type": "code",
      "metadata": {
        "id": "09i5szdxTfR-",
        "colab": {
          "base_uri": "https://localhost:8080/",
          "height": 162
        },
        "outputId": "cb492c12-ef13-4a3b-96e0-947a0b5e829d"
      },
      "source": [
        ""
      ],
      "execution_count": 16,
      "outputs": [
        {
          "output_type": "error",
          "ename": "NameError",
          "evalue": "ignored",
          "traceback": [
            "\u001b[0;31m---------------------------------------------------------------------------\u001b[0m",
            "\u001b[0;31mNameError\u001b[0m                                 Traceback (most recent call last)",
            "\u001b[0;32m<ipython-input-16-e081691f855e>\u001b[0m in \u001b[0;36m<module>\u001b[0;34m()\u001b[0m\n\u001b[0;32m----> 1\u001b[0;31m \u001b[0mdata_2017_day\u001b[0m\u001b[0;34m.\u001b[0m\u001b[0mdtypes\u001b[0m\u001b[0;34m\u001b[0m\u001b[0;34m\u001b[0m\u001b[0m\n\u001b[0m",
            "\u001b[0;31mNameError\u001b[0m: name 'data_2017_day' is not defined"
          ]
        }
      ]
    },
    {
      "cell_type": "code",
      "metadata": {
        "id": "C49zYmmnOdMv"
      },
      "source": [
        "#data_2017_day.show(100)"
      ],
      "execution_count": null,
      "outputs": []
    },
    {
      "cell_type": "markdown",
      "metadata": {
        "id": "aXfRQKR86q-D"
      },
      "source": [
        "for 2014 to 2016 first"
      ]
    },
    {
      "cell_type": "code",
      "metadata": {
        "id": "oevgkdPw6p5U"
      },
      "source": [
        "data_2014 = spark.sql(\"select year(from_unixtime(unix_timestamp(Issue_Date, 'MM/dd/yyy'))) as year,month(from_unixtime(unix_timestamp(Issue_Date, 'MM/dd/yyy'))) as month,day(from_unixtime(unix_timestamp(Issue_Date, 'MM/dd/yyy'))) as day,Violation_Location, Violation_Code , count(*) as frequency from combinedparkingtableView  Group by year,month,day,Violation_Location, Violation_Code order by year,month,day,Violation_Location,Violation_Code \")\n",
        "data_2014.createOrReplaceTempView(\"data_2014\")\n",
        "data_2014 = spark.sql(\"select year,month,day,Violation_Location,Violation_Code,frequency from data_2014 where year >= 2014 \")\n",
        "\n"
      ],
      "execution_count": 18,
      "outputs": []
    },
    {
      "cell_type": "code",
      "metadata": {
        "id": "mH0cHnOBUIqv",
        "colab": {
          "base_uri": "https://localhost:8080/"
        },
        "outputId": "09abf23e-a165-4678-e1a1-323877789d85"
      },
      "source": [
        "data_2014.dtypes"
      ],
      "execution_count": 19,
      "outputs": [
        {
          "output_type": "execute_result",
          "data": {
            "text/plain": [
              "[('year', 'int'),\n",
              " ('month', 'int'),\n",
              " ('day', 'int'),\n",
              " ('Violation_Location', 'int'),\n",
              " ('Violation_Code', 'int'),\n",
              " ('frequency', 'bigint')]"
            ]
          },
          "metadata": {
            "tags": []
          },
          "execution_count": 19
        }
      ]
    },
    {
      "cell_type": "code",
      "metadata": {
        "id": "VkUAfpYN458k"
      },
      "source": [
        "data_2014_day = spark.sql(\"select year(from_unixtime(unix_timestamp(Issue_Date, 'MM/dd/yyy'))) as year,month(from_unixtime(unix_timestamp(Issue_Date, 'MM/dd/yyy'))) as month,day(from_unixtime(unix_timestamp(Issue_Date, 'MM/dd/yyy'))) as day,Violation_Location,count(*) as totalViolation from combinedparkingtableView  Group by year,month,day,Violation_Location order by year,month,day,Violation_Location \")\n",
        "data_2014_day.createOrReplaceTempView(\"data_2014_day\")\n",
        "data_2014_day= spark.sql(\"select year,month,day,Violation_Location,totalViolation from data_2014_day where year >= 2014 \")\n"
      ],
      "execution_count": 20,
      "outputs": []
    },
    {
      "cell_type": "code",
      "metadata": {
        "id": "5wSRUxWhXL3I",
        "colab": {
          "base_uri": "https://localhost:8080/"
        },
        "outputId": "29b1387c-f258-4b98-a08d-0574d257e74c"
      },
      "source": [
        "data_2014_day.dtypes"
      ],
      "execution_count": 21,
      "outputs": [
        {
          "output_type": "execute_result",
          "data": {
            "text/plain": [
              "[('year', 'int'),\n",
              " ('month', 'int'),\n",
              " ('day', 'int'),\n",
              " ('Violation_Location', 'int'),\n",
              " ('totalViolation', 'bigint')]"
            ]
          },
          "metadata": {
            "tags": []
          },
          "execution_count": 21
        }
      ]
    },
    {
      "cell_type": "code",
      "metadata": {
        "id": "ukbLxBiJ7bOW"
      },
      "source": [
        "import pyspark.sql.functions as F\n",
        "from pyspark.sql.functions import round, col\n",
        "df_2014 = data_2014.join(data_2014_day, (data_2014.Violation_Location == data_2014_day.Violation_Location) & (data_2014.year == data_2014_day.year)& (data_2014.month == data_2014_day.month) & (data_2014_day.day == data_2014_day.day))\\\n",
        "    .withColumn(\"violation_probability\", round(F.col(\"frequency\") / F.col(\"totalViolation\"), 5))\\\n",
        "    .drop(data_2014_day.totalViolation).drop(data_2014.frequency).drop(data_2014_day.Violation_Location).drop(data_2014_day.month).drop(data_2014_day.day).drop(data_2014_day.year)\n",
        "\n",
        "\n",
        "#df_2015.show()"
      ],
      "execution_count": 22,
      "outputs": []
    },
    {
      "cell_type": "code",
      "metadata": {
        "id": "agZAcfE1FR_s"
      },
      "source": [
        "#dataframe concatenation\n",
        "from functools import reduce  # For Python 3.x\n",
        "from pyspark.sql import DataFrame\n",
        "\n",
        "#def unionAll(*dfs):\n",
        "    #return reduce(DataFrame.unionAll, dfs)\n",
        "\n",
        "#full_df = unionAll(df_2014,df_2015, df_2016,df)\n",
        "#train_df.show(10)"
      ],
      "execution_count": 23,
      "outputs": []
    },
    {
      "cell_type": "code",
      "metadata": {
        "id": "EWuXlk-W9DeV"
      },
      "source": [
        "full_df = df_2014"
      ],
      "execution_count": 24,
      "outputs": []
    },
    {
      "cell_type": "code",
      "metadata": {
        "colab": {
          "base_uri": "https://localhost:8080/"
        },
        "id": "xpvMK2ApIjAP",
        "outputId": "0961cada-4cf8-4379-a143-2e7ec8e73b54"
      },
      "source": [
        "from pyspark.sql.functions import countDistinct\n",
        "df2=full_df.select(countDistinct(\"Violation_Location\"))\n",
        "df2.show()"
      ],
      "execution_count": 25,
      "outputs": [
        {
          "output_type": "stream",
          "text": [
            "+----------------------------------+\n",
            "|count(DISTINCT Violation_Location)|\n",
            "+----------------------------------+\n",
            "|                               661|\n",
            "+----------------------------------+\n",
            "\n"
          ],
          "name": "stdout"
        }
      ]
    },
    {
      "cell_type": "code",
      "metadata": {
        "id": "rGTwrev0FPmi"
      },
      "source": [
        "#from pyspark.ml.feature import StringIndexer\n",
        "#qualification_indexer = StringIndexer(inputCol=\"day\", outputCol=\"day_chng\")\n",
        "#Fits a model to the input dataset with optional parameters.\n",
        "#df_buck = qualification_indexer.fit(full_df).transform(full_df)\n",
        "#df_buck.show()"
      ],
      "execution_count": 26,
      "outputs": []
    },
    {
      "cell_type": "code",
      "metadata": {
        "id": "6w3Cik33ARGb"
      },
      "source": [
        ""
      ],
      "execution_count": 26,
      "outputs": []
    },
    {
      "cell_type": "code",
      "metadata": {
        "id": "cAR8lUwnbzTm"
      },
      "source": [
        ""
      ],
      "execution_count": 26,
      "outputs": []
    },
    {
      "cell_type": "code",
      "metadata": {
        "id": "r2nvBai6GM_A"
      },
      "source": [
        "from pyspark.ml.feature import OneHotEncoder\n",
        "\n",
        "#for training data\n",
        "#\n",
        "\n",
        "day_encoded = OneHotEncoder(inputCol=\"day\", outputCol=\"day_one\")\n",
        "df_buck = day_encoded.fit(full_df).transform(full_df)\n",
        "\n",
        "\n",
        "\n",
        "\n",
        "\n",
        "\n",
        "\n",
        "#df_buck_train.show(10)"
      ],
      "execution_count": 27,
      "outputs": []
    },
    {
      "cell_type": "code",
      "metadata": {
        "id": "yp0PLdAxjvT-"
      },
      "source": [
        "location_encoded = OneHotEncoder(inputCol=\"Violation_Location\", outputCol=\"Violation_Location_one\")\n",
        "df_buck1 = location_encoded.fit(df_buck).transform(df_buck)"
      ],
      "execution_count": 28,
      "outputs": []
    },
    {
      "cell_type": "code",
      "metadata": {
        "id": "z2qv8jTTjwNf"
      },
      "source": [
        "code_encoded = OneHotEncoder(inputCol=\"Violation_Code\", outputCol=\"Violation_Code_one\")\n",
        "df_buck2 = code_encoded.fit(df_buck1).transform(df_buck1)\n"
      ],
      "execution_count": 29,
      "outputs": []
    },
    {
      "cell_type": "code",
      "metadata": {
        "id": "iyNOvjaCGuv2"
      },
      "source": [
        "from pyspark.ml.linalg import Vectors\n",
        "from pyspark.ml.feature import VectorAssembler\n",
        "\n",
        "#for training data\n",
        "#assembler = VectorAssembler(inputCols=[\"day_one\",\"month_one\",\"Violation_Location_one\",\"week_one\",\"Violation_Code_one\"], outputCol=\"features\")\n",
        "# Assemble all the features with VectorAssembler\n",
        "required_features = [\"year\",\"month\",\"day_one\",\"Violation_Location_one\",\"Violation_Code_one\"]\n",
        "\n",
        "from pyspark.ml.feature import VectorAssembler\n",
        "\n",
        "numericCols = [] #['prob']\n",
        "assemblerInputs = [c  for c in required_features] + numericCols\n",
        "assembler = VectorAssembler(inputCols=assemblerInputs, outputCol='features')\n",
        "\n",
        "transformed_data = assembler.transform(df_buck2)\n",
        "#transformed_data.show(5)"
      ],
      "execution_count": 30,
      "outputs": []
    },
    {
      "cell_type": "code",
      "metadata": {
        "id": "nswy9zAFGkMv"
      },
      "source": [
        "(training_data, test_data) = transformed_data.randomSplit([0.8,0.2], seed =2020)"
      ],
      "execution_count": 31,
      "outputs": []
    },
    {
      "cell_type": "code",
      "metadata": {
        "id": "0yEVDasmLH9S",
        "colab": {
          "base_uri": "https://localhost:8080/"
        },
        "outputId": "48dc78df-d585-461a-b74b-3b0b36ef5995"
      },
      "source": [
        "from pyspark.ml.regression import LinearRegression\n",
        "lr = LinearRegression(featuresCol = 'features', labelCol='violation_probability')\n",
        "lr_model = lr.fit(training_data)\n",
        "print(\"Coefficients: \" + str(lr_model.coefficients))\n",
        "print(\"Intercept: \" + str(lr_model.intercept))"
      ],
      "execution_count": 32,
      "outputs": [
        {
          "output_type": "stream",
          "text": [
            "Coefficients: [0.009198163663188954,0.0007132379265789565,0.0,0.00044106002476779015,-0.0013641567249116256,-0.0012469658649644725,0.0009345608173774357,0.0007468333335242719,-0.0008519526414548507,-0.0012749430529274532,-0.0015730254403098834,-0.001982919996667503,-0.002291051157028357,-0.0012971314057212075,-0.0019044679049337058,-0.0017944670187404418,-0.0010456938696567642,-0.001542613875581202,-0.0013093295515321727,-0.0009944856412085817,0.00021236333221708853,-0.0007951623239941529,-0.0014767461679889686,-0.0022948276754486117,-0.0023311637193822684,-0.0015468234287413234,-0.0016111699437178387,0.0007219273619567959,0.0015501216591279185,-0.0008375101339742665,-0.0017416326826572215,-0.0003846349227402771,-0.0012548761100173392,0.0,-0.9240278688905341,-0.34349396504173335,-0.13726919982468336,-0.1990149213700992,-0.9242521541788046,-0.922491443547461,-0.9193839605864045,-0.20641451893649526,-0.9223770383626877,-0.9261154129642374,-0.18529229292576546,-0.2388806643714731,-0.9265757716382307,-0.9270504399205944,-0.21711512789577217,-0.21205226579098993,-0.9258148968179357,-0.924921710273253,-0.9242914473366399,-0.9242328055369544,-0.12461974228522658,-0.4919128486441252,-0.9177209066975295,-0.9206743434408056,-0.9156600860049012,-0.9142554162983981,-0.5197265248339851,-0.9181916433688422,-0.09531011145159432,-0.91218721534042,-0.039456714344876166,-0.9115317512725362,-0.9141427140769952,-0.9162475256053354,-0.028268115363666454,-0.11993710486394303,-0.08033804640208154,-0.05668740901535783,-0.09031359077807137,-0.9182476389985794,-0.9148170805541627,-0.903452910899776,-0.9179323175964,-0.9173846029728787,-0.9177436799417317,-0.9185690804842145,-0.9189294248963572,-0.9174811636243843,-0.9185339186455463,-0.9155195974540484,-0.054925608603203765,-0.9184337212788118,-0.049988903909374306,-0.08451234941334508,-0.022459905570840776,-0.09777514804296739,-0.08608522421988875,-0.03105353972691958,-0.021757551012243595,-0.9125729886689662,-0.9157832792195953,-0.9149514261951661,-0.9136296037371954,-0.10823843193412448,-0.12243328119317422,-0.9139081878431379,-0.9158161495388336,-0.9142279807441929,-0.9066014230714446,-0.9147434816231521,-0.9109497144675236,-0.9145675932864424,-0.9059263187889716,-0.17338601410707144,-0.9122316258185971,-0.906259973089341,-0.9148687338533845,-0.9147098947075337,-0.9148006186144708,-0.09210451120344268,-0.8841779216594547,-0.1470678897072808,-0.9121565367012598,-0.9190061787407865,-0.05342625530841308,-0.10588819004141688,-0.18357992160869177,-0.9171553706260388,-0.1941282482638412,-0.915669981983443,-0.0715533168578626,-0.029286296603185144,0.0076713187038600006,-0.9172731444885793,-0.04036352986167581,-0.08878801734808447,-0.02633678515498121,-0.0889672911614799,-0.05239530096099729,-0.89996895177667,-0.898534614088697,-0.9186877801527021,-0.9196567685207431,-0.917600990296181,-0.9148596049892107,-0.9135019554445802,-0.9154285392183232,-0.9200651503121963,-0.9210115735080574,-0.9198310116998429,-0.9057385218743762,-0.9180080722845511,-0.9075329783911107,-0.920715653798753,-0.9233798122880675,-0.1298242359186796,-0.12928844783094742,-0.11621501422216081,-0.16134148077590627,-0.89773350503299,-0.8832415219450654,-0.8919365051826327,-0.8441945032040921,0.0018422546131130584,-0.007765284960436466,0.019920416236578257,-0.007153878857703752,-0.1223438743006211,0.019919397231459593,-0.0642884996712257,0.06914565943752876,-0.29407640175112176,-0.0019938953207117704,-0.01867002643164925,0.06977503875744313,-0.31160594358032695,0.03923335852255304,-0.049526909289590436,0.0,0.061118294905968026,-0.01900940080077979,-0.012961492781683875,0.0003959352437510718,-0.07765163298816413,0.06255966171227388,-0.08937328360979603,0.03731925645694206,0.05546596331830958,0.006796118372646403,0.0676775723321049,0.06719137257173977,0.06073865092472451,0.0007291980360027031,0.0,0.0,0.07292271445405088,0.005289037494124982,0.0,0.0,0.0179548333244338,-0.011242486962465121,-0.17636010057534274,0.016181708417029976,-0.09574225055436943,-0.03730014678101566,0.03739786607657749,-0.0070908401884556705,-0.02740596022699048,0.035067332418994665,0.02031690739954686,0.017088564971860943,-0.14689912506929187,-0.026009509471566276,0.006326186068898925,-0.0020013264020868147,-0.14356225290948826,-0.006797344192818644,0.02077791076908427,-0.06086840774882828,-0.08679310094943588,-0.02193729477415682,0.03253915264031372,-0.03654606644666237,0.04375960523817752,0.0,0.0,0.039445230833980265,-0.07892661074717423,0.04301022000516446,0.04298155785095947,-0.004241655362999765,0.0,-0.07201263800801763,-0.14291264549350105,0.0,0.0,0.06348107606829846,0.0,0.056780461481666024,0.05962138042760951,0.023980122769781186,0.0019760686883371252,-0.13737407260091425,-0.1379303316489274,0.06490119196100852,0.02937700166637495,-0.040359394881005546,-0.012084399131326784,-0.07567868005262973,0.045312925166834404,0.04655224415381947,0.020802444428718533,0.03946568002697658,-0.02047473405726891,0.014567308093803109,0.0,0.04159276097710374,0.05841874800401876,0.03844940235704194,-0.0012898199309295155,0.0,-0.0029629311262009007,-0.3214935225513823,-0.16423813750219587,-0.268649134532751,0.036916721702934474,0.06388756813555968,-0.19734995955517487,0.0,0.023034162221056913,0.0,0.08258291429603141,-0.13590036394270547,-0.050299714140640446,0.0,0.0,0.0,0.0,0.0,0.0,0.017563672665817272,0.013876464684496359,-0.07161328215404791,0.0034457354540583345,0.0014364954820137855,-0.011073925880856846,0.01249828593501276,0.007134324869555828,0.07221743194402003,0.0345781686651033,0.0,0.022923608992999396,0.0,0.0,0.0,0.0,0.0,0.0,0.0,0.0,0.029585864813440384,-0.0287938645404783,-0.003523971051326037,0.0,0.0,-0.13328778699425153,0.008264646351802688,0.00711910381051605,-0.002397233602410375,-0.021152712571034616,0.011780685952964344,-0.0792137653366876,-0.07007996766790342,-0.1371748080770369,-0.03294252737201986,0.00966566028235908,0.0561232323164911,0.0,0.029769175750830348,0.06995753351338095,-0.010064447189705731,0.0,0.03763173916016601,0.013854060503233413,0.0,0.0,0.03761122267486631,0.0,0.0,0.0,0.04191764288202209,0.0,0.0,0.0,0.0,0.0,0.0,0.0,0.0,0.019649738307364824,0.01855791793825495,-0.013574567152601857,0.00885597765160239,0.05059078275651117,0.04440872597493617,0.021797696730648342,0.03042717401478617,0.07209031876988739,0.013884473952175779,0.038135104751192965,0.011589189831093466,-0.007662365218855887,-0.012920299974077266,0.032339557798072516,0.0,0.0,0.07657976964853824,0.02435673703628997,0.040048775735491066,0.0,0.0,0.0,-0.3147803219628977,0.0,0.0,-0.021423591709748713,0.0,0.028037061888636,0.0,-0.12146251541480253,0.06594190835657794,-0.11929856685004973,-0.012403887147621993,0.0,0.0,0.0,-0.027052938710419357,0.0,0.0,0.0,0.0,0.014766326059466175,0.06731542061558657,0.0,-0.0022830502919961707,0.0,0.004289485844286939,0.0,0.0,0.002052307326148581,0.0,0.0080822034484026,0.001358172411361596,0.0,0.0,0.0,0.0,0.0,0.0,0.0,0.0,-0.13289532253362915,0.0,0.0,0.07389756369738507,-0.14657223181432044,0.03665302418430746,0.03225321914002545,-0.1319014093060886,0.0,-0.06168200201124037,-0.13464606566542045,0.07143832045215524,0.0,0.04324325075899955,0.0,0.0,0.0,0.0,0.0,-0.30402247480371536,0.0,0.08265677733791287,0.0,0.0,0.0,0.0,0.040528555193872266,0.0,0.0019915990615860836,0.0,0.0,0.0,0.0,0.0,0.0,-0.13869325436767457,0.0,0.0,-5.923653063388109e-05,-0.1404554477510701,-0.14568397296495902,-0.02140444071534223,-0.13599975714879473,-0.08158157274189895,-0.39732818189849967,0.008817105302122456,-0.01223640185940385,-0.008719371828012957,-0.11887046770560092,0.03269262151044814,-0.06564706324388354,0.000978927171269558,-0.020618934998726454,-0.20075466577959278,0.0,0.0243784414765183,-0.08533521112952853,-0.06398238966798686,-0.16533575985424334,0.021458474752930397,-0.01920259599139691,-0.0723360637566495,-0.12177498901383041,-0.1645038895455021,0.03376496319423327,-0.0666878686493358,-0.19394021379993404,0.0,0.038874266366922566,0.005356145584035072,-0.0741287320536361,-0.1137586579677105,0.008154742408621785,0.0,0.07193021972660166,0.0,0.0,0.0,-0.0685082514998986,-0.011477799670491293,-0.08570541356134129,-0.086307922687998,0.017502882282151962,0.04175864852673161,-0.004057571139712303,-0.05273968826004757,0.01799605356715576,0.03320005156847575,-0.18259973773265856,0.0,-0.12266414689376175,0.0,0.0,0.044991341985546614,0.0,0.0,0.0,0.0,-0.14170687120483835,-0.02280955373825248,-0.16002787421153686,0.02812820812994434,0.06781735829820279,-0.019843537903490516,-0.07435190262967899,-0.005086365811179637,-0.10532484661101252,-0.02126818921409289,-0.1027843200416113,-0.18813094084644827,-0.1461611677754569,-0.1355690725246968,0.0,-0.041672554591958136,-0.24167960486885412,-0.2121412183075534,-0.04495680783856902,0.003457866756802789,0.07118801126236464,-0.1438381733638303,-0.038995026360478864,-0.2824238251929339,-0.25232885071510436,0.014469648280850093,0.0,0.025311514394811586,0.0,0.00644425391331652,-0.033722949317251026,-0.007235665933009027,0.011153100564611244,-0.03776456740373182,-0.007556449062954574,0.0,0.0,0.0,0.0,0.0,0.027401122518391243,-0.005735825932652982,-0.13918519169019078,-0.03837511952673375,0.07397985429102956,0.07118413738306335,-0.06690863370624764,-0.019999653123681228,0.0,0.07129869699472932,0.0,0.0003845783263300075,0.007812185437655136,0.013296789671936517,-0.015074476522996953,0.0,0.0,0.0,-0.4764555837519501,0.044774673980920845,0.0,0.0,0.0,0.0,0.0627372164134392,0.006121370488230124,0.0,0.0,0.0,0.0,-0.1553214362672423,0.0,0.007908565480745703,0.0,-0.4669576899333366,0.0,0.0,0.004621705827205726,0.0,0.0,0.004017962836890132,-0.14810211288644837,0.0,0.0,0.027996593568201906,0.0,0.0,0.0,0.013305936096045776,0.07749926355399639,0.009364837404497712,0.0,-0.1435474450156492,0.0,0.0,0.0,0.0,0.0,0.0,0.0,0.05079690121375705,0.0,-0.1319014093060886,0.0,0.0,0.0,0.03143344210678646,0.0,0.0,0.0,0.009921124391589127,0.0,-0.13523432982921085,0.0,0.0,0.0,0.0,0.0,0.0,0.0,0.0,-0.0412304569234096,0.0,0.05915156462976952,0.0,0.0,0.0,0.0,0.0,0.0,0.0,0.0,0.0,0.0,0.0,0.0,0.0,0.0,0.0,0.0,0.036726106170284094,0.04784182964033541,-0.05270275986391537,0.04638832890568341,0.08176877670235869,0.0127659521739527,-0.1347476640769176,0.05238423632292285,0.008823507742080421,-0.04452683359908355,0.07042481753537076,0.0673874201417667,0.0,-0.02182076281813695,0.014635866494820361,0.08103119144284492,0.0,0.05220422497434691,-0.004430508372677075,0.004192090733264987,0.040236374797141546,0.001887184142765988,0.0,-0.037500958229236166,0.06392666985042009,0.039095893421196834,0.053400959043958925,-0.014471170754232278,0.052052810584102965,0.0,-0.010700638578088001,0.0,0.01845471393616172,0.013889252147892892,0.056178412956678386,0.0,0.0052714890674468665,-0.13334049977475973,-0.0008097379101478378,0.0,0.0,0.0,0.032149720706498706,0.0,0.04342344376028657,-0.14751879683460922,0.013876656860353123,0.001923963224032605,0.013620782206228862,0.0423870646165629,0.07784090490009778,0.0,0.07664926075724601,0.08162050934722076,0.013884473952175779,0.0,0.0,0.0,0.0,0.0,0.0,0.03593537776089361,-0.008010616900325238,0.06784481656387846,0.0,0.06836913767399641,-0.08796414248653621,-0.021933548734579922,0.031981547061940015,0.009300689163866411,0.0031046155554737965,-0.09803279957371394,0.03982205833991204,-0.010262782654514052,0.0,0.08016842504281442,-0.0495969015574019,0.0,0.0,-0.04539940054129227,0.0,0.033210670859672026,0.0,-0.05221932794030584,0.010556331624763554,0.07930230044616915,-0.2459631948068166,0.0018782200651854264,0.05852806088706356,0.00467849764695036,0.026857390546678878,0.0,0.0,0.0,-0.0327106095708383,0.06652958808803931,0.0,0.0,0.0,0.0,0.006323089210798266,-0.2522341093412243,-0.13761998531817152,0.0,0.0,0.07865441995334296,-0.00600927044271806,-0.06123946315580796,-0.0036546363823286134,0.06604605874006471,0.06001046070903187,0.03905196470888901,0.0,-0.1318976269334819,0.028733872172361497,0.07137602002031124,0.0002700640820826401,0.0029896656124779454,0.014047813527937362,0.00823698453316682,0.0687187165007491,0.035947937107019254,-0.004534095343666406,0.009546875114765287,0.0,0.040226718495849,0.00657188587972002,0.0,0.0,0.0,0.06160640055633427,0.0,0.0,0.08411560358903593,0.015315747329027844,0.0,0.0,0.0,0.0,0.0,0.04217777966990818,-0.012127133759224326,0.03774351764865457,0.0,0.01116519500284355,0.0,0.0,0.001330829510751296,-0.011867791298279607,0.0,0.04186677533185748,0.0,-0.13808732019148579,-0.0008282057913721501,0.0,0.0,0.0,0.0,0.0,0.0005324840557741183,-0.033716844756294544,0.015315747329027844,-0.13744356370962726,-0.14984342996879857,0.0,0.0,-0.13690673772760295,0.0,0.012187824825882787,0.006446539995689732,0.005369148880400069,-0.30932730536887515,-0.14293321229991612,-0.016667457383500273,0.0,0.0,-0.35375124517434103,-0.17013481389791904,0.008565682232206575,0.0,0.0,0.011376892629716879,-0.004096676571947587,0.042186062209087244,0.002170437246352054,0.0,0.0,0.0,0.0,0.0,0.061612266137459425,0.0,0.0,0.0,0.0,0.0,0.0,0.0,0.0,0.0,0.0,0.02785126716852106,-0.4336509109661035,-0.2235429560948361,-0.05932959203606046,0.027616407239546312,-0.001603198362153659,-0.058800653744526386,0.04195413729226034,0.06448847179937534,0.0,0.0564411010937563,0.050033978495013454,-0.06622517419292048,0.0722833184117638,0.0,0.0,0.0,0.001993879695955927,-0.021025634274582143,0.0,0.0,0.0,0.02431370768726902,0.06299489731498027,0.003715047925430582,0.06972624574785576,-0.14354216917479146,0.0,0.0,-0.015060190570799086,0.0,0.05226268724581769,0.0,0.049814224315613206,0.0,0.0,0.0,0.0,0.0,0.0,0.0,-0.005180196376518039,-0.1395496436372114,0.0,-0.07061460029452442,0.0,0.0,0.0,0.0,0.0806896790180828,0.0,-0.13601706852849216,0.0,0.0,0.0,0.0,0.0,0.0,0.0,-0.04082291064503203,0.013509613213464774,0.06880459036725554,0.0,0.052902244613390076,0.0,0.003995314663774229,-0.04433609900216461,0.00798346797708303,0.0014632418335046788,-0.00794891352357676,0.07759694815959503,0.0,0.0,0.0,0.0,0.0,-0.003605887016019572,-0.006981552296365362,0.0,0.0,-0.009231047912648708,0.0,-0.16451629372761745,0.025153444047657514,0.0,0.0,-0.14135851834596594,0.07529705611253633,0.0,0.0,0.07335472623273225,0.0,0.0,0.0,0.0,0.07049210103618854,0.0,0.0,0.0,0.0031439419910513503,0.07431122329982187,0.005391745237517945,0.04972671440727704,0.0,0.05483596271695454,0.0,0.0,0.0,0.07492006103911565,0.033206724277052166,0.0,0.0,0.0,-0.005163069719020622,0.011533654791726933,0.0,0.07572613820829634,0.03034356478149045,0.00014313744941407927,-0.13584026400539878,0.0,0.0,-0.2980912832967888,0.06906118062103823,-0.0054167062912462705,0.012788548531074403,0.0,0.0,0.0,0.0,0.0,0.0,-0.009713447671564786,0.015121210375757544,0.0,0.0,0.0,0.0,-0.14402194598904305,0.0,0.0,0.0,0.03510697105147964,0.0,0.0,0.0,-0.0775379559279221,0.0,0.009609766604479951,0.016393477103580485,0.0,0.06897094509295768,0.0,0.0,0.0,0.0,0.0,0.0,0.0,-0.13333268268293721,0.023466635589631312,-0.1489934806413906,0.0024756411801153937,0.0,0.0,-0.07888208852660274,-0.15025761023992804,0.04255131499128621,0.0,0.010310418907510365,-0.13289532253362915,0.0,0.006267451917200347,0.0,0.07137540171837066,-0.10128493305795705,0.0,-0.14214365289176267,0.008929885770271963,0.0,0.0,0.0,0.04562212829848061,-0.12869212146031528,0.0,0.0,0.0070604769519752,0.0,0.0,0.0,0.0,0.0,0.0,-0.013484559398546224,-0.005185208810004861,-0.005663424679732458,-0.004871573405969647,0.0010527128285684228,-0.004972523318643248,-0.0024535456746628444,-0.020498522681101285,-0.0029311689899351877,0.007500610566005285,-0.000622356552130261,-0.004910801915267837,0.007756839448305944,0.0010112207403805038,0.07852796463281833,-0.003461360542285379,0.011679974939370398,0.006060605699415019,-0.00134101596376177,0.03075695167843888,0.06978892722494907,0.21591809850158591,-0.008167460689693918,-0.0055730189410318366,-0.0006498654150949039,-0.007493986482175053,-0.008092166258267969,0.00040274410690183484,0.005901007532699154,-0.007467483283852095,-0.008203640256750088,0.03582706543805689,0.0006712973384728785,-0.013414482072392686,0.007218957847543011,-0.0007361813885272957,0.0,0.06300262789344652,0.13421594297282902,0.0027843977608486333,0.06712650873427006,-0.006320113195334564,0.017885929786607215,-0.005696098430399305,-0.001179164150213813,0.01279441669814838,0.06870085794166607,0.0615056632087294,0.003879117331669414,-0.004519806506961033,0.0033210879119256616,-0.00023130441735832717,-0.005504968862053971,-0.003927689612056376,0.009861924895048784,-0.003921223436879545,-0.0023040960134730584,0.001368300816483544,-0.007125709855243447,-0.0037104141061745422,-6.702515525411653e-05,-0.00689097662094178,-0.0018433376159609123,0.009001112059716944,0.012900266981783055,-0.0061734261233425255,0.005912098998735755,0.0025784019281691116,0.0010209946121695578,0.05120514562968895,0.023425849535633002,0.07242916476332441,-0.005668783156700214,-0.007225944205290092,0.004830278989962001,-0.010413062157004119,-0.001141696054994854,-0.0031006397903902976,0.008665452632940928,-0.0005175114458053233,-0.002859425886143388,-0.001812037407710866,-0.005247517467597278,0.00016568098640395082,0.0003119921006234062,0.02264043635946709,0.005692271779546074,-0.00020125759351916943,-0.002602725051765836,0.0010545734020015437,0.005016742658138917,-0.0037662331844145205,-0.00528939956846257,-0.0039060184699114295,-0.011021557530770673,0.00115117804258593,-0.0033375606537177785,0.006746368643805485,0.006630634787934663]\n",
            "Intercept: -17.60896682087477\n"
          ],
          "name": "stdout"
        }
      ]
    },
    {
      "cell_type": "code",
      "metadata": {
        "id": "bRKl6YvyLiKS"
      },
      "source": [
        "model_path = \"/content/gdrive/My Drive/Big Data/\" + \"modeldatekalpani\"\n",
        "lr_model.save(model_path)"
      ],
      "execution_count": 34,
      "outputs": []
    },
    {
      "cell_type": "code",
      "metadata": {
        "id": "fT_G-0zyMTR-"
      },
      "source": [
        "from pyspark.ml.regression import LinearRegressionModel\n",
        "model2 = LinearRegressionModel.load(model_path)"
      ],
      "execution_count": 35,
      "outputs": []
    },
    {
      "cell_type": "code",
      "metadata": {
        "id": "GRpiuUb0Mewl"
      },
      "source": [
        "model2_predict = model2.transform(test_data.limit(10))"
      ],
      "execution_count": 36,
      "outputs": []
    },
    {
      "cell_type": "code",
      "metadata": {
        "id": "r1_MInfIMf7Q",
        "colab": {
          "base_uri": "https://localhost:8080/"
        },
        "outputId": "ede6bb83-5e2c-45bb-b309-7e810d7fc556"
      },
      "source": [
        "model2_predict.select(\"prediction\",\"violation_probability\",\"features\").show(10,False)"
      ],
      "execution_count": 38,
      "outputs": [
        {
          "output_type": "stream",
          "text": [
            "+---------------------+---------------------+------------------------------------------------+\n",
            "|prediction           |violation_probability|features                                        |\n",
            "+---------------------+---------------------+------------------------------------------------+\n",
            "|0.029765229807242832 |0.07258              |(1126,[0,1,3,104,1097],[2014.0,1.0,1.0,1.0,1.0])|\n",
            "|0.011169659261572207 |0.01613              |(1126,[0,1,3,104,1101],[2014.0,1.0,1.0,1.0,1.0])|\n",
            "|0.0187673862443134   |0.125                |(1126,[0,1,7,155,1088],[2014.0,1.0,1.0,1.0,1.0])|\n",
            "|0.034323815498193966 |0.25                 |(1126,[0,1,7,155,1105],[2014.0,1.0,1.0,1.0,1.0])|\n",
            "|0.03228899765318971  |0.25                 |(1126,[0,1,7,155,1125],[2014.0,1.0,1.0,1.0,1.0])|\n",
            "|0.03707966588781275  |0.00152              |(1126,[0,1,8,103,1058],[2014.0,1.0,1.0,1.0,1.0])|\n",
            "|0.689909834399586    |1.0                  |(1126,[0,1,8,45,1072],[2014.0,1.0,1.0,1.0,1.0]) |\n",
            "|0.0699534583914243   |0.03805              |(1126,[0,1,8,103,1073],[2014.0,1.0,1.0,1.0,1.0])|\n",
            "|-0.006037283310877939|0.00319              |(1126,[0,1,10,77,1080],[2014.0,1.0,1.0,1.0,1.0])|\n",
            "|-0.005210233489211902|0.01278              |(1126,[0,1,10,77,1104],[2014.0,1.0,1.0,1.0,1.0])|\n",
            "+---------------------+---------------------+------------------------------------------------+\n",
            "\n"
          ],
          "name": "stdout"
        }
      ]
    },
    {
      "cell_type": "code",
      "metadata": {
        "id": "18hhqS8xMsuq",
        "colab": {
          "base_uri": "https://localhost:8080/"
        },
        "outputId": "a0d57176-b2d8-4804-f15a-f7d20bc07912"
      },
      "source": [
        "\n",
        "print(\"Coefficients: \" + str(lr_model.coefficients))\n",
        "print(\"Intercept: \" + str(lr_model.intercept))"
      ],
      "execution_count": 39,
      "outputs": [
        {
          "output_type": "stream",
          "text": [
            "Coefficients: [0.009198163663188954,0.0007132379265789565,0.0,0.00044106002476779015,-0.0013641567249116256,-0.0012469658649644725,0.0009345608173774357,0.0007468333335242719,-0.0008519526414548507,-0.0012749430529274532,-0.0015730254403098834,-0.001982919996667503,-0.002291051157028357,-0.0012971314057212075,-0.0019044679049337058,-0.0017944670187404418,-0.0010456938696567642,-0.001542613875581202,-0.0013093295515321727,-0.0009944856412085817,0.00021236333221708853,-0.0007951623239941529,-0.0014767461679889686,-0.0022948276754486117,-0.0023311637193822684,-0.0015468234287413234,-0.0016111699437178387,0.0007219273619567959,0.0015501216591279185,-0.0008375101339742665,-0.0017416326826572215,-0.0003846349227402771,-0.0012548761100173392,0.0,-0.9240278688905341,-0.34349396504173335,-0.13726919982468336,-0.1990149213700992,-0.9242521541788046,-0.922491443547461,-0.9193839605864045,-0.20641451893649526,-0.9223770383626877,-0.9261154129642374,-0.18529229292576546,-0.2388806643714731,-0.9265757716382307,-0.9270504399205944,-0.21711512789577217,-0.21205226579098993,-0.9258148968179357,-0.924921710273253,-0.9242914473366399,-0.9242328055369544,-0.12461974228522658,-0.4919128486441252,-0.9177209066975295,-0.9206743434408056,-0.9156600860049012,-0.9142554162983981,-0.5197265248339851,-0.9181916433688422,-0.09531011145159432,-0.91218721534042,-0.039456714344876166,-0.9115317512725362,-0.9141427140769952,-0.9162475256053354,-0.028268115363666454,-0.11993710486394303,-0.08033804640208154,-0.05668740901535783,-0.09031359077807137,-0.9182476389985794,-0.9148170805541627,-0.903452910899776,-0.9179323175964,-0.9173846029728787,-0.9177436799417317,-0.9185690804842145,-0.9189294248963572,-0.9174811636243843,-0.9185339186455463,-0.9155195974540484,-0.054925608603203765,-0.9184337212788118,-0.049988903909374306,-0.08451234941334508,-0.022459905570840776,-0.09777514804296739,-0.08608522421988875,-0.03105353972691958,-0.021757551012243595,-0.9125729886689662,-0.9157832792195953,-0.9149514261951661,-0.9136296037371954,-0.10823843193412448,-0.12243328119317422,-0.9139081878431379,-0.9158161495388336,-0.9142279807441929,-0.9066014230714446,-0.9147434816231521,-0.9109497144675236,-0.9145675932864424,-0.9059263187889716,-0.17338601410707144,-0.9122316258185971,-0.906259973089341,-0.9148687338533845,-0.9147098947075337,-0.9148006186144708,-0.09210451120344268,-0.8841779216594547,-0.1470678897072808,-0.9121565367012598,-0.9190061787407865,-0.05342625530841308,-0.10588819004141688,-0.18357992160869177,-0.9171553706260388,-0.1941282482638412,-0.915669981983443,-0.0715533168578626,-0.029286296603185144,0.0076713187038600006,-0.9172731444885793,-0.04036352986167581,-0.08878801734808447,-0.02633678515498121,-0.0889672911614799,-0.05239530096099729,-0.89996895177667,-0.898534614088697,-0.9186877801527021,-0.9196567685207431,-0.917600990296181,-0.9148596049892107,-0.9135019554445802,-0.9154285392183232,-0.9200651503121963,-0.9210115735080574,-0.9198310116998429,-0.9057385218743762,-0.9180080722845511,-0.9075329783911107,-0.920715653798753,-0.9233798122880675,-0.1298242359186796,-0.12928844783094742,-0.11621501422216081,-0.16134148077590627,-0.89773350503299,-0.8832415219450654,-0.8919365051826327,-0.8441945032040921,0.0018422546131130584,-0.007765284960436466,0.019920416236578257,-0.007153878857703752,-0.1223438743006211,0.019919397231459593,-0.0642884996712257,0.06914565943752876,-0.29407640175112176,-0.0019938953207117704,-0.01867002643164925,0.06977503875744313,-0.31160594358032695,0.03923335852255304,-0.049526909289590436,0.0,0.061118294905968026,-0.01900940080077979,-0.012961492781683875,0.0003959352437510718,-0.07765163298816413,0.06255966171227388,-0.08937328360979603,0.03731925645694206,0.05546596331830958,0.006796118372646403,0.0676775723321049,0.06719137257173977,0.06073865092472451,0.0007291980360027031,0.0,0.0,0.07292271445405088,0.005289037494124982,0.0,0.0,0.0179548333244338,-0.011242486962465121,-0.17636010057534274,0.016181708417029976,-0.09574225055436943,-0.03730014678101566,0.03739786607657749,-0.0070908401884556705,-0.02740596022699048,0.035067332418994665,0.02031690739954686,0.017088564971860943,-0.14689912506929187,-0.026009509471566276,0.006326186068898925,-0.0020013264020868147,-0.14356225290948826,-0.006797344192818644,0.02077791076908427,-0.06086840774882828,-0.08679310094943588,-0.02193729477415682,0.03253915264031372,-0.03654606644666237,0.04375960523817752,0.0,0.0,0.039445230833980265,-0.07892661074717423,0.04301022000516446,0.04298155785095947,-0.004241655362999765,0.0,-0.07201263800801763,-0.14291264549350105,0.0,0.0,0.06348107606829846,0.0,0.056780461481666024,0.05962138042760951,0.023980122769781186,0.0019760686883371252,-0.13737407260091425,-0.1379303316489274,0.06490119196100852,0.02937700166637495,-0.040359394881005546,-0.012084399131326784,-0.07567868005262973,0.045312925166834404,0.04655224415381947,0.020802444428718533,0.03946568002697658,-0.02047473405726891,0.014567308093803109,0.0,0.04159276097710374,0.05841874800401876,0.03844940235704194,-0.0012898199309295155,0.0,-0.0029629311262009007,-0.3214935225513823,-0.16423813750219587,-0.268649134532751,0.036916721702934474,0.06388756813555968,-0.19734995955517487,0.0,0.023034162221056913,0.0,0.08258291429603141,-0.13590036394270547,-0.050299714140640446,0.0,0.0,0.0,0.0,0.0,0.0,0.017563672665817272,0.013876464684496359,-0.07161328215404791,0.0034457354540583345,0.0014364954820137855,-0.011073925880856846,0.01249828593501276,0.007134324869555828,0.07221743194402003,0.0345781686651033,0.0,0.022923608992999396,0.0,0.0,0.0,0.0,0.0,0.0,0.0,0.0,0.029585864813440384,-0.0287938645404783,-0.003523971051326037,0.0,0.0,-0.13328778699425153,0.008264646351802688,0.00711910381051605,-0.002397233602410375,-0.021152712571034616,0.011780685952964344,-0.0792137653366876,-0.07007996766790342,-0.1371748080770369,-0.03294252737201986,0.00966566028235908,0.0561232323164911,0.0,0.029769175750830348,0.06995753351338095,-0.010064447189705731,0.0,0.03763173916016601,0.013854060503233413,0.0,0.0,0.03761122267486631,0.0,0.0,0.0,0.04191764288202209,0.0,0.0,0.0,0.0,0.0,0.0,0.0,0.0,0.019649738307364824,0.01855791793825495,-0.013574567152601857,0.00885597765160239,0.05059078275651117,0.04440872597493617,0.021797696730648342,0.03042717401478617,0.07209031876988739,0.013884473952175779,0.038135104751192965,0.011589189831093466,-0.007662365218855887,-0.012920299974077266,0.032339557798072516,0.0,0.0,0.07657976964853824,0.02435673703628997,0.040048775735491066,0.0,0.0,0.0,-0.3147803219628977,0.0,0.0,-0.021423591709748713,0.0,0.028037061888636,0.0,-0.12146251541480253,0.06594190835657794,-0.11929856685004973,-0.012403887147621993,0.0,0.0,0.0,-0.027052938710419357,0.0,0.0,0.0,0.0,0.014766326059466175,0.06731542061558657,0.0,-0.0022830502919961707,0.0,0.004289485844286939,0.0,0.0,0.002052307326148581,0.0,0.0080822034484026,0.001358172411361596,0.0,0.0,0.0,0.0,0.0,0.0,0.0,0.0,-0.13289532253362915,0.0,0.0,0.07389756369738507,-0.14657223181432044,0.03665302418430746,0.03225321914002545,-0.1319014093060886,0.0,-0.06168200201124037,-0.13464606566542045,0.07143832045215524,0.0,0.04324325075899955,0.0,0.0,0.0,0.0,0.0,-0.30402247480371536,0.0,0.08265677733791287,0.0,0.0,0.0,0.0,0.040528555193872266,0.0,0.0019915990615860836,0.0,0.0,0.0,0.0,0.0,0.0,-0.13869325436767457,0.0,0.0,-5.923653063388109e-05,-0.1404554477510701,-0.14568397296495902,-0.02140444071534223,-0.13599975714879473,-0.08158157274189895,-0.39732818189849967,0.008817105302122456,-0.01223640185940385,-0.008719371828012957,-0.11887046770560092,0.03269262151044814,-0.06564706324388354,0.000978927171269558,-0.020618934998726454,-0.20075466577959278,0.0,0.0243784414765183,-0.08533521112952853,-0.06398238966798686,-0.16533575985424334,0.021458474752930397,-0.01920259599139691,-0.0723360637566495,-0.12177498901383041,-0.1645038895455021,0.03376496319423327,-0.0666878686493358,-0.19394021379993404,0.0,0.038874266366922566,0.005356145584035072,-0.0741287320536361,-0.1137586579677105,0.008154742408621785,0.0,0.07193021972660166,0.0,0.0,0.0,-0.0685082514998986,-0.011477799670491293,-0.08570541356134129,-0.086307922687998,0.017502882282151962,0.04175864852673161,-0.004057571139712303,-0.05273968826004757,0.01799605356715576,0.03320005156847575,-0.18259973773265856,0.0,-0.12266414689376175,0.0,0.0,0.044991341985546614,0.0,0.0,0.0,0.0,-0.14170687120483835,-0.02280955373825248,-0.16002787421153686,0.02812820812994434,0.06781735829820279,-0.019843537903490516,-0.07435190262967899,-0.005086365811179637,-0.10532484661101252,-0.02126818921409289,-0.1027843200416113,-0.18813094084644827,-0.1461611677754569,-0.1355690725246968,0.0,-0.041672554591958136,-0.24167960486885412,-0.2121412183075534,-0.04495680783856902,0.003457866756802789,0.07118801126236464,-0.1438381733638303,-0.038995026360478864,-0.2824238251929339,-0.25232885071510436,0.014469648280850093,0.0,0.025311514394811586,0.0,0.00644425391331652,-0.033722949317251026,-0.007235665933009027,0.011153100564611244,-0.03776456740373182,-0.007556449062954574,0.0,0.0,0.0,0.0,0.0,0.027401122518391243,-0.005735825932652982,-0.13918519169019078,-0.03837511952673375,0.07397985429102956,0.07118413738306335,-0.06690863370624764,-0.019999653123681228,0.0,0.07129869699472932,0.0,0.0003845783263300075,0.007812185437655136,0.013296789671936517,-0.015074476522996953,0.0,0.0,0.0,-0.4764555837519501,0.044774673980920845,0.0,0.0,0.0,0.0,0.0627372164134392,0.006121370488230124,0.0,0.0,0.0,0.0,-0.1553214362672423,0.0,0.007908565480745703,0.0,-0.4669576899333366,0.0,0.0,0.004621705827205726,0.0,0.0,0.004017962836890132,-0.14810211288644837,0.0,0.0,0.027996593568201906,0.0,0.0,0.0,0.013305936096045776,0.07749926355399639,0.009364837404497712,0.0,-0.1435474450156492,0.0,0.0,0.0,0.0,0.0,0.0,0.0,0.05079690121375705,0.0,-0.1319014093060886,0.0,0.0,0.0,0.03143344210678646,0.0,0.0,0.0,0.009921124391589127,0.0,-0.13523432982921085,0.0,0.0,0.0,0.0,0.0,0.0,0.0,0.0,-0.0412304569234096,0.0,0.05915156462976952,0.0,0.0,0.0,0.0,0.0,0.0,0.0,0.0,0.0,0.0,0.0,0.0,0.0,0.0,0.0,0.0,0.036726106170284094,0.04784182964033541,-0.05270275986391537,0.04638832890568341,0.08176877670235869,0.0127659521739527,-0.1347476640769176,0.05238423632292285,0.008823507742080421,-0.04452683359908355,0.07042481753537076,0.0673874201417667,0.0,-0.02182076281813695,0.014635866494820361,0.08103119144284492,0.0,0.05220422497434691,-0.004430508372677075,0.004192090733264987,0.040236374797141546,0.001887184142765988,0.0,-0.037500958229236166,0.06392666985042009,0.039095893421196834,0.053400959043958925,-0.014471170754232278,0.052052810584102965,0.0,-0.010700638578088001,0.0,0.01845471393616172,0.013889252147892892,0.056178412956678386,0.0,0.0052714890674468665,-0.13334049977475973,-0.0008097379101478378,0.0,0.0,0.0,0.032149720706498706,0.0,0.04342344376028657,-0.14751879683460922,0.013876656860353123,0.001923963224032605,0.013620782206228862,0.0423870646165629,0.07784090490009778,0.0,0.07664926075724601,0.08162050934722076,0.013884473952175779,0.0,0.0,0.0,0.0,0.0,0.0,0.03593537776089361,-0.008010616900325238,0.06784481656387846,0.0,0.06836913767399641,-0.08796414248653621,-0.021933548734579922,0.031981547061940015,0.009300689163866411,0.0031046155554737965,-0.09803279957371394,0.03982205833991204,-0.010262782654514052,0.0,0.08016842504281442,-0.0495969015574019,0.0,0.0,-0.04539940054129227,0.0,0.033210670859672026,0.0,-0.05221932794030584,0.010556331624763554,0.07930230044616915,-0.2459631948068166,0.0018782200651854264,0.05852806088706356,0.00467849764695036,0.026857390546678878,0.0,0.0,0.0,-0.0327106095708383,0.06652958808803931,0.0,0.0,0.0,0.0,0.006323089210798266,-0.2522341093412243,-0.13761998531817152,0.0,0.0,0.07865441995334296,-0.00600927044271806,-0.06123946315580796,-0.0036546363823286134,0.06604605874006471,0.06001046070903187,0.03905196470888901,0.0,-0.1318976269334819,0.028733872172361497,0.07137602002031124,0.0002700640820826401,0.0029896656124779454,0.014047813527937362,0.00823698453316682,0.0687187165007491,0.035947937107019254,-0.004534095343666406,0.009546875114765287,0.0,0.040226718495849,0.00657188587972002,0.0,0.0,0.0,0.06160640055633427,0.0,0.0,0.08411560358903593,0.015315747329027844,0.0,0.0,0.0,0.0,0.0,0.04217777966990818,-0.012127133759224326,0.03774351764865457,0.0,0.01116519500284355,0.0,0.0,0.001330829510751296,-0.011867791298279607,0.0,0.04186677533185748,0.0,-0.13808732019148579,-0.0008282057913721501,0.0,0.0,0.0,0.0,0.0,0.0005324840557741183,-0.033716844756294544,0.015315747329027844,-0.13744356370962726,-0.14984342996879857,0.0,0.0,-0.13690673772760295,0.0,0.012187824825882787,0.006446539995689732,0.005369148880400069,-0.30932730536887515,-0.14293321229991612,-0.016667457383500273,0.0,0.0,-0.35375124517434103,-0.17013481389791904,0.008565682232206575,0.0,0.0,0.011376892629716879,-0.004096676571947587,0.042186062209087244,0.002170437246352054,0.0,0.0,0.0,0.0,0.0,0.061612266137459425,0.0,0.0,0.0,0.0,0.0,0.0,0.0,0.0,0.0,0.0,0.02785126716852106,-0.4336509109661035,-0.2235429560948361,-0.05932959203606046,0.027616407239546312,-0.001603198362153659,-0.058800653744526386,0.04195413729226034,0.06448847179937534,0.0,0.0564411010937563,0.050033978495013454,-0.06622517419292048,0.0722833184117638,0.0,0.0,0.0,0.001993879695955927,-0.021025634274582143,0.0,0.0,0.0,0.02431370768726902,0.06299489731498027,0.003715047925430582,0.06972624574785576,-0.14354216917479146,0.0,0.0,-0.015060190570799086,0.0,0.05226268724581769,0.0,0.049814224315613206,0.0,0.0,0.0,0.0,0.0,0.0,0.0,-0.005180196376518039,-0.1395496436372114,0.0,-0.07061460029452442,0.0,0.0,0.0,0.0,0.0806896790180828,0.0,-0.13601706852849216,0.0,0.0,0.0,0.0,0.0,0.0,0.0,-0.04082291064503203,0.013509613213464774,0.06880459036725554,0.0,0.052902244613390076,0.0,0.003995314663774229,-0.04433609900216461,0.00798346797708303,0.0014632418335046788,-0.00794891352357676,0.07759694815959503,0.0,0.0,0.0,0.0,0.0,-0.003605887016019572,-0.006981552296365362,0.0,0.0,-0.009231047912648708,0.0,-0.16451629372761745,0.025153444047657514,0.0,0.0,-0.14135851834596594,0.07529705611253633,0.0,0.0,0.07335472623273225,0.0,0.0,0.0,0.0,0.07049210103618854,0.0,0.0,0.0,0.0031439419910513503,0.07431122329982187,0.005391745237517945,0.04972671440727704,0.0,0.05483596271695454,0.0,0.0,0.0,0.07492006103911565,0.033206724277052166,0.0,0.0,0.0,-0.005163069719020622,0.011533654791726933,0.0,0.07572613820829634,0.03034356478149045,0.00014313744941407927,-0.13584026400539878,0.0,0.0,-0.2980912832967888,0.06906118062103823,-0.0054167062912462705,0.012788548531074403,0.0,0.0,0.0,0.0,0.0,0.0,-0.009713447671564786,0.015121210375757544,0.0,0.0,0.0,0.0,-0.14402194598904305,0.0,0.0,0.0,0.03510697105147964,0.0,0.0,0.0,-0.0775379559279221,0.0,0.009609766604479951,0.016393477103580485,0.0,0.06897094509295768,0.0,0.0,0.0,0.0,0.0,0.0,0.0,-0.13333268268293721,0.023466635589631312,-0.1489934806413906,0.0024756411801153937,0.0,0.0,-0.07888208852660274,-0.15025761023992804,0.04255131499128621,0.0,0.010310418907510365,-0.13289532253362915,0.0,0.006267451917200347,0.0,0.07137540171837066,-0.10128493305795705,0.0,-0.14214365289176267,0.008929885770271963,0.0,0.0,0.0,0.04562212829848061,-0.12869212146031528,0.0,0.0,0.0070604769519752,0.0,0.0,0.0,0.0,0.0,0.0,-0.013484559398546224,-0.005185208810004861,-0.005663424679732458,-0.004871573405969647,0.0010527128285684228,-0.004972523318643248,-0.0024535456746628444,-0.020498522681101285,-0.0029311689899351877,0.007500610566005285,-0.000622356552130261,-0.004910801915267837,0.007756839448305944,0.0010112207403805038,0.07852796463281833,-0.003461360542285379,0.011679974939370398,0.006060605699415019,-0.00134101596376177,0.03075695167843888,0.06978892722494907,0.21591809850158591,-0.008167460689693918,-0.0055730189410318366,-0.0006498654150949039,-0.007493986482175053,-0.008092166258267969,0.00040274410690183484,0.005901007532699154,-0.007467483283852095,-0.008203640256750088,0.03582706543805689,0.0006712973384728785,-0.013414482072392686,0.007218957847543011,-0.0007361813885272957,0.0,0.06300262789344652,0.13421594297282902,0.0027843977608486333,0.06712650873427006,-0.006320113195334564,0.017885929786607215,-0.005696098430399305,-0.001179164150213813,0.01279441669814838,0.06870085794166607,0.0615056632087294,0.003879117331669414,-0.004519806506961033,0.0033210879119256616,-0.00023130441735832717,-0.005504968862053971,-0.003927689612056376,0.009861924895048784,-0.003921223436879545,-0.0023040960134730584,0.001368300816483544,-0.007125709855243447,-0.0037104141061745422,-6.702515525411653e-05,-0.00689097662094178,-0.0018433376159609123,0.009001112059716944,0.012900266981783055,-0.0061734261233425255,0.005912098998735755,0.0025784019281691116,0.0010209946121695578,0.05120514562968895,0.023425849535633002,0.07242916476332441,-0.005668783156700214,-0.007225944205290092,0.004830278989962001,-0.010413062157004119,-0.001141696054994854,-0.0031006397903902976,0.008665452632940928,-0.0005175114458053233,-0.002859425886143388,-0.001812037407710866,-0.005247517467597278,0.00016568098640395082,0.0003119921006234062,0.02264043635946709,0.005692271779546074,-0.00020125759351916943,-0.002602725051765836,0.0010545734020015437,0.005016742658138917,-0.0037662331844145205,-0.00528939956846257,-0.0039060184699114295,-0.011021557530770673,0.00115117804258593,-0.0033375606537177785,0.006746368643805485,0.006630634787934663]\n",
            "Intercept: -17.60896682087477\n"
          ],
          "name": "stdout"
        }
      ]
    },
    {
      "cell_type": "code",
      "metadata": {
        "id": "L4imVQFcMyhK",
        "colab": {
          "base_uri": "https://localhost:8080/"
        },
        "outputId": "72a4ea0b-8f57-42b1-b400-fdb1b54c39c3"
      },
      "source": [
        "lr_predictions = lr_model.transform(test_data)\n",
        "lr_predictions.select(\"prediction\",\"violation_probability\",\"features\").show(100)"
      ],
      "execution_count": 40,
      "outputs": [
        {
          "output_type": "stream",
          "text": [
            "+--------------------+---------------------+--------------------+\n",
            "|          prediction|violation_probability|            features|\n",
            "+--------------------+---------------------+--------------------+\n",
            "|0.029765229807242832|              0.07258|(1126,[0,1,3,104,...|\n",
            "|0.011169659261572207|              0.01613|(1126,[0,1,3,104,...|\n",
            "|  0.0187673862443134|                0.125|(1126,[0,1,7,155,...|\n",
            "|0.034323815498193966|                 0.25|(1126,[0,1,7,155,...|\n",
            "| 0.03228899765318971|                 0.25|(1126,[0,1,7,155,...|\n",
            "| 0.03707966588781275|              0.00152|(1126,[0,1,8,103,...|\n",
            "|   0.689909834399586|                  1.0|(1126,[0,1,8,45,1...|\n",
            "|  0.0699534583914243|              0.03805|(1126,[0,1,8,103,...|\n",
            "|-0.00603728331087...|              0.00319|(1126,[0,1,10,77,...|\n",
            "|-0.00521023348921...|              0.01278|(1126,[0,1,10,77,...|\n",
            "|-0.00194391271242...|              0.00319|(1126,[0,1,10,77,...|\n",
            "| 0.02053084266064431|              0.00319|(1126,[0,1,10,77,...|\n",
            "|  0.2135366842138282|              0.13855|(1126,[0,1,13,76,...|\n",
            "| 0.06474509444651133|              0.05723|(1126,[0,1,13,76,...|\n",
            "| 0.06631944365391007|              0.03012|(1126,[0,1,13,76,...|\n",
            "|0.003530684710977283|              0.00301|(1126,[0,1,13,76,...|\n",
            "| 0.02104443524787669|              0.02711|(1126,[0,1,13,76,...|\n",
            "| 0.06917251293712923|              0.05311|(1126,[0,1,15,123...|\n",
            "|-0.00784235849311088|               0.0013|(1126,[0,1,15,123...|\n",
            "|-0.00767164734238...|              0.00151|(1126,[0,1,17,148...|\n",
            "|-0.00419527411761...|              0.00452|(1126,[0,1,17,148...|\n",
            "|-0.00830569586664609|              0.00753|(1126,[0,1,17,148...|\n",
            "|-0.01200208106134...|              0.00151|(1126,[0,1,17,148...|\n",
            "|-0.01530033565457...|              0.00151|(1126,[0,1,17,148...|\n",
            "|-0.01093381733543...|              0.00151|(1126,[0,1,17,148...|\n",
            "|-0.01184062463370239|              0.00151|(1126,[0,1,17,148...|\n",
            "|-0.00144375666135...|              0.00452|(1126,[0,1,17,148...|\n",
            "| 0.07958089509150312|               0.0634|(1126,[0,1,19,112...|\n",
            "| 0.21697102896026976|              0.55908|(1126,[0,1,19,112...|\n",
            "|0.007683565246619395|              0.00576|(1126,[0,1,19,112...|\n",
            "| 0.07962941082802288|              0.08247|(1126,[0,1,21,95,...|\n",
            "| 0.03185839787364131|              0.15464|(1126,[0,1,21,95,...|\n",
            "| 0.06750939914119769|              0.17742|(1126,[0,1,21,123...|\n",
            "| 0.06908374834859643|              0.06452|(1126,[0,1,21,123...|\n",
            "|0.004262007738599749|              0.01613|(1126,[0,1,21,123...|\n",
            "| 0.00593172518516738|              0.01031|(1126,[0,1,21,95,...|\n",
            "|0.005213169396892425|              0.03226|(1126,[0,1,21,123...|\n",
            "|-0.01003017175007...|              0.03226|(1126,[0,1,21,123...|\n",
            "|0.007732080983139156|              0.02062|(1126,[0,1,21,95,...|\n",
            "|-0.01240583084155...|              0.00196|(1126,[0,1,23,34,...|\n",
            "|-0.00341405615220...|               0.0609|(1126,[0,1,23,34,...|\n",
            "|-0.01579477504695...|              0.00196|(1126,[0,1,23,34,...|\n",
            "|0.008411267934988587|              0.00982|(1126,[0,1,23,34,...|\n",
            "|0.013951187684014599|              0.00196|(1126,[0,1,23,34,...|\n",
            "|-8.09209218679996E-4|              0.01572|(1126,[0,1,23,34,...|\n",
            "| 0.08310876564055292|                0.125|(1126,[0,1,24,134...|\n",
            "| 0.07557318603462093|              0.02162|(1126,[0,1,26,61,...|\n",
            "|0.008725196341170971|              0.00541|(1126,[0,1,26,61,...|\n",
            "|0.003105827101215...|              0.02162|(1126,[0,1,26,61,...|\n",
            "|0.027802173080239356|              0.16216|(1126,[0,1,26,61,...|\n",
            "| 0.06574607934346943|              0.21081|(1126,[0,1,26,61,...|\n",
            "|3.663093137262763E-4|              0.00541|(1126,[0,1,26,61,...|\n",
            "|-0.00264278649757...|              0.00541|(1126,[0,1,26,61,...|\n",
            "| 0.03127812071976521|              0.04878|(1126,[0,1,3,81,1...|\n",
            "| 0.23538581707860118|              0.00855|(1126,[0,1,3,134,...|\n",
            "|0.022046120505184064|              0.04274|(1126,[0,1,3,134,...|\n",
            "|0.020488713189184438|              0.02564|(1126,[0,1,3,134,...|\n",
            "|-0.00114305372780...|                  0.2|(1126,[0,1,4,127,...|\n",
            "| 0.02234982096308613|              0.02857|(1126,[0,1,4,127,...|\n",
            "| 0.07376667569014472|              0.48571|(1126,[0,1,4,138,...|\n",
            "|0.010002963559760047|              0.01905|(1126,[0,1,4,138,...|\n",
            "| 0.06390452304888683|              0.03226|(1126,[0,1,15,52,...|\n",
            "|-0.00830772373120...|                0.002|(1126,[0,1,19,38,...|\n",
            "|-0.00162476147965...|              0.02405|(1126,[0,1,19,38,...|\n",
            "|-0.00842154856760...|                0.002|(1126,[0,1,19,38,...|\n",
            "| 0.05531726071437504|              0.05411|(1126,[0,1,19,38,...|\n",
            "|-0.01338146560946...|                0.002|(1126,[0,1,19,38,...|\n",
            "|9.800854538681847E-4|              0.01002|(1126,[0,1,19,38,...|\n",
            "|-0.01293288464666...|                0.002|(1126,[0,1,19,38,...|\n",
            "|-0.00737337507844...|              0.00401|(1126,[0,1,19,38,...|\n",
            "|0.001429478373616...|              0.00556|(1126,[0,1,22,147...|\n",
            "| 0.05837150056764884|              0.18465|(1126,[0,1,22,147...|\n",
            "| 0.12958481564703206|               0.2792|(1126,[0,1,22,147...|\n",
            "| 0.06249538140847122|              0.06007|(1126,[0,1,22,147...|\n",
            "|-7.52009994126723...|              0.00222|(1126,[0,1,22,147...|\n",
            "|-0.00131003941387...|               0.0178|(1126,[0,1,22,147...|\n",
            "|-0.00469815248105121|              0.00222|(1126,[0,1,22,147...|\n",
            "| 0.06779803743752666|              0.07675|(1126,[0,1,22,147...|\n",
            "|0.004034325307141984|              0.00667|(1126,[0,1,22,147...|\n",
            "|-0.00749055321194092|              0.00111|(1126,[0,1,22,147...|\n",
            "|0.003837630635139533|              0.00463|(1126,[0,1,23,80,...|\n",
            "|-0.00265175919048...|              0.00463|(1126,[0,1,23,80,...|\n",
            "|-0.00431284534596...|              0.00926|(1126,[0,1,23,80,...|\n",
            "| 0.07613682119491472|              0.05111|(1126,[0,1,27,57,...|\n",
            "| 0.07003802132541992|              0.03066|(1126,[0,1,27,57,...|\n",
            "|-0.00207915133728...|              0.01193|(1126,[0,1,27,57,...|\n",
            "| 0.13087455516760116|              0.13491|(1126,[0,1,29,141...|\n",
            "| 0.06535947013643906|              0.01012|(1126,[0,1,29,141...|\n",
            "|5.377295264423765E-4|              0.02024|(1126,[0,1,29,141...|\n",
            "|-0.00317570681882...|              0.00675|(1126,[0,1,29,141...|\n",
            "|0.003289246982706...|              0.01012|(1126,[0,1,29,141...|\n",
            "|0.007965580648466641|              0.00431|(1126,[0,1,6,144,...|\n",
            "|0.013403524355268814|              0.00431|(1126,[0,1,6,144,...|\n",
            "|0.006579572889581442|              0.00862|(1126,[0,1,6,144,...|\n",
            "|0.022136002143462008|              0.05603|(1126,[0,1,6,144,...|\n",
            "|0.013782541611146115|              0.00862|(1126,[0,1,6,144,...|\n",
            "|  0.7581341741610856|              0.66667|(1126,[0,1,20,45,...|\n",
            "| 0.07428498854513421|              0.04255|(1126,[0,1,25,108...|\n",
            "| 0.07692522608351027|              0.17021|(1126,[0,1,25,108...|\n",
            "|0.001395421529796...|              0.01064|(1126,[0,1,25,108...|\n",
            "+--------------------+---------------------+--------------------+\n",
            "only showing top 100 rows\n",
            "\n"
          ],
          "name": "stdout"
        }
      ]
    },
    {
      "cell_type": "code",
      "metadata": {
        "id": "DP0BO1SnM3gO"
      },
      "source": [
        "dataForGrapgh = lr_predictions.select(\"prediction\",\"violation_probability\",\"features\")"
      ],
      "execution_count": 41,
      "outputs": []
    },
    {
      "cell_type": "code",
      "metadata": {
        "id": "MliDYvrzM9CP"
      },
      "source": [
        "dataG =dataForGrapgh.toPandas()"
      ],
      "execution_count": 42,
      "outputs": []
    },
    {
      "cell_type": "code",
      "metadata": {
        "id": "Gwf3nCsGNBOJ",
        "colab": {
          "base_uri": "https://localhost:8080/"
        },
        "outputId": "d636e9e5-86c2-4851-9bfe-22e151bb24f2"
      },
      "source": [
        "# Necessary imports: \n",
        "from sklearn.model_selection import cross_val_score, cross_val_predict\n",
        "from sklearn import metrics\n",
        "accuracy = metrics.r2_score(dataG['violation_probability'], dataG['prediction'])\n",
        "print(\"Cross-Predicted Accuracy:\", accuracy)"
      ],
      "execution_count": 43,
      "outputs": [
        {
          "output_type": "stream",
          "text": [
            "Cross-Predicted Accuracy: 0.5465748870288807\n"
          ],
          "name": "stdout"
        }
      ]
    },
    {
      "cell_type": "code",
      "metadata": {
        "id": "i2UXS8zdNCJe",
        "colab": {
          "base_uri": "https://localhost:8080/",
          "height": 252
        },
        "outputId": "d409d46b-07f6-4809-e25b-1982e515458f"
      },
      "source": [
        "from matplotlib import pyplot as plt\n",
        "plt.rcParams[\"figure.figsize\"] = (24, 8)\n",
        "plt.plot(dataG['prediction'][:100], label = \"Pred\")  # Load the 500 data points from prediction with label name 'Pred'\n",
        "plt.plot(dataG['violation_probability'][:100], label = \"Actual\")"
      ],
      "execution_count": 44,
      "outputs": [
        {
          "output_type": "execute_result",
          "data": {
            "text/plain": [
              "[<matplotlib.lines.Line2D at 0x7fb5b30af450>]"
            ]
          },
          "metadata": {
            "tags": []
          },
          "execution_count": 44
        },
        {
          "output_type": "display_data",
          "data": {
            "image/png": "[encoded data removed]",
            "text/plain": [
              "<Figure size 1728x576 with 1 Axes>"
            ]
          },
          "metadata": {
            "tags": [],
            "needs_background": "light"
          }
        }
      ]
    }
  ]
}