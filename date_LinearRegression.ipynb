{
  "nbformat": 4,
  "nbformat_minor": 0,
  "metadata": {
    "colab": {
      "name": "date_LinearRegression.ipynb",
      "provenance": [],
      "collapsed_sections": [],
      "include_colab_link": true
    },
    "kernelspec": {
      "display_name": "Python 3",
      "name": "python3"
    },
    "language_info": {
      "name": "python"
    }
  },
  "cells": [
    {
      "cell_type": "markdown",
      "metadata": {
        "id": "view-in-github",
        "colab_type": "text"
      },
      "source": [
        "<a href=\"https://colab.research.google.com/github/kalleo1996/pysparkMLExample/blob/main/date_LinearRegression.ipynb\" target=\"_parent\"><img src=\"https://colab.research.google.com/assets/colab-badge.svg\" alt=\"Open In Colab\"/></a>"
      ]
    },
    {
      "cell_type": "code",
      "metadata": {
        "id": "oSF_rJrKfqUO"
      },
      "source": [
        ""
      ],
      "execution_count": null,
      "outputs": []
    },
    {
      "cell_type": "code",
      "metadata": {
        "colab": {
          "base_uri": "https://localhost:8080/"
        },
        "id": "WVgT7Scp99jL",
        "outputId": "856807c8-0aaf-4b53-e3a7-6e605f215258"
      },
      "source": [
        "!pip install pyspark"
      ],
      "execution_count": 1,
      "outputs": [
        {
          "output_type": "stream",
          "text": [
            "Requirement already satisfied: pyspark in /usr/local/lib/python3.7/dist-packages (3.1.2)\n",
            "Requirement already satisfied: py4j==0.10.9 in /usr/local/lib/python3.7/dist-packages (from pyspark) (0.10.9)\n"
          ],
          "name": "stdout"
        }
      ]
    },
    {
      "cell_type": "code",
      "metadata": {
        "id": "JPuyqaq7Aduc"
      },
      "source": [
        "from pyspark.sql import SparkSession"
      ],
      "execution_count": 2,
      "outputs": []
    },
    {
      "cell_type": "code",
      "metadata": {
        "id": "CEt9UFlABkYl"
      },
      "source": [
        "spark = SparkSession \\\n",
        "    .builder \\\n",
        "    .config(\"spark.driver.memory\", \"15g\") \\\n",
        "    .appName(\"Exploratory Analysis\") \\\n",
        "    .getOrCreate()"
      ],
      "execution_count": 3,
      "outputs": []
    },
    {
      "cell_type": "code",
      "metadata": {
        "colab": {
          "base_uri": "https://localhost:8080/"
        },
        "id": "jqYlTH5BBn77",
        "outputId": "e8033843-59d7-4e7b-83c1-f5f32b38f91a"
      },
      "source": [
        "import numpy as np\n",
        "\n",
        "import pandas as pd\n",
        "from google.colab import drive\n",
        "drive.mount(\"/content/gdrive\")"
      ],
      "execution_count": 4,
      "outputs": [
        {
          "output_type": "stream",
          "text": [
            "Drive already mounted at /content/gdrive; to attempt to forcibly remount, call drive.mount(\"/content/gdrive\", force_remount=True).\n"
          ],
          "name": "stdout"
        }
      ]
    },
    {
      "cell_type": "code",
      "metadata": {
        "id": "SW35cPY2Bqpd"
      },
      "source": [
        "parking2017 = spark.read.format(\"csv\").option(\"header\", \"true\").option(\"inferSchema\", \"true\").load('/content/gdrive/My Drive/Big Data/Parking_Violations_Issued_-_Fiscal_Year_2017.csv')\n",
        "parking2016 = spark.read.format(\"csv\").option(\"header\", \"true\").option(\"inferSchema\", \"true\").load('/content/gdrive/My Drive/Big Data/Parking_Violations_Issued_-_Fiscal_Year_2016.csv')\n",
        "parking2015 = spark.read.format(\"csv\").option(\"header\", \"true\").option(\"inferSchema\", \"true\").load('/content/gdrive/My Drive/Big Data/Parking_Violations_Issued_-_Fiscal_Year_2015.csv')\n",
        "parking2014 = spark.read.format(\"csv\").option(\"header\", \"true\").option(\"inferSchema\", \"true\").load('/content/gdrive/My Drive/Big Data/Parking_Violations_Issued_-_Fiscal_Year_2014__August_2013___June_2014_.csv')"
      ],
      "execution_count": 6,
      "outputs": []
    },
    {
      "cell_type": "code",
      "metadata": {
        "id": "IgG9QG5d8UYD"
      },
      "source": [
        ""
      ],
      "execution_count": null,
      "outputs": []
    },
    {
      "cell_type": "code",
      "metadata": {
        "id": "S7VZEwJ1Dqe_"
      },
      "source": [
        "parking2017 = parking2017.dropDuplicates()\n",
        "parking2016 = parking2016.dropDuplicates()\n",
        "parking2015 = parking2015.dropDuplicates()\n",
        "parking2014 = parking2014.dropDuplicates()"
      ],
      "execution_count": 7,
      "outputs": []
    },
    {
      "cell_type": "code",
      "metadata": {
        "id": "VjvLft2LEjwO"
      },
      "source": [
        "parking2017 = parking2017.toDF(*(c.replace(' ', '_') for c in parking2017.columns))\n",
        "parking2016 = parking2016.toDF(*(c.replace(' ', '_') for c in parking2016.columns))\n",
        "parking2015 = parking2015.toDF(*(c.replace(' ', '_') for c in parking2015.columns))\n",
        "parking2014 = parking2014.toDF(*(c.replace(' ', '_') for c in parking2014.columns))"
      ],
      "execution_count": 10,
      "outputs": []
    },
    {
      "cell_type": "code",
      "metadata": {
        "id": "qn5kp3ey4dcT"
      },
      "source": [
        ""
      ],
      "execution_count": null,
      "outputs": []
    },
    {
      "cell_type": "markdown",
      "metadata": {
        "id": "_mPWWkO3FD9l"
      },
      "source": [
        "# Predictions"
      ]
    },
    {
      "cell_type": "code",
      "metadata": {
        "id": "UEn7pbcNFFqX"
      },
      "source": [
        "from pyspark.sql.functions import unix_timestamp, from_unixtime\n",
        "\n",
        "parking2017.createOrReplaceTempView(\"parkingtable2017\")\n",
        "parking2016.createOrReplaceTempView(\"parkingtable2016\")\n",
        "parking2015.createOrReplaceTempView(\"parkingtable2015\")\n",
        "parking2014.createOrReplaceTempView(\"parkingtable2014\")"
      ],
      "execution_count": 12,
      "outputs": []
    },
    {
      "cell_type": "code",
      "metadata": {
        "id": "JRW9rp-Lb1Yf"
      },
      "source": [
        "from pyspark.sql.functions import udf,desc\n",
        "from datetime import datetime"
      ],
      "execution_count": 13,
      "outputs": []
    },
    {
      "cell_type": "code",
      "metadata": {
        "id": "XvisW97yI-g6"
      },
      "source": [
        "\n",
        "\n",
        "from pyspark.sql.functions import date_format\n",
        "from pyspark.sql.functions import to_date, date_format\n",
        "\n",
        "from pyspark.sql.functions import *\n"
      ],
      "execution_count": 14,
      "outputs": []
    },
    {
      "cell_type": "code",
      "metadata": {
        "id": "wNUHDXsFtB4r"
      },
      "source": [
        "\n"
      ],
      "execution_count": null,
      "outputs": []
    },
    {
      "cell_type": "code",
      "metadata": {
        "id": "8laOB89uIBOj"
      },
      "source": [
        "data_2017 = spark.sql(\"select year(from_unixtime(unix_timestamp(Issue_Date, 'MM/dd/yyy'))) as year,month(from_unixtime(unix_timestamp(Issue_Date, 'MM/dd/yyy'))) as month,day(from_unixtime(unix_timestamp(Issue_Date, 'MM/dd/yyy'))) as day,Violation_Location, Violation_Code , count(*) as frequency from parkingtable2017  Group by year,month,day,Violation_Location, Violation_Code order by year,month,day,Violation_Location,Violation_Code \")"
      ],
      "execution_count": 15,
      "outputs": []
    },
    {
      "cell_type": "code",
      "metadata": {
        "id": "pD9qXyW8OQDB"
      },
      "source": [
        "data_2017_day = spark.sql(\"select year(from_unixtime(unix_timestamp(Issue_Date, 'MM/dd/yyy'))) as year,month(from_unixtime(unix_timestamp(Issue_Date, 'MM/dd/yyy'))) as month,day(from_unixtime(unix_timestamp(Issue_Date, 'MM/dd/yyy'))) day,Violation_Location,count(*) as totalViolation from parkingtable2017  Group by year,month,day,Violation_Location order by year,month,day,Violation_Location \")"
      ],
      "execution_count": 16,
      "outputs": []
    },
    {
      "cell_type": "code",
      "metadata": {
        "id": "jgfT_GUjSqOd"
      },
      "source": [
        ""
      ],
      "execution_count": null,
      "outputs": []
    },
    {
      "cell_type": "code",
      "metadata": {
        "id": "d8yJIp6hSyWa"
      },
      "source": [
        ""
      ],
      "execution_count": null,
      "outputs": []
    },
    {
      "cell_type": "code",
      "metadata": {
        "id": "09i5szdxTfR-",
        "colab": {
          "base_uri": "https://localhost:8080/"
        },
        "outputId": "2135b4b7-35ec-476a-857f-9b02c90bb32d"
      },
      "source": [
        "data_2017_day.dtypes"
      ],
      "execution_count": 17,
      "outputs": [
        {
          "output_type": "execute_result",
          "data": {
            "text/plain": [
              "[('year', 'int'),\n",
              " ('month', 'int'),\n",
              " ('day', 'int'),\n",
              " ('Violation_Location', 'int'),\n",
              " ('totalViolation', 'bigint')]"
            ]
          },
          "metadata": {
            "tags": []
          },
          "execution_count": 17
        }
      ]
    },
    {
      "cell_type": "code",
      "metadata": {
        "id": "C49zYmmnOdMv"
      },
      "source": [
        "#data_2017_day.show(100)"
      ],
      "execution_count": null,
      "outputs": []
    },
    {
      "cell_type": "code",
      "metadata": {
        "id": "_RG98vEOOj0e"
      },
      "source": [
        "import pyspark.sql.functions as F\n",
        "from pyspark.sql.functions import round, col\n",
        "df = data_2017.join(data_2017_day, (data_2017.Violation_Location == data_2017_day.Violation_Location) & (data_2017.year == data_2017_day.year)& (data_2017.month == data_2017_day.month)& (data_2017.day == data_2017_day.day))\\\n",
        "    .withColumn(\"violation_probability\", round(F.col(\"frequency\") / F.col(\"totalViolation\"), 5))\\\n",
        "    .drop(data_2017_day.totalViolation).drop(data_2017.frequency).drop(data_2017_day.Violation_Location).drop(data_2017_day.month).drop(data_2017_day.day).drop(data_2017_day.year)\n",
        "#df.show(100)"
      ],
      "execution_count": 18,
      "outputs": []
    },
    {
      "cell_type": "markdown",
      "metadata": {
        "id": "aXfRQKR86q-D"
      },
      "source": [
        "for 2014 to 2016 first"
      ]
    },
    {
      "cell_type": "code",
      "metadata": {
        "id": "oevgkdPw6p5U"
      },
      "source": [
        "data_2014 = spark.sql(\"select year(from_unixtime(unix_timestamp(Issue_Date, 'MM/dd/yyy'))) as year,month(from_unixtime(unix_timestamp(Issue_Date, 'MM/dd/yyy'))) as month,day(from_unixtime(unix_timestamp(Issue_Date, 'MM/dd/yyy'))) as day,Violation_Location, Violation_Code , count(*) as frequency from parkingtable2014  Group by year,month,day,Violation_Location, Violation_Code order by year,month,day,Violation_Location,Violation_Code \")\n",
        "data_2014.createOrReplaceTempView(\"data_2014\")\n",
        "data_2014 = spark.sql(\"select year,month,day,Violation_Location,Violation_Code,frequency from data_2014 where year >= 2014 \")\n",
        "\n",
        "data_2015 = spark.sql(\"select year(from_unixtime(unix_timestamp(Issue_Date, 'MM/dd/yyy'))) as year,month(from_unixtime(unix_timestamp(Issue_Date, 'MM/dd/yyy'))) as month,day(from_unixtime(unix_timestamp(Issue_Date, 'MM/dd/yyy'))) as day,Violation_Location, Violation_Code , count(*) as frequency from parkingtable2015  Group by year,month,day,Violation_Location, Violation_Code order by year,month,day,Violation_Location,Violation_Code \")\n",
        "\n",
        "\n",
        "data_2016 = spark.sql(\"select year(from_unixtime(unix_timestamp(Issue_Date, 'MM/dd/yyy'))) as year,month(from_unixtime(unix_timestamp(Issue_Date, 'MM/dd/yyy'))) as month,day(from_unixtime(unix_timestamp(Issue_Date, 'MM/dd/yyy'))) as day,Violation_Location, Violation_Code , count(*) as frequency from parkingtable2016  Group by year,month,day,Violation_Location, Violation_Code order by year,month,day,Violation_Location,Violation_Code \")\n",
        "\n"
      ],
      "execution_count": 19,
      "outputs": []
    },
    {
      "cell_type": "code",
      "metadata": {
        "id": "mH0cHnOBUIqv",
        "colab": {
          "base_uri": "https://localhost:8080/"
        },
        "outputId": "f566f702-7f11-4645-e554-59eac3ff20de"
      },
      "source": [
        "data_2014.dtypes"
      ],
      "execution_count": 20,
      "outputs": [
        {
          "output_type": "execute_result",
          "data": {
            "text/plain": [
              "[('year', 'int'),\n",
              " ('month', 'int'),\n",
              " ('day', 'int'),\n",
              " ('Violation_Location', 'int'),\n",
              " ('Violation_Code', 'int'),\n",
              " ('frequency', 'bigint')]"
            ]
          },
          "metadata": {
            "tags": []
          },
          "execution_count": 20
        }
      ]
    },
    {
      "cell_type": "code",
      "metadata": {
        "id": "VkUAfpYN458k"
      },
      "source": [
        "data_2014_day = spark.sql(\"select year(from_unixtime(unix_timestamp(Issue_Date, 'MM/dd/yyy'))) as year,month(from_unixtime(unix_timestamp(Issue_Date, 'MM/dd/yyy'))) as month,day(from_unixtime(unix_timestamp(Issue_Date, 'MM/dd/yyy'))) as day,Violation_Location,count(*) as totalViolation from parkingtable2014  Group by year,month,day,Violation_Location order by year,month,day,Violation_Location \")\n",
        "data_2014_day.createOrReplaceTempView(\"data_2014_day\")\n",
        "data_2014_day= spark.sql(\"select year,month,day,Violation_Location,totalViolation from data_2014_day where year >= 2014 \")\n",
        "data_2015_day = spark.sql(\"select year(from_unixtime(unix_timestamp(Issue_Date, 'MM/dd/yyy'))) as year,month(from_unixtime(unix_timestamp(Issue_Date, 'MM/dd/yyy'))) as month,day(from_unixtime(unix_timestamp(Issue_Date, 'MM/dd/yyy'))) as day,Violation_Location,count(*) as totalViolation from parkingtable2015  Group by year,month,day,Violation_Location order by year,month,day,Violation_Location \")\n",
        "\n",
        "data_2016_day = spark.sql(\"select year(from_unixtime(unix_timestamp(Issue_Date, 'MM/dd/yyy'))) as year,month(from_unixtime(unix_timestamp(Issue_Date, 'MM/dd/yyy'))) as month,day(from_unixtime(unix_timestamp(Issue_Date, 'MM/dd/yyy'))) as day,Violation_Location,count(*) as totalViolation from parkingtable2016 where  Group by year,month,day,Violation_Location order by year,month,day,Violation_Location \")\n"
      ],
      "execution_count": 21,
      "outputs": []
    },
    {
      "cell_type": "code",
      "metadata": {
        "id": "5wSRUxWhXL3I",
        "colab": {
          "base_uri": "https://localhost:8080/"
        },
        "outputId": "2ac8bb29-f925-4ac9-ccd2-29fc2945eb06"
      },
      "source": [
        "data_2014_day.dtypes"
      ],
      "execution_count": 22,
      "outputs": [
        {
          "output_type": "execute_result",
          "data": {
            "text/plain": [
              "[('year', 'int'),\n",
              " ('month', 'int'),\n",
              " ('day', 'int'),\n",
              " ('Violation_Location', 'int'),\n",
              " ('totalViolation', 'bigint')]"
            ]
          },
          "metadata": {
            "tags": []
          },
          "execution_count": 22
        }
      ]
    },
    {
      "cell_type": "code",
      "metadata": {
        "id": "ukbLxBiJ7bOW"
      },
      "source": [
        "import pyspark.sql.functions as F\n",
        "from pyspark.sql.functions import round, col\n",
        "df_2014 = data_2014.join(data_2014_day, (data_2014.Violation_Location == data_2014_day.Violation_Location) & (data_2014.year == data_2014_day.year)& (data_2014.month == data_2014_day.month) & (data_2014_day.day == data_2014_day.day))\\\n",
        "    .withColumn(\"violation_probability\", round(F.col(\"frequency\") / F.col(\"totalViolation\"), 5))\\\n",
        "    .drop(data_2014_day.totalViolation).drop(data_2014.frequency).drop(data_2014_day.Violation_Location).drop(data_2014_day.month).drop(data_2014_day.day).drop(data_2014_day.year)\n",
        "\n",
        "df_2015 = data_2015.join(data_2015_day, (data_2015.Violation_Location == data_2015_day.Violation_Location) & (data_2015.year == data_2015_day.year)& (data_2015.month == data_2015_day.month) & (data_2015_day.day == data_2015_day.day))\\\n",
        "    .withColumn(\"violation_probability\", round(F.col(\"frequency\") / F.col(\"totalViolation\"), 5))\\\n",
        "    .drop(data_2015_day.totalViolation).drop(data_2015.frequency).drop(data_2015_day.Violation_Location).drop(data_2015_day.month).drop(data_2015_day.day).drop(data_2015_day.year)\n",
        "\n",
        "df_2016 = data_2016.join(data_2016_day, (data_2016.Violation_Location == data_2016_day.Violation_Location) & (data_2016.year == data_2016_day.year)& (data_2016.month == data_2016_day.month) & (data_2016_day.day == data_2016_day.day))\\\n",
        "    .withColumn(\"violation_probability\", round(F.col(\"frequency\") / F.col(\"totalViolation\"), 5))\\\n",
        "    .drop(data_2016_day.totalViolation).drop(data_2016.frequency).drop(data_2016_day.Violation_Location).drop(data_2016_day.month).drop(data_2016_day.day).drop(data_2016_day.year)\n",
        "\n",
        "#df_2015.show()"
      ],
      "execution_count": 23,
      "outputs": []
    },
    {
      "cell_type": "code",
      "metadata": {
        "id": "agZAcfE1FR_s"
      },
      "source": [
        "#dataframe concatenation\n",
        "from functools import reduce  # For Python 3.x\n",
        "from pyspark.sql import DataFrame\n",
        "\n",
        "#def unionAll(*dfs):\n",
        "    #return reduce(DataFrame.unionAll, dfs)\n",
        "\n",
        "#full_df = unionAll(df_2014,df_2015, df_2016,df)\n",
        "#train_df.show(10)"
      ],
      "execution_count": 24,
      "outputs": []
    },
    {
      "cell_type": "code",
      "metadata": {
        "id": "EWuXlk-W9DeV"
      },
      "source": [
        "full_df = df.union(df_2014).union(df_2015).union(df_2016)"
      ],
      "execution_count": 25,
      "outputs": []
    },
    {
      "cell_type": "code",
      "metadata": {
        "id": "2uYRh6_n-Elc"
      },
      "source": [
        "full_df=full_df.dropna()"
      ],
      "execution_count": 26,
      "outputs": []
    },
    {
      "cell_type": "code",
      "metadata": {
        "colab": {
          "base_uri": "https://localhost:8080/"
        },
        "id": "xVGiecq93W41",
        "outputId": "7cba3175-3520-4e55-e95d-2aa81900f399"
      },
      "source": [
        "df.select(countDistinct(\"Violation_Location\"))"
      ],
      "execution_count": 27,
      "outputs": [
        {
          "output_type": "execute_result",
          "data": {
            "text/plain": [
              "DataFrame[count(DISTINCT Violation_Location): bigint]"
            ]
          },
          "metadata": {
            "tags": []
          },
          "execution_count": 27
        }
      ]
    },
    {
      "cell_type": "code",
      "metadata": {
        "colab": {
          "base_uri": "https://localhost:8080/"
        },
        "id": "KrrVH6IWCQzV",
        "outputId": "77e84312-bafc-452a-cbb6-30677332914d"
      },
      "source": [
        "full_df.groupBy('Violation_Location').count().show()"
      ],
      "execution_count": 28,
      "outputs": [
        {
          "output_type": "stream",
          "text": [
            "+------------------+-----+\n",
            "|Violation_Location|count|\n",
            "+------------------+-----+\n",
            "|                78|17991|\n",
            "|               108|30758|\n",
            "|                34|23784|\n",
            "|               115|30129|\n",
            "|               101|10483|\n",
            "|                81|10236|\n",
            "|                28|22889|\n",
            "|                76|12714|\n",
            "|                26|19638|\n",
            "|                44|24222|\n",
            "|               103|28089|\n",
            "|                22|  633|\n",
            "|               122|12014|\n",
            "|               111|14680|\n",
            "|                47|23938|\n",
            "|                 1|36609|\n",
            "|                52|27122|\n",
            "|                13|36338|\n",
            "|                 6|28734|\n",
            "|                20|29210|\n",
            "+------------------+-----+\n",
            "only showing top 20 rows\n",
            "\n"
          ],
          "name": "stdout"
        }
      ]
    },
    {
      "cell_type": "code",
      "metadata": {
        "colab": {
          "base_uri": "https://localhost:8080/"
        },
        "id": "ie1f4OdbD3uR",
        "outputId": "8749a7a7-f17f-43c2-bcc0-5c5e6abf52ba"
      },
      "source": [
        "full_df.groupBy('Violation_Code').count().show()"
      ],
      "execution_count": 29,
      "outputs": [
        {
          "output_type": "stream",
          "text": [
            "+--------------+-----+\n",
            "|Violation_Code|count|\n",
            "+--------------+-----+\n",
            "|            31|15244|\n",
            "|            85| 8374|\n",
            "|            65|   18|\n",
            "|            53|36613|\n",
            "|            78|32602|\n",
            "|            34|    9|\n",
            "|            81|  293|\n",
            "|            28|   20|\n",
            "|            27| 3261|\n",
            "|            26| 1413|\n",
            "|            44|   28|\n",
            "|            12|   37|\n",
            "|            91| 1513|\n",
            "|            22|  211|\n",
            "|            93|    6|\n",
            "|            47| 7076|\n",
            "|             1|  892|\n",
            "|            52| 2074|\n",
            "|            13|20015|\n",
            "|            16|56409|\n",
            "+--------------+-----+\n",
            "only showing top 20 rows\n",
            "\n"
          ],
          "name": "stdout"
        }
      ]
    },
    {
      "cell_type": "code",
      "metadata": {
        "colab": {
          "base_uri": "https://localhost:8080/"
        },
        "id": "xpvMK2ApIjAP",
        "outputId": "0c45fc7f-a97b-4a0e-bd3a-5881d824f4e9"
      },
      "source": [
        "from pyspark.sql.functions import countDistinct\n",
        "df2=full_df.select(countDistinct(\"Violation_Location\"))\n",
        "df2.show()"
      ],
      "execution_count": 30,
      "outputs": [
        {
          "output_type": "stream",
          "text": [
            "+----------------------------------+\n",
            "|count(DISTINCT Violation_Location)|\n",
            "+----------------------------------+\n",
            "|                                77|\n",
            "+----------------------------------+\n",
            "\n"
          ],
          "name": "stdout"
        }
      ]
    },
    {
      "cell_type": "code",
      "metadata": {
        "id": "rGTwrev0FPmi"
      },
      "source": [
        "#from pyspark.ml.feature import StringIndexer\n",
        "#qualification_indexer = StringIndexer(inputCol=\"day\", outputCol=\"day_chng\")\n",
        "#Fits a model to the input dataset with optional parameters.\n",
        "#df_buck = qualification_indexer.fit(full_df).transform(full_df)\n",
        "#df_buck.show()"
      ],
      "execution_count": null,
      "outputs": []
    },
    {
      "cell_type": "code",
      "metadata": {
        "id": "6w3Cik33ARGb"
      },
      "source": [
        ""
      ],
      "execution_count": null,
      "outputs": []
    },
    {
      "cell_type": "code",
      "metadata": {
        "id": "cAR8lUwnbzTm"
      },
      "source": [
        ""
      ],
      "execution_count": null,
      "outputs": []
    },
    {
      "cell_type": "code",
      "metadata": {
        "id": "r2nvBai6GM_A"
      },
      "source": [
        "from pyspark.ml.feature import OneHotEncoder\n",
        "\n",
        "#for training data\n",
        "#\n",
        "\n",
        "day_encoded = OneHotEncoder(inputCol=\"day\", outputCol=\"day_one\")\n",
        "df_buck = day_encoded.fit(full_df).transform(full_df)\n",
        "\n",
        "\n",
        "\n",
        "\n",
        "\n",
        "\n",
        "\n",
        "#df_buck_train.show(10)"
      ],
      "execution_count": 31,
      "outputs": []
    },
    {
      "cell_type": "code",
      "metadata": {
        "id": "yp0PLdAxjvT-"
      },
      "source": [
        "location_encoded = OneHotEncoder(inputCol=\"Violation_Location\", outputCol=\"Violation_Location_one\")\n",
        "df_buck1 = location_encoded.fit(df_buck).transform(df_buck)"
      ],
      "execution_count": 32,
      "outputs": []
    },
    {
      "cell_type": "code",
      "metadata": {
        "id": "z2qv8jTTjwNf"
      },
      "source": [
        "code_encoded = OneHotEncoder(inputCol=\"Violation_Code\", outputCol=\"Violation_Code_one\")\n",
        "df_buck2 = code_encoded.fit(df_buck1).transform(df_buck1)\n"
      ],
      "execution_count": 33,
      "outputs": []
    },
    {
      "cell_type": "code",
      "metadata": {
        "id": "iyNOvjaCGuv2"
      },
      "source": [
        "from pyspark.ml.linalg import Vectors\n",
        "from pyspark.ml.feature import VectorAssembler\n",
        "\n",
        "#for training data\n",
        "#assembler = VectorAssembler(inputCols=[\"day_one\",\"month_one\",\"Violation_Location_one\",\"week_one\",\"Violation_Code_one\"], outputCol=\"features\")\n",
        "# Assemble all the features with VectorAssembler\n",
        "required_features = [\"year\",\"month\",\"day_one\",\"Violation_Location_one\",\"Violation_Code_one\"]\n",
        "\n",
        "from pyspark.ml.feature import VectorAssembler\n",
        "\n",
        "numericCols = [] #['prob']\n",
        "assemblerInputs = [c  for c in required_features] + numericCols\n",
        "assembler = VectorAssembler(inputCols=assemblerInputs, outputCol='features')\n",
        "\n",
        "transformed_data = assembler.transform(df_buck2)\n",
        "#transformed_data.show(5)"
      ],
      "execution_count": 34,
      "outputs": []
    },
    {
      "cell_type": "code",
      "metadata": {
        "id": "nswy9zAFGkMv"
      },
      "source": [
        "(training_data, test_data) = transformed_data.randomSplit([0.8,0.2], seed =2020)"
      ],
      "execution_count": 35,
      "outputs": []
    },
    {
      "cell_type": "code",
      "metadata": {
        "id": "0yEVDasmLH9S",
        "colab": {
          "base_uri": "https://localhost:8080/"
        },
        "outputId": "2d79cef5-74ae-4816-fec9-019df1754ea9"
      },
      "source": [
        "from pyspark.ml.regression import LinearRegression\n",
        "lr = LinearRegression(featuresCol = 'features', labelCol='violation_probability')\n",
        "lr_model = lr.fit(training_data)\n",
        "print(\"Coefficients: \" + str(lr_model.coefficients))\n",
        "print(\"Intercept: \" + str(lr_model.intercept))"
      ],
      "execution_count": 36,
      "outputs": [
        {
          "output_type": "stream",
          "text": [
            "Coefficients: [-0.00045291833423771527,-0.00018543392731361404,0.0,0.000486941350686518,-0.0006507778812370849,-0.0006527085785566389,0.0015708622011951284,0.0014040605763749436,-0.0005340943711781278,-0.0008584136198417858,-0.0013297405411161283,-0.0010815128455496507,-0.0017307529765146655,-0.001347389457124341,-0.0004154419675699966,-0.0007601860237798542,-0.0012799546808392715,-0.0008066090416398894,-0.0021354469447801365,-0.0015462894230494264,-0.0009730918732647103,-0.0018203007860969145,-0.0021000675868057743,-0.002217667052729164,-0.0017549337715594456,-0.0018000133196845907,-0.0020884213234915587,0.0005839586551232288,0.0017358114208601832,-0.00011023911495919588,-0.0011202519375563258,-0.0005990911143358011,-0.0016345583615795273,0.0,-0.144357198491581,0.0,0.0,0.0,-0.14305666102165646,-0.1420056700115406,-0.13750535494871421,0.0,-0.14258880083275324,-0.14585420841321003,0.0,0.0,-0.14624470478177073,-0.14696631758132056,0.0,0.0,-0.1463522818093139,-0.14699751927171428,-0.14697492378627125,-0.14316982432448247,0.0,0.18756719852229922,-0.1371557751692835,-0.13895614002625417,-0.13148004451958717,-0.13138674495181826,0.0,-0.1365021088139212,0.0,-0.12842796026620634,0.0,-0.12828797287520233,-0.13318645650166336,-0.13541327373418055,0.0,0.0,0.0,0.0,0.0,-0.1345985283349226,-0.12869135047961386,-0.11085306932009126,-0.13560982867317675,-0.13553361388049107,-0.13483427230511422,-0.13685684780625712,-0.13514011061065068,-0.13469098979242367,-0.13663548209043613,-0.13276487979677734,0.0,-0.13730566473379235,0.0,0.0,0.0,0.0,0.0,0.0,0.0,-0.12420214906845968,-0.13392533727082645,-0.1320285132341995,-0.12771462947361417,0.0,0.0,-0.13057482129590198,-0.1314735518095366,-0.13288030097130277,-0.11116181224275976,-0.13345126965578347,-0.1203925491088421,-0.132022905838743,-0.11470438274642653,0.0,-0.12441341661413491,-0.12105286030987866,-0.1324443538064804,-0.1310976058089712,-0.13054769263799615,0.0,-0.08739060540167638,0.0,-0.12659077292002194,-0.13841579182034705,0.0,0.0,0.0,-0.13404280204720084,0.0,-0.13388402255406176,0.0,0.0,0.0,-0.13349678830554343,0.0,0.0,0.0,0.0,0.0,-0.11378279281854713,-0.11145504778895161,-0.13690078950053486,-0.13792470524545142,-0.1373038077293885,-0.13177373614961724,-0.1293274665006404,-0.13221955132567695,-0.14002637683086863,-0.13949715155486714,-0.13781890413445946,-0.12043788608059379,-0.13629572274252016,-0.12247247987343603,-0.14019026829338654,-0.14279467315696845,0.0,0.0,0.0,0.0,-0.11280923842207456,-0.07514726376376744,-0.10097933148939614,0.0,0.01262971039128876,0.007172730201530953,0.012397911545461097,0.01375669590199413,0.0,-0.0015019401068592571,0.0,0.008671203705145859,0.031049219261676333,0.010936234670303002,0.007015944909742205,0.004620804576299482,0.011792997399368925,0.09035387554906872,0.0,0.023575700043266673,0.015679332701062094,0.00807703643151887,0.03340152176672986,0.08364130724718292,0.23446278992533057,0.004053137837597588,0.009490369806437422,0.010882631566767635,0.00200575323432457,0.007488003595586818,-0.006990607615365318,0.0027399274351964046,0.002216215151470804,0.0076158136830997755,0.0512417805695622,0.0056342586816581315,0.002221128566496072,0.0005974720501440989,0.009617380606091666,0.0,0.08344880955646988,0.1689385106754839,0.010340530695392341,0.06735688141956479,0.0,0.03136158027841539,0.006388956203535826,0.005416934632188724,0.0027242510387355105,0.04173020516877962,0.07562367023517827,0.015330971264706757,0.004629414146082971,0.010465422112330437,0.008436470549927112,0.003075871444615081,0.006704457387529383,0.0,0.0028647382363969224,0.006390794111943539,0.006784403630207507,0.004458313353839658,0.005764296137679224,0.008029053103539728,0.0016481448814512514,0.0055000591535344714,0.0021267045157493526,0.02400625530196156,0.006647693213302702,0.014959613839890534,0.0020348384398032712,0.012369226604237591,0.06819443321792795,0.03660419439579686,0.09069436814597984,0.004836978084291385,0.0017274898157953011,0.013138419871197403,-8.101368438292624e-05,0.0,0.007073058273940009,0.01439617681993146,0.013771186507467167,0.0007927394436045112,0.009164864912606648,0.005059974884054549,0.005124686397640071,0.011262525770367213,0.05012459135753354,0.005269331714401219,0.0,0.0,0.013442165312868395,0.0,0.0026854632359233064,0.00046975332224952096,0.0003265618618952012,0.0,0.0,0.0007085198505825162,0.0024785819318534144]\n",
            "Intercept: 1.0549341465670856\n"
          ],
          "name": "stdout"
        }
      ]
    },
    {
      "cell_type": "code",
      "metadata": {
        "id": "bRKl6YvyLiKS"
      },
      "source": [
        "model_path = \"/content/gdrive/My Drive/Big Data/\" + \"modeldatefinal\"\n",
        "lr_model.save(model_path)"
      ],
      "execution_count": 38,
      "outputs": []
    },
    {
      "cell_type": "code",
      "metadata": {
        "id": "fT_G-0zyMTR-"
      },
      "source": [
        "from pyspark.ml.regression import LinearRegressionModel\n",
        "model2 = LinearRegressionModel.load(model_path)"
      ],
      "execution_count": 40,
      "outputs": []
    },
    {
      "cell_type": "code",
      "metadata": {
        "id": "GRpiuUb0Mewl"
      },
      "source": [
        "model2_predict = model2.transform(test_data.limit(10))"
      ],
      "execution_count": 41,
      "outputs": []
    },
    {
      "cell_type": "code",
      "metadata": {
        "id": "r1_MInfIMf7Q",
        "colab": {
          "base_uri": "https://localhost:8080/"
        },
        "outputId": "458850ef-198b-4ba7-b360-0e9cc0e4d125"
      },
      "source": [
        "model2_predict.select(\"prediction\",\"violation_probability\",\"features\").show(10,False)"
      ],
      "execution_count": 42,
      "outputs": [
        {
          "output_type": "stream",
          "text": [
            "+--------------------+---------------------+-----------------------------------------------+\n",
            "|prediction          |violation_probability|features                                       |\n",
            "+--------------------+---------------------+-----------------------------------------------+\n",
            "|0.034089352764773206|0.05098              |(254,[0,1,32,117,175],[2016.0,6.0,1.0,1.0,1.0])|\n",
            "|0.2351506209233739  |0.06667              |(254,[0,1,32,117,177],[2016.0,6.0,1.0,1.0,1.0])|\n",
            "|0.10211454629426653 |0.24299              |(254,[0,1,32,144,193],[2016.0,6.0,1.0,1.0,1.0])|\n",
            "|0.011028361693435684|0.01176              |(254,[0,1,32,117,195],[2016.0,6.0,1.0,1.0,1.0])|\n",
            "|0.06804471241760812 |0.0549               |(254,[0,1,32,117,196],[2016.0,6.0,1.0,1.0,1.0])|\n",
            "|0.031034963342034372|0.00935              |(254,[0,1,32,144,224],[2016.0,6.0,1.0,1.0,1.0])|\n",
            "|0.01382625086924083 |0.00392              |(254,[0,1,32,117,230],[2016.0,6.0,1.0,1.0,1.0])|\n",
            "|6.068173136604127E-4|0.00196              |(254,[0,1,32,117,231],[2016.0,6.0,1.0,1.0,1.0])|\n",
            "|0.09274254444809094 |0.0777               |(254,[0,1,9,85,170],[2016.0,7.0,1.0,1.0,1.0])  |\n",
            "|8.050524830127692E-4|0.00105              |(254,[0,1,9,47,174],[2016.0,7.0,1.0,1.0,1.0])  |\n",
            "+--------------------+---------------------+-----------------------------------------------+\n",
            "\n"
          ],
          "name": "stdout"
        }
      ]
    },
    {
      "cell_type": "code",
      "metadata": {
        "id": "18hhqS8xMsuq",
        "colab": {
          "base_uri": "https://localhost:8080/"
        },
        "outputId": "ce3ad7a6-7f25-4f50-e6c5-c6161f42c8a5"
      },
      "source": [
        "\n",
        "print(\"Coefficients: \" + str(lr_model.coefficients))\n",
        "print(\"Intercept: \" + str(lr_model.intercept))"
      ],
      "execution_count": 43,
      "outputs": [
        {
          "output_type": "stream",
          "text": [
            "Coefficients: [-0.00045291833423771527,-0.00018543392731361404,0.0,0.000486941350686518,-0.0006507778812370849,-0.0006527085785566389,0.0015708622011951284,0.0014040605763749436,-0.0005340943711781278,-0.0008584136198417858,-0.0013297405411161283,-0.0010815128455496507,-0.0017307529765146655,-0.001347389457124341,-0.0004154419675699966,-0.0007601860237798542,-0.0012799546808392715,-0.0008066090416398894,-0.0021354469447801365,-0.0015462894230494264,-0.0009730918732647103,-0.0018203007860969145,-0.0021000675868057743,-0.002217667052729164,-0.0017549337715594456,-0.0018000133196845907,-0.0020884213234915587,0.0005839586551232288,0.0017358114208601832,-0.00011023911495919588,-0.0011202519375563258,-0.0005990911143358011,-0.0016345583615795273,0.0,-0.144357198491581,0.0,0.0,0.0,-0.14305666102165646,-0.1420056700115406,-0.13750535494871421,0.0,-0.14258880083275324,-0.14585420841321003,0.0,0.0,-0.14624470478177073,-0.14696631758132056,0.0,0.0,-0.1463522818093139,-0.14699751927171428,-0.14697492378627125,-0.14316982432448247,0.0,0.18756719852229922,-0.1371557751692835,-0.13895614002625417,-0.13148004451958717,-0.13138674495181826,0.0,-0.1365021088139212,0.0,-0.12842796026620634,0.0,-0.12828797287520233,-0.13318645650166336,-0.13541327373418055,0.0,0.0,0.0,0.0,0.0,-0.1345985283349226,-0.12869135047961386,-0.11085306932009126,-0.13560982867317675,-0.13553361388049107,-0.13483427230511422,-0.13685684780625712,-0.13514011061065068,-0.13469098979242367,-0.13663548209043613,-0.13276487979677734,0.0,-0.13730566473379235,0.0,0.0,0.0,0.0,0.0,0.0,0.0,-0.12420214906845968,-0.13392533727082645,-0.1320285132341995,-0.12771462947361417,0.0,0.0,-0.13057482129590198,-0.1314735518095366,-0.13288030097130277,-0.11116181224275976,-0.13345126965578347,-0.1203925491088421,-0.132022905838743,-0.11470438274642653,0.0,-0.12441341661413491,-0.12105286030987866,-0.1324443538064804,-0.1310976058089712,-0.13054769263799615,0.0,-0.08739060540167638,0.0,-0.12659077292002194,-0.13841579182034705,0.0,0.0,0.0,-0.13404280204720084,0.0,-0.13388402255406176,0.0,0.0,0.0,-0.13349678830554343,0.0,0.0,0.0,0.0,0.0,-0.11378279281854713,-0.11145504778895161,-0.13690078950053486,-0.13792470524545142,-0.1373038077293885,-0.13177373614961724,-0.1293274665006404,-0.13221955132567695,-0.14002637683086863,-0.13949715155486714,-0.13781890413445946,-0.12043788608059379,-0.13629572274252016,-0.12247247987343603,-0.14019026829338654,-0.14279467315696845,0.0,0.0,0.0,0.0,-0.11280923842207456,-0.07514726376376744,-0.10097933148939614,0.0,0.01262971039128876,0.007172730201530953,0.012397911545461097,0.01375669590199413,0.0,-0.0015019401068592571,0.0,0.008671203705145859,0.031049219261676333,0.010936234670303002,0.007015944909742205,0.004620804576299482,0.011792997399368925,0.09035387554906872,0.0,0.023575700043266673,0.015679332701062094,0.00807703643151887,0.03340152176672986,0.08364130724718292,0.23446278992533057,0.004053137837597588,0.009490369806437422,0.010882631566767635,0.00200575323432457,0.007488003595586818,-0.006990607615365318,0.0027399274351964046,0.002216215151470804,0.0076158136830997755,0.0512417805695622,0.0056342586816581315,0.002221128566496072,0.0005974720501440989,0.009617380606091666,0.0,0.08344880955646988,0.1689385106754839,0.010340530695392341,0.06735688141956479,0.0,0.03136158027841539,0.006388956203535826,0.005416934632188724,0.0027242510387355105,0.04173020516877962,0.07562367023517827,0.015330971264706757,0.004629414146082971,0.010465422112330437,0.008436470549927112,0.003075871444615081,0.006704457387529383,0.0,0.0028647382363969224,0.006390794111943539,0.006784403630207507,0.004458313353839658,0.005764296137679224,0.008029053103539728,0.0016481448814512514,0.0055000591535344714,0.0021267045157493526,0.02400625530196156,0.006647693213302702,0.014959613839890534,0.0020348384398032712,0.012369226604237591,0.06819443321792795,0.03660419439579686,0.09069436814597984,0.004836978084291385,0.0017274898157953011,0.013138419871197403,-8.101368438292624e-05,0.0,0.007073058273940009,0.01439617681993146,0.013771186507467167,0.0007927394436045112,0.009164864912606648,0.005059974884054549,0.005124686397640071,0.011262525770367213,0.05012459135753354,0.005269331714401219,0.0,0.0,0.013442165312868395,0.0,0.0026854632359233064,0.00046975332224952096,0.0003265618618952012,0.0,0.0,0.0007085198505825162,0.0024785819318534144]\n",
            "Intercept: 1.0549341465670856\n"
          ],
          "name": "stdout"
        }
      ]
    },
    {
      "cell_type": "code",
      "metadata": {
        "id": "L4imVQFcMyhK",
        "colab": {
          "base_uri": "https://localhost:8080/"
        },
        "outputId": "6283dfe5-d24d-4896-de11-fa4939de2e49"
      },
      "source": [
        "lr_predictions = lr_model.transform(test_data)\n",
        "lr_predictions.select(\"prediction\",\"violation_probability\",\"features\").show(100)"
      ],
      "execution_count": 44,
      "outputs": [
        {
          "output_type": "stream",
          "text": [
            "+--------------------+---------------------+--------------------+\n",
            "|          prediction|violation_probability|            features|\n",
            "+--------------------+---------------------+--------------------+\n",
            "|0.034089352764773206|              0.05098|(254,[0,1,32,117,...|\n",
            "|  0.2351506209233739|              0.06667|(254,[0,1,32,117,...|\n",
            "| 0.10211454629426653|              0.24299|(254,[0,1,32,144,...|\n",
            "|0.011028361693435684|              0.01176|(254,[0,1,32,117,...|\n",
            "| 0.06804471241760812|               0.0549|(254,[0,1,32,117,...|\n",
            "|0.031034963342034372|              0.00935|(254,[0,1,32,144,...|\n",
            "| 0.01382625086924083|              0.00392|(254,[0,1,32,117,...|\n",
            "|6.068173136604127E-4|              0.00196|(254,[0,1,32,117,...|\n",
            "| 0.09274254444809094|               0.0777|(254,[0,1,9,85,17...|\n",
            "|8.050524830127692E-4|              0.00105|(254,[0,1,9,47,17...|\n",
            "|0.026129537818223803|              0.01899|(254,[0,1,9,47,17...|\n",
            "|0.035790190665752064|              0.02703|(254,[0,1,9,85,17...|\n",
            "|0.003610647618261...|              0.00844|(254,[0,1,9,47,18...|\n",
            "|  0.0761768256079638|              0.02004|(254,[0,1,9,47,19...|\n",
            "|  0.1616665267269779|              0.02004|(254,[0,1,9,47,19...|\n",
            "| 0.06008489747105872|              0.00633|(254,[0,1,9,47,19...|\n",
            "| 0.08457873517894321|              0.02083|(254,[0,1,9,146,1...|\n",
            "|0.027687275871708827|              0.02083|(254,[0,1,9,146,2...|\n",
            "| 0.08342238419747383|              0.03376|(254,[0,1,9,47,22...|\n",
            "| 0.09679435354782329|              0.04211|(254,[0,1,13,83,1...|\n",
            "|  0.1753789886742385|                  0.1|(254,[0,1,13,83,1...|\n",
            "|0.048170683167534145|              0.05789|(254,[0,1,13,83,2...|\n",
            "|0.008088622880205731|              0.00526|(254,[0,1,13,83,2...|\n",
            "| 0.07256199935797669|              0.05556|(254,[0,1,16,154,...|\n",
            "| 0.07726394867924691|              0.02778|(254,[0,1,16,154,...|\n",
            "|   0.086291155656115|              0.08235|(254,[0,1,31,137,...|\n",
            "| 0.08609865796540195|              0.04314|(254,[0,1,31,137,...|\n",
            "| 0.07000672982849687|               0.0549|(254,[0,1,31,137,...|\n",
            "| 0.01760946224882276|              0.00784|(254,[0,1,31,137,...|\n",
            "| 0.26313419663673543|              0.24138|(254,[0,1,8,102,1...|\n",
            "| 0.03913682882373526|              0.01724|(254,[0,1,8,102,2...|\n",
            "| 0.04180982658260235|              0.05172|(254,[0,1,8,102,2...|\n",
            "|0.015634564696158204|              0.01418|(254,[0,1,10,58,1...|\n",
            "| 0.09119883551182228|               0.0922|(254,[0,1,10,58,1...|\n",
            "| 0.24202031818996994|              0.20567|(254,[0,1,10,58,1...|\n",
            "|0.018820054035006528|              0.01418|(254,[0,1,10,58,2...|\n",
            "| 0.09385032528724602|               0.0165|(254,[0,1,12,80,1...|\n",
            "|  0.0270721497814439|               0.0198|(254,[0,1,12,80,1...|\n",
            "| 0.08694525929464714|               0.0495|(254,[0,1,12,80,1...|\n",
            "| 0.17243496041366124|              0.15182|(254,[0,1,12,80,1...|\n",
            "| 0.01020090712570676|               0.0033|(254,[0,1,12,80,2...|\n",
            "|0.015623408490200497|              0.04559|(254,[0,1,13,100,...|\n",
            "| 0.04094789382541153|              0.01824|(254,[0,1,13,100,...|\n",
            "| 0.04415056645447857|              0.03343|(254,[0,1,13,100,...|\n",
            "|0.012606346942736213|              0.00304|(254,[0,1,13,100,...|\n",
            "| 0.09767102455928578|              0.11966|(254,[0,1,18,93,1...|\n",
            "| 0.05575992248088246|              0.00855|(254,[0,1,18,93,2...|\n",
            "|0.024495139424433265|              0.02564|(254,[0,1,18,93,2...|\n",
            "|0.026398943916340567|              0.02564|(254,[0,1,18,93,2...|\n",
            "| 0.05063391170789977|              0.05128|(254,[0,1,18,93,2...|\n",
            "| 0.06902678212130176|              0.03125|(254,[0,1,23,75,2...|\n",
            "| 0.03532563005606182|              0.03125|(254,[0,1,23,75,2...|\n",
            "| 0.08196873583113762|              0.29419|(254,[0,1,24,51,1...|\n",
            "|0.025016382048798746|              0.02491|(254,[0,1,24,51,1...|\n",
            "|  0.0428566408516311|               0.1032|(254,[0,1,24,51,1...|\n",
            "|0.028219054677865785|              0.00237|(254,[0,1,24,51,2...|\n",
            "| 0.08230922842804878|              0.01186|(254,[0,1,24,51,2...|\n",
            "|0.006836110389105476|              0.00545|(254,[0,1,29,34,1...|\n",
            "| 0.01947557576206904|              0.05455|(254,[0,1,29,34,1...|\n",
            "|0.029301397485532288|              0.03455|(254,[0,1,29,34,1...|\n",
            "|0.006782507285570061|              0.00182|(254,[0,1,29,34,1...|\n",
            "|-0.00245197939974...|              0.00182|(254,[0,1,29,34,2...|\n",
            "|0.032504070114599326|              0.04364|(254,[0,1,29,34,2...|\n",
            "|0.007162401489169579|              0.00545|(254,[0,1,29,34,2...|\n",
            "|0.005942758037255524|              0.08235|(254,[0,1,30,148,...|\n",
            "|0.007335019797585662|              0.01176|(254,[0,1,30,148,...|\n",
            "|  0.0212845232339105|              0.14286|(254,[0,1,30,63,2...|\n",
            "|0.035632167916571866|              0.02336|(254,[0,1,32,61,1...|\n",
            "| 0.08587195339702491|              0.07477|(254,[0,1,32,61,1...|\n",
            "| 0.23669343607517257|              0.24766|(254,[0,1,32,61,1...|\n",
            "| 0.17116915682532596|              0.13551|(254,[0,1,32,61,1...|\n",
            "|  0.0929250142958219|              0.00467|(254,[0,1,32,61,2...|\n",
            "| 0.01536906602103949|              0.00935|(254,[0,1,32,61,2...|\n",
            "| 0.09933444392259316|              0.07407|(254,[0,1,59,170]...|\n",
            "| 0.04238209014025429|              0.07407|(254,[0,1,59,175]...|\n",
            "|   0.243443358298855|               0.1037|(254,[0,1,59,177]...|\n",
            "|  0.1779190790490084|              0.08889|(254,[0,1,59,194]...|\n",
            "| 0.04558476276932133|              0.02963|(254,[0,1,59,226]...|\n",
            "| 0.02827252925494439|              0.00322|(254,[0,1,4,78,17...|\n",
            "|0.038098350978407636|              0.03215|(254,[0,1,4,78,17...|\n",
            "|0.046427034380457366|              0.05788|(254,[0,1,4,78,20...|\n",
            "|0.015162251324008169|              0.00322|(254,[0,1,4,78,20...|\n",
            "|0.041301023607474674|              0.05466|(254,[0,1,4,78,22...|\n",
            "| 0.07631416848776262|              0.03487|(254,[0,1,8,52,17...|\n",
            "|  0.0833672293865596|              0.05275|(254,[0,1,8,52,22...|\n",
            "|0.007069038060511179|               4.5E-4|(254,[0,1,8,52,23...|\n",
            "|0.036968274438718085|              0.01402|(254,[0,1,11,77,1...|\n",
            "| 0.09164406799069114|              0.06897|(254,[0,1,11,111,...|\n",
            "|  0.2380295425973188|              0.47664|(254,[0,1,11,77,1...|\n",
            "|0.020371987347745923|              0.00287|(254,[0,1,11,111,...|\n",
            "| 0.04460695513930513|               0.0546|(254,[0,1,11,111,...|\n",
            "| 0.02998211896615066|              0.02073|(254,[0,1,17,148,...|\n",
            "| 0.23104338712475136|              0.28843|(254,[0,1,17,148,...|\n",
            "|0.047822377768983015|              0.02073|(254,[0,1,17,148,...|\n",
            "| 0.03831080236820039|              0.01554|(254,[0,1,17,148,...|\n",
            "|0.007046019311751195|              0.00518|(254,[0,1,17,148,...|\n",
            "|0.003285054586950...|              0.00173|(254,[0,1,17,148,...|\n",
            "| 0.10083220098841861|              0.09091|(254,[0,1,17,154,...|\n",
            "| 0.04670518855695427|              0.01727|(254,[0,1,17,148,...|\n",
            "|0.058556495689955135|              0.02041|(254,[0,1,23,153,...|\n",
            "+--------------------+---------------------+--------------------+\n",
            "only showing top 100 rows\n",
            "\n"
          ],
          "name": "stdout"
        }
      ]
    },
    {
      "cell_type": "code",
      "metadata": {
        "id": "DP0BO1SnM3gO"
      },
      "source": [
        "dataForGrapgh = lr_predictions.select(\"prediction\",\"violation_probability\",\"features\")"
      ],
      "execution_count": 45,
      "outputs": []
    },
    {
      "cell_type": "code",
      "metadata": {
        "id": "MliDYvrzM9CP"
      },
      "source": [
        "dataG =dataForGrapgh.toPandas()"
      ],
      "execution_count": 46,
      "outputs": []
    },
    {
      "cell_type": "code",
      "metadata": {
        "id": "Gwf3nCsGNBOJ",
        "colab": {
          "base_uri": "https://localhost:8080/"
        },
        "outputId": "7a97afed-64d0-4a69-cf32-3de652c7491d"
      },
      "source": [
        "# Necessary imports: \n",
        "from sklearn.model_selection import cross_val_score, cross_val_predict\n",
        "from sklearn import metrics\n",
        "accuracy = metrics.r2_score(dataG['violation_probability'], dataG['prediction'])\n",
        "print(\"Cross-Predicted Accuracy:\", accuracy)"
      ],
      "execution_count": 47,
      "outputs": [
        {
          "output_type": "stream",
          "text": [
            "Cross-Predicted Accuracy: 0.4268028297354225\n"
          ],
          "name": "stdout"
        }
      ]
    },
    {
      "cell_type": "code",
      "metadata": {
        "id": "i2UXS8zdNCJe",
        "colab": {
          "base_uri": "https://localhost:8080/",
          "height": 503
        },
        "outputId": "54fee972-c6f4-49d4-d40b-ca5fa0b0afa6"
      },
      "source": [
        "from matplotlib import pyplot as plt\n",
        "plt.rcParams[\"figure.figsize\"] = (24, 8)\n",
        "plt.plot(dataG['prediction'][:100], label = \"Pred\")  # Load the 500 data points from prediction with label name 'Pred'\n",
        "plt.plot(dataG['violation_probability'][:100], label = \"Actual\")"
      ],
      "execution_count": 48,
      "outputs": [
        {
          "output_type": "execute_result",
          "data": {
            "text/plain": [
              "[<matplotlib.lines.Line2D at 0x7f6133786790>]"
            ]
          },
          "metadata": {
            "tags": []
          },
          "execution_count": 48
        },
        {
          "output_type": "display_data",
          "data": {
            "image/png": "[encoded data removed]",
            "text/plain": [
              "<Figure size 1728x576 with 1 Axes>"
            ]
          },
          "metadata": {
            "tags": [],
            "needs_background": "light"
          }
        }
      ]
    }
  ]
}