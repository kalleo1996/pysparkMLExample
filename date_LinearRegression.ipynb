{
  "nbformat": 4,
  "nbformat_minor": 0,
  "metadata": {
    "colab": {
      "name": "date_LinearRegression.ipynb",
      "provenance": [],
      "collapsed_sections": [],
      "include_colab_link": true
    },
    "kernelspec": {
      "display_name": "Python 3",
      "name": "python3"
    },
    "language_info": {
      "name": "python"
    }
  },
  "cells": [
    {
      "cell_type": "markdown",
      "metadata": {
        "id": "view-in-github",
        "colab_type": "text"
      },
      "source": [
        "<a href=\"https://colab.research.google.com/github/kalleo1996/pysparkMLExample/blob/main/date_LinearRegression.ipynb\" target=\"_parent\"><img src=\"https://colab.research.google.com/assets/colab-badge.svg\" alt=\"Open In Colab\"/></a>"
      ]
    },
    {
      "cell_type": "code",
      "metadata": {
        "id": "oSF_rJrKfqUO"
      },
      "source": [
        ""
      ],
      "execution_count": null,
      "outputs": []
    },
    {
      "cell_type": "code",
      "metadata": {
        "colab": {
          "base_uri": "https://localhost:8080/"
        },
        "id": "WVgT7Scp99jL",
        "outputId": "63d2b693-7d02-4a00-e94c-3fb52c4b3c61"
      },
      "source": [
        "!pip install pyspark"
      ],
      "execution_count": null,
      "outputs": [
        {
          "output_type": "stream",
          "text": [
            "Collecting pyspark\n",
            "\u001b[?25l  Downloading https://files.pythonhosted.org/packages/89/db/e18cfd78e408de957821ec5ca56de1250645b05f8523d169803d8df35a64/pyspark-3.1.2.tar.gz (212.4MB)\n",
            "\u001b[K     |████████████████████████████████| 212.4MB 65kB/s \n",
            "\u001b[?25hCollecting py4j==0.10.9\n",
            "\u001b[?25l  Downloading https://files.pythonhosted.org/packages/9e/b6/6a4fb90cd235dc8e265a6a2067f2a2c99f0d91787f06aca4bcf7c23f3f80/py4j-0.10.9-py2.py3-none-any.whl (198kB)\n",
            "\u001b[K     |████████████████████████████████| 204kB 16.1MB/s \n",
            "\u001b[?25hBuilding wheels for collected packages: pyspark\n",
            "  Building wheel for pyspark (setup.py) ... \u001b[?25l\u001b[?25hdone\n",
            "  Created wheel for pyspark: filename=pyspark-3.1.2-py2.py3-none-any.whl size=212880768 sha256=6c73e7a1e63aa8da5c3c0ff79fe32ca257cd20d419161a5a0e76f6da3ed6e525\n",
            "  Stored in directory: /root/.cache/pip/wheels/40/1b/2c/30f43be2627857ab80062bef1527c0128f7b4070b6b2d02139\n",
            "Successfully built pyspark\n",
            "Installing collected packages: py4j, pyspark\n",
            "Successfully installed py4j-0.10.9 pyspark-3.1.2\n"
          ],
          "name": "stdout"
        }
      ]
    },
    {
      "cell_type": "code",
      "metadata": {
        "id": "JPuyqaq7Aduc"
      },
      "source": [
        "from pyspark.sql import SparkSession"
      ],
      "execution_count": null,
      "outputs": []
    },
    {
      "cell_type": "code",
      "metadata": {
        "id": "CEt9UFlABkYl"
      },
      "source": [
        "spark = SparkSession \\\n",
        "    .builder \\\n",
        "    .config(\"spark.driver.memory\", \"15g\") \\\n",
        "    .appName(\"Exploratory Analysis\") \\\n",
        "    .getOrCreate()"
      ],
      "execution_count": null,
      "outputs": []
    },
    {
      "cell_type": "code",
      "metadata": {
        "colab": {
          "base_uri": "https://localhost:8080/"
        },
        "id": "jqYlTH5BBn77",
        "outputId": "4ffe5695-0a1c-4138-8d6f-7544653c673a"
      },
      "source": [
        "import numpy as np\n",
        "import pandas as pd\n",
        "from google.colab import drive\n",
        "drive.mount(\"/content/gdrive\")"
      ],
      "execution_count": null,
      "outputs": [
        {
          "output_type": "stream",
          "text": [
            "Mounted at /content/gdrive\n"
          ],
          "name": "stdout"
        }
      ]
    },
    {
      "cell_type": "code",
      "metadata": {
        "id": "SW35cPY2Bqpd"
      },
      "source": [
        "parking2017 = spark.read.format(\"csv\").option(\"header\", \"true\").option(\"inferSchema\", \"true\").load('/content/gdrive/My Drive/Big Data/Parking_Violations_Issued_-_Fiscal_Year_2017.csv')\n",
        "parking2016 = spark.read.format(\"csv\").option(\"header\", \"true\").option(\"inferSchema\", \"true\").load('/content/gdrive/My Drive/Big Data/Parking_Violations_Issued_-_Fiscal_Year_2016.csv')\n",
        "parking2015 = spark.read.format(\"csv\").option(\"header\", \"true\").option(\"inferSchema\", \"true\").load('/content/gdrive/My Drive/Big Data/Parking_Violations_Issued_-_Fiscal_Year_2015.csv')\n",
        "parking2014 = spark.read.format(\"csv\").option(\"header\", \"true\").option(\"inferSchema\", \"true\").load('/content/gdrive/My Drive/Big Data/Parking_Violations_Issued_-_Fiscal_Year_2014__August_2013___June_2014_.csv')"
      ],
      "execution_count": null,
      "outputs": []
    },
    {
      "cell_type": "code",
      "metadata": {
        "id": "IgG9QG5d8UYD"
      },
      "source": [
        ""
      ],
      "execution_count": null,
      "outputs": []
    },
    {
      "cell_type": "code",
      "metadata": {
        "id": "S7VZEwJ1Dqe_"
      },
      "source": [
        "parking2017 = parking2017.dropDuplicates()\n",
        "parking2016 = parking2016.dropDuplicates()\n",
        "parking2015 = parking2015.dropDuplicates()\n",
        "parking2014 = parking2014.dropDuplicates()"
      ],
      "execution_count": null,
      "outputs": []
    },
    {
      "cell_type": "code",
      "metadata": {
        "id": "dBHbDNHoEARM"
      },
      "source": [
        "columns_to_drop = ['Double Parking Violation', 'Hydrant Violation','No Standing or Stopping Violation', 'Meter Number', 'Unregistered Vehicle?', 'Violation Legal Code', 'Intersecting Street', 'Time First Observed', 'Issuer Precinct', 'Issuer Code', 'Issuer Command', 'Issuer Squad', 'Violation In Front Of Or Opposite', 'House Number', 'Vehicle Color', 'From Hours In Effect', 'Days Parking In Effect    ', 'Days Parking In Effect', 'Violation Post Code' ]\n",
        "parking2017 = parking2017.drop(*columns_to_drop)\n",
        "parking2016 = parking2016.drop(*columns_to_drop)\n",
        "parking2015 = parking2015.drop(*columns_to_drop)\n",
        "parking2014 = parking2014.drop(*columns_to_drop)"
      ],
      "execution_count": null,
      "outputs": []
    },
    {
      "cell_type": "code",
      "metadata": {
        "id": "h_u97Tc8EN__"
      },
      "source": [
        "parking2017 = parking2017.na.drop(subset=[\"Plate ID\",\"Violation Time\",\"Sub Division\",\"Violation Description\",\"Violation Location\",\"Street Name\",\"Violation County\"])\n",
        "parking2016 = parking2016.na.drop(subset=[\"Plate ID\",\"Violation Time\",\"Sub Division\",\"Violation Description\",\"Violation Location\",\"Street Name\",\"Violation County\"])\n",
        "parking2015 = parking2015.na.drop(subset=[\"Plate ID\",\"Violation Time\",\"Sub Division\",\"Violation Description\",\"Violation Location\",\"Street Name\",\"Violation County\"])\n",
        "parking2014 = parking2014.na.drop(subset=[\"Plate ID\",\"Violation Time\",\"Sub Division\",\"Violation Description\",\"Violation Location\",\"Street Name\",\"Violation County\"])"
      ],
      "execution_count": null,
      "outputs": []
    },
    {
      "cell_type": "code",
      "metadata": {
        "id": "VjvLft2LEjwO"
      },
      "source": [
        "parking2017 = parking2017.toDF(*(c.replace(' ', '_') for c in parking2017.columns))\n",
        "parking2016 = parking2016.toDF(*(c.replace(' ', '_') for c in parking2016.columns))\n",
        "parking2015 = parking2015.toDF(*(c.replace(' ', '_') for c in parking2015.columns))\n",
        "parking2014 = parking2014.toDF(*(c.replace(' ', '_') for c in parking2014.columns))"
      ],
      "execution_count": null,
      "outputs": []
    },
    {
      "cell_type": "code",
      "metadata": {
        "id": "lS4HS6LUE4Au"
      },
      "source": [
        "colNames = [\"Vehicle_Make\"]\n",
        "parking2017 = parking2017.na.fill(\"FORD\", colNames)\n",
        "parking2016 = parking2016.na.fill(\"FORD\", colNames)\n",
        "parking2015 = parking2015.na.fill(\"FORD\", colNames)\n",
        "parking2014 = parking2014.na.fill(\"FORD\", colNames)"
      ],
      "execution_count": null,
      "outputs": []
    },
    {
      "cell_type": "code",
      "metadata": {
        "id": "qn5kp3ey4dcT"
      },
      "source": [
        ""
      ],
      "execution_count": null,
      "outputs": []
    },
    {
      "cell_type": "markdown",
      "metadata": {
        "id": "_mPWWkO3FD9l"
      },
      "source": [
        "# Predictions"
      ]
    },
    {
      "cell_type": "code",
      "metadata": {
        "id": "UEn7pbcNFFqX"
      },
      "source": [
        "from pyspark.sql.functions import unix_timestamp, from_unixtime\n",
        "\n",
        "parking2017.createOrReplaceTempView(\"parkingtable2017\")\n",
        "parking2016.createOrReplaceTempView(\"parkingtable2016\")\n",
        "parking2015.createOrReplaceTempView(\"parkingtable2015\")\n",
        "parking2014.createOrReplaceTempView(\"parkingtable2014\")"
      ],
      "execution_count": null,
      "outputs": []
    },
    {
      "cell_type": "code",
      "metadata": {
        "id": "JRW9rp-Lb1Yf"
      },
      "source": [
        "from pyspark.sql.functions import udf,desc\n",
        "from datetime import datetime"
      ],
      "execution_count": null,
      "outputs": []
    },
    {
      "cell_type": "code",
      "metadata": {
        "id": "XvisW97yI-g6"
      },
      "source": [
        "\n",
        "\n",
        "from pyspark.sql.functions import date_format\n",
        "from pyspark.sql.functions import to_date, date_format\n",
        "\n",
        "from pyspark.sql.functions import *\n"
      ],
      "execution_count": null,
      "outputs": []
    },
    {
      "cell_type": "code",
      "metadata": {
        "id": "wNUHDXsFtB4r"
      },
      "source": [
        "\n"
      ],
      "execution_count": null,
      "outputs": []
    },
    {
      "cell_type": "code",
      "metadata": {
        "id": "8laOB89uIBOj"
      },
      "source": [
        "data_2017 = spark.sql(\"select year(from_unixtime(unix_timestamp(Issue_Date, 'MM/dd/yyy'))) as year,month(from_unixtime(unix_timestamp(Issue_Date, 'MM/dd/yyy'))) as month,day(from_unixtime(unix_timestamp(Issue_Date, 'MM/dd/yyy'))) as day,Violation_Location, Violation_Code , count(*) as frequency from parkingtable2017  Group by year,month,day,Violation_Location, Violation_Code order by year,month,day,Violation_Location,Violation_Code \")"
      ],
      "execution_count": null,
      "outputs": []
    },
    {
      "cell_type": "code",
      "metadata": {
        "id": "pD9qXyW8OQDB"
      },
      "source": [
        "data_2017_day = spark.sql(\"select year(from_unixtime(unix_timestamp(Issue_Date, 'MM/dd/yyy'))) as year,month(from_unixtime(unix_timestamp(Issue_Date, 'MM/dd/yyy'))) as month,day(from_unixtime(unix_timestamp(Issue_Date, 'MM/dd/yyy'))) day,Violation_Location,count(*) as totalViolation from parkingtable2017  Group by year,month,day,Violation_Location order by year,month,day,Violation_Location \")"
      ],
      "execution_count": null,
      "outputs": []
    },
    {
      "cell_type": "code",
      "metadata": {
        "id": "jgfT_GUjSqOd"
      },
      "source": [
        ""
      ],
      "execution_count": null,
      "outputs": []
    },
    {
      "cell_type": "code",
      "metadata": {
        "id": "d8yJIp6hSyWa"
      },
      "source": [
        ""
      ],
      "execution_count": null,
      "outputs": []
    },
    {
      "cell_type": "code",
      "metadata": {
        "id": "09i5szdxTfR-",
        "colab": {
          "base_uri": "https://localhost:8080/"
        },
        "outputId": "98da6c40-19ef-4879-909e-659c8b0e7c59"
      },
      "source": [
        "data_2017_day.dtypes"
      ],
      "execution_count": null,
      "outputs": [
        {
          "output_type": "execute_result",
          "data": {
            "text/plain": [
              "[('year', 'int'),\n",
              " ('month', 'int'),\n",
              " ('day', 'int'),\n",
              " ('Violation_Location', 'int'),\n",
              " ('totalViolation', 'bigint')]"
            ]
          },
          "metadata": {
            "tags": []
          },
          "execution_count": 14
        }
      ]
    },
    {
      "cell_type": "code",
      "metadata": {
        "id": "C49zYmmnOdMv"
      },
      "source": [
        "#data_2017_day.show(100)"
      ],
      "execution_count": null,
      "outputs": []
    },
    {
      "cell_type": "code",
      "metadata": {
        "id": "_RG98vEOOj0e"
      },
      "source": [
        "import pyspark.sql.functions as F\n",
        "from pyspark.sql.functions import round, col\n",
        "df = data_2017.join(data_2017_day, (data_2017.Violation_Location == data_2017_day.Violation_Location) & (data_2017.year == data_2017_day.year)& (data_2017.month == data_2017_day.month)& (data_2017.day == data_2017_day.day))\\\n",
        "    .withColumn(\"violation_probability\", round(F.col(\"frequency\") / F.col(\"totalViolation\"), 5))\\\n",
        "    .drop(data_2017_day.totalViolation).drop(data_2017.frequency).drop(data_2017_day.Violation_Location).drop(data_2017_day.month).drop(data_2017_day.day).drop(data_2017_day.year)\n",
        "#df.show(100)"
      ],
      "execution_count": null,
      "outputs": []
    },
    {
      "cell_type": "markdown",
      "metadata": {
        "id": "aXfRQKR86q-D"
      },
      "source": [
        "for 2014 to 2016 first"
      ]
    },
    {
      "cell_type": "code",
      "metadata": {
        "id": "oevgkdPw6p5U"
      },
      "source": [
        "data_2014 = spark.sql(\"select year(from_unixtime(unix_timestamp(Issue_Date, 'MM/dd/yyy'))) as year,month(from_unixtime(unix_timestamp(Issue_Date, 'MM/dd/yyy'))) as month,day(from_unixtime(unix_timestamp(Issue_Date, 'MM/dd/yyy'))) as day,Violation_Location, Violation_Code , count(*) as frequency from parkingtable2014  Group by year,month,day,Violation_Location, Violation_Code order by year,month,day,Violation_Location,Violation_Code \")\n",
        "\n",
        "data_2015 = spark.sql(\"select year(from_unixtime(unix_timestamp(Issue_Date, 'MM/dd/yyy'))) as year,month(from_unixtime(unix_timestamp(Issue_Date, 'MM/dd/yyy'))) as month,day(from_unixtime(unix_timestamp(Issue_Date, 'MM/dd/yyy'))) as day,Violation_Location, Violation_Code , count(*) as frequency from parkingtable2015  Group by year,month,day,Violation_Location, Violation_Code order by year,month,day,Violation_Location,Violation_Code \")\n",
        "\n",
        "\n",
        "data_2016 = spark.sql(\"select year(from_unixtime(unix_timestamp(Issue_Date, 'MM/dd/yyy'))) as year,month(from_unixtime(unix_timestamp(Issue_Date, 'MM/dd/yyy'))) as month,day(from_unixtime(unix_timestamp(Issue_Date, 'MM/dd/yyy'))) as day,Violation_Location, Violation_Code , count(*) as frequency from parkingtable2016  Group by year,month,day,Violation_Location, Violation_Code order by year,month,day,Violation_Location,Violation_Code \")\n",
        "\n"
      ],
      "execution_count": null,
      "outputs": []
    },
    {
      "cell_type": "code",
      "metadata": {
        "id": "mH0cHnOBUIqv",
        "colab": {
          "base_uri": "https://localhost:8080/"
        },
        "outputId": "a82cbb86-590d-45f6-de8a-23e6e372c5d2"
      },
      "source": [
        "data_2014.dtypes"
      ],
      "execution_count": null,
      "outputs": [
        {
          "output_type": "execute_result",
          "data": {
            "text/plain": [
              "[('year', 'int'),\n",
              " ('month', 'int'),\n",
              " ('day', 'int'),\n",
              " ('Violation_Location', 'int'),\n",
              " ('Violation_Code', 'int'),\n",
              " ('frequency', 'bigint')]"
            ]
          },
          "metadata": {
            "tags": []
          },
          "execution_count": 17
        }
      ]
    },
    {
      "cell_type": "code",
      "metadata": {
        "id": "VkUAfpYN458k"
      },
      "source": [
        "data_2014_day = spark.sql(\"select year(from_unixtime(unix_timestamp(Issue_Date, 'MM/dd/yyy'))) as year,month(from_unixtime(unix_timestamp(Issue_Date, 'MM/dd/yyy'))) as month,day(from_unixtime(unix_timestamp(Issue_Date, 'MM/dd/yyy'))) as day,Violation_Location,count(*) as totalViolation from parkingtable2014   Group by year,month,day,Violation_Location order by year,month,day,Violation_Location \")\n",
        "\n",
        "data_2015_day = spark.sql(\"select year(from_unixtime(unix_timestamp(Issue_Date, 'MM/dd/yyy'))) as year,month(from_unixtime(unix_timestamp(Issue_Date, 'MM/dd/yyy'))) as month,day(from_unixtime(unix_timestamp(Issue_Date, 'MM/dd/yyy'))) as day,Violation_Location,count(*) as totalViolation from parkingtable2015  Group by year,month,day,Violation_Location order by year,month,day,Violation_Location \")\n",
        "\n",
        "data_2016_day = spark.sql(\"select year(from_unixtime(unix_timestamp(Issue_Date, 'MM/dd/yyy'))) as year,month(from_unixtime(unix_timestamp(Issue_Date, 'MM/dd/yyy'))) as month,day(from_unixtime(unix_timestamp(Issue_Date, 'MM/dd/yyy'))) as day,Violation_Location,count(*) as totalViolation from parkingtable2016 where  Group by year,month,day,Violation_Location order by year,month,day,Violation_Location \")\n"
      ],
      "execution_count": null,
      "outputs": []
    },
    {
      "cell_type": "code",
      "metadata": {
        "id": "5wSRUxWhXL3I",
        "colab": {
          "base_uri": "https://localhost:8080/"
        },
        "outputId": "7b4c2ead-52f8-4796-9069-a720801e2fc2"
      },
      "source": [
        "data_2014_day.dtypes"
      ],
      "execution_count": null,
      "outputs": [
        {
          "output_type": "execute_result",
          "data": {
            "text/plain": [
              "[('year', 'int'),\n",
              " ('month', 'int'),\n",
              " ('day', 'int'),\n",
              " ('Violation_Location', 'int'),\n",
              " ('totalViolation', 'bigint')]"
            ]
          },
          "metadata": {
            "tags": []
          },
          "execution_count": 19
        }
      ]
    },
    {
      "cell_type": "code",
      "metadata": {
        "id": "ukbLxBiJ7bOW"
      },
      "source": [
        "import pyspark.sql.functions as F\n",
        "from pyspark.sql.functions import round, col\n",
        "df_2014 = data_2014.join(data_2014_day, (data_2014.Violation_Location == data_2014_day.Violation_Location) & (data_2014.year == data_2014_day.year)& (data_2014.month == data_2014_day.month) & (data_2014_day.day == data_2014_day.day))\\\n",
        "    .withColumn(\"violation_probability\", round(F.col(\"frequency\") / F.col(\"totalViolation\"), 5))\\\n",
        "    .drop(data_2014_day.totalViolation).drop(data_2014.frequency).drop(data_2014_day.Violation_Location).drop(data_2014_day.month).drop(data_2014_day.day).drop(data_2014_day.year)\n",
        "\n",
        "df_2015 = data_2015.join(data_2015_day, (data_2015.Violation_Location == data_2015_day.Violation_Location) & (data_2015.year == data_2015_day.year)& (data_2015.month == data_2015_day.month) & (data_2015_day.day == data_2015_day.day))\\\n",
        "    .withColumn(\"violation_probability\", round(F.col(\"frequency\") / F.col(\"totalViolation\"), 5))\\\n",
        "    .drop(data_2015_day.totalViolation).drop(data_2015.frequency).drop(data_2015_day.Violation_Location).drop(data_2015_day.month).drop(data_2015_day.day).drop(data_2015_day.year)\n",
        "\n",
        "df_2016 = data_2016.join(data_2016_day, (data_2016.Violation_Location == data_2016_day.Violation_Location) & (data_2016.year == data_2016_day.year)& (data_2016.month == data_2016_day.month) & (data_2016_day.day == data_2016_day.day))\\\n",
        "    .withColumn(\"violation_probability\", round(F.col(\"frequency\") / F.col(\"totalViolation\"), 5))\\\n",
        "    .drop(data_2016_day.totalViolation).drop(data_2016.frequency).drop(data_2016_day.Violation_Location).drop(data_2016_day.month).drop(data_2016_day.day).drop(data_2016_day.year)\n",
        "\n",
        "#df_2015.show()"
      ],
      "execution_count": null,
      "outputs": []
    },
    {
      "cell_type": "code",
      "metadata": {
        "id": "agZAcfE1FR_s"
      },
      "source": [
        "#dataframe concatenation\n",
        "from functools import reduce  # For Python 3.x\n",
        "from pyspark.sql import DataFrame\n",
        "\n",
        "def unionAll(*dfs):\n",
        "    return reduce(DataFrame.unionAll, dfs)\n",
        "\n",
        "full_df = unionAll( df_2015, df_2016,df)\n",
        "#train_df.show(10)"
      ],
      "execution_count": null,
      "outputs": []
    },
    {
      "cell_type": "code",
      "metadata": {
        "id": "rGTwrev0FPmi"
      },
      "source": [
        "#from pyspark.ml.feature import StringIndexer\n",
        "#qualification_indexer = StringIndexer(inputCol=\"day\", outputCol=\"day_chng\")\n",
        "#Fits a model to the input dataset with optional parameters.\n",
        "#df_buck = qualification_indexer.fit(full_df).transform(full_df)\n",
        "#df_buck.show()"
      ],
      "execution_count": null,
      "outputs": []
    },
    {
      "cell_type": "code",
      "metadata": {
        "id": "6w3Cik33ARGb"
      },
      "source": [
        ""
      ],
      "execution_count": null,
      "outputs": []
    },
    {
      "cell_type": "code",
      "metadata": {
        "id": "cAR8lUwnbzTm"
      },
      "source": [
        ""
      ],
      "execution_count": null,
      "outputs": []
    },
    {
      "cell_type": "code",
      "metadata": {
        "id": "r2nvBai6GM_A"
      },
      "source": [
        "from pyspark.ml.feature import OneHotEncoder\n",
        "\n",
        "#for training data\n",
        "#\n",
        "\n",
        "day_encoded = OneHotEncoder(inputCol=\"day\", outputCol=\"day_one\")\n",
        "df_buck = day_encoded.fit(full_df).transform(full_df)\n",
        "\n",
        "\n",
        "\n",
        "\n",
        "\n",
        "\n",
        "\n",
        "#df_buck_train.show(10)"
      ],
      "execution_count": null,
      "outputs": []
    },
    {
      "cell_type": "code",
      "metadata": {
        "id": "yp0PLdAxjvT-"
      },
      "source": [
        "location_encoded = OneHotEncoder(inputCol=\"Violation_Location\", outputCol=\"Violation_Location_one\")\n",
        "df_buck1 = location_encoded.fit(df_buck).transform(df_buck)"
      ],
      "execution_count": null,
      "outputs": []
    },
    {
      "cell_type": "code",
      "metadata": {
        "id": "z2qv8jTTjwNf"
      },
      "source": [
        "code_encoded = OneHotEncoder(inputCol=\"Violation_Code\", outputCol=\"Violation_Code_one\")\n",
        "df_buck2 = code_encoded.fit(df_buck1).transform(df_buck1)\n"
      ],
      "execution_count": null,
      "outputs": []
    },
    {
      "cell_type": "code",
      "metadata": {
        "id": "iyNOvjaCGuv2"
      },
      "source": [
        "from pyspark.ml.linalg import Vectors\n",
        "from pyspark.ml.feature import VectorAssembler\n",
        "\n",
        "#for training data\n",
        "#assembler = VectorAssembler(inputCols=[\"day_one\",\"month_one\",\"Violation_Location_one\",\"week_one\",\"Violation_Code_one\"], outputCol=\"features\")\n",
        "# Assemble all the features with VectorAssembler\n",
        "required_features = [\"year\",\"month\",\"day_one\",\"Violation_Location_one\",\"Violation_Code_one\"]\n",
        "\n",
        "from pyspark.ml.feature import VectorAssembler\n",
        "\n",
        "numericCols = [] #['prob']\n",
        "assemblerInputs = [c  for c in required_features] + numericCols\n",
        "assembler = VectorAssembler(inputCols=assemblerInputs, outputCol='features')\n",
        "\n",
        "transformed_data = assembler.transform(df_buck2)\n",
        "#transformed_data.show(5)"
      ],
      "execution_count": null,
      "outputs": []
    },
    {
      "cell_type": "code",
      "metadata": {
        "id": "nswy9zAFGkMv"
      },
      "source": [
        "(training_data, test_data) = transformed_data.randomSplit([0.8,0.2], seed =2020)"
      ],
      "execution_count": null,
      "outputs": []
    },
    {
      "cell_type": "code",
      "metadata": {
        "id": "0yEVDasmLH9S",
        "colab": {
          "base_uri": "https://localhost:8080/"
        },
        "outputId": "ce5d4503-c4c5-4b87-fc0d-fd1055db1ad3"
      },
      "source": [
        "from pyspark.ml.regression import LinearRegression\n",
        "lr = LinearRegression(featuresCol = 'features', labelCol='violation_probability')\n",
        "lr_model = lr.fit(training_data)\n",
        "print(\"Coefficients: \" + str(lr_model.coefficients))\n",
        "print(\"Intercept: \" + str(lr_model.intercept))"
      ],
      "execution_count": null,
      "outputs": [
        {
          "output_type": "stream",
          "text": [
            "Coefficients: [-0.00033098271697445584,-9.457542312984207e-05,0.0,-0.0002198335644110685,-0.0019563024908152878,-0.0012024165285327505,0.0012046684603103119,0.0005230202825503336,-0.0008142042263362837,-0.0004405292759599622,-0.002143209228263216,-0.002141820853318727,-0.0014532231898260863,-0.001858736493326953,-0.0004662522753247734,-0.001292726046651888,-0.0012724793700681835,-0.0018438379491721862,-0.00342610789578957,-0.001633011992783817,-0.0020517479758762414,-0.0023416965318339,-0.002882172234445708,-0.0031787150118863373,-0.003720804976640689,-0.00342635351442586,-0.0014742400931414966,0.0008219066580358535,0.0006076149306680141,-0.0003345389228903538,-0.0005051862973490409,-0.0008565324620880656,-0.001971433268811859,0.0,-0.14399799336106803,0.0,0.0,0.0,-0.14224507590326305,-0.140724938322932,-0.13694394094190912,0.0,-0.14149836610453323,-0.1451995545743845,0.0,0.0,-0.14536786978462404,-0.14601003281132596,0.0,0.0,-0.1455099257302641,-0.14594835088992866,-0.1457991236331085,-0.1424755046429879,0.0,0.1656232924889966,-0.13625664018626435,-0.13882670559669574,-0.13163308975934768,-0.13100809694577184,0.0,-0.1364316643088936,0.0,-0.12721511938263222,0.0,-0.1266564319974686,-0.13223086465192357,-0.13490383051711655,0.0,0.0,0.0,0.0,0.0,-0.1336415502776053,-0.1280382391148064,-0.11054482358918877,-0.13462581708783564,-0.1350380025550791,-0.1338974668874142,-0.13668025752954122,-0.1342803998476499,-0.13366925470329774,-0.13567308900107608,-0.13202169228968247,0.0,-0.13664611898569684,0.0,0.0,0.0,0.0,0.0,0.0,0.0,-0.12235604592783803,-0.13390921235070322,-0.13123343574532637,-0.1267819312277351,0.0,0.0,-0.12994824167821648,-0.1302178084768235,-0.13188992822566137,-0.11017383501185211,-0.1327925692638506,-0.11946333711863971,-0.13108939147195106,-0.11395779399154247,0.0,-0.12406180094241223,-0.11923341438438191,-0.1314316880816493,-0.13088275570270275,-0.12960920902374448,0.0,-0.08928726304427002,0.0,-0.12503012539095743,-0.1376722896325654,0.0,0.0,0.0,-0.1338834991906694,0.0,-0.13281069178201885,0.0,0.0,0.0,-0.13270490200067597,0.0,0.0,0.0,0.0,0.0,-0.11239918226175608,-0.11161180258313819,-0.1356197099860351,-0.13723810634246952,-0.1366065694479424,-0.13063962485703073,-0.12862563684861858,-0.1312453276514123,-0.13903768166585354,-0.13869433258873343,-0.13690828566238966,-0.11985678885643286,-0.13533640819818457,-0.121274167720304,-0.13935526382066812,-0.14200517221762893,0.0,0.0,0.0,0.0,-0.11163336352520287,-0.0712007619453609,-0.09995664235677759,0.0,0.012356784931636448,0.007065059623268589,0.012438920081068762,0.01549794892187171,0.0,-0.0036873882114050434,0.0,0.008748700543308601,0.032830158013365106,0.011159346799038756,0.006976657977123454,0.003337138036015299,0.011903111875068494,0.09117544021388418,0.0,0.023291785712353238,0.015928293740386734,0.008195225795451708,0.03320860042902702,0.08441866393333518,0.23451954093492366,0.004467582289052955,0.00944807306873615,0.011466452768414587,0.002287451648461276,0.007763703812399914,-0.007086752056562009,0.0015458945441351132,0.003573388489015234,0.007662110781872291,0.0513138644520988,0.0059749825509302825,0.0026231040924123063,0.0,0.009705928862814439,0.0,0.08145916823971315,0.16515056008952134,0.010093209454235105,0.06748390202347916,0.0,0.031207588775140075,0.006581315317167651,0.007159572626524197,0.0034548583071362018,0.04316529551478852,0.07715187683030261,0.015597959893359865,0.004523488232573689,0.01039201866822853,0.00843507649772733,0.003253753402949376,0.006678766671030978,0.0,0.002701868804101944,0.006673705607688827,0.0074780563371422346,0.0043125210557278726,0.0042969517224246,0.006427407677465937,0.0015265041406240837,0.005883335945145604,0.0035802211713159143,0.02360988252039652,0.00661084852158745,0.014580403442258848,0.002213158134866065,0.01345532127770412,0.0662426380003326,0.036940650023153464,0.0897485013550278,0.005170741396070386,0.0019979626591581793,0.013500680796377429,-0.0001592795509643748,0.0,0.006967524326875253,0.013771075253283636,0.014818588352290446,0.0008398295095396099,0.009014984002646921,0.005189647150503989,0.00483498450792071,0.011652671537347633,0.049420452474795325,0.005650517067481684,0.0,0.0,0.013255044029291802,0.0,0.002658844213127838,0.0006454775053177292,0.0017147543998916814,0.0,0.0,0.0009705552884281765,0.005511834627502863]\n",
            "Intercept: 0.808410704209563\n"
          ],
          "name": "stdout"
        }
      ]
    },
    {
      "cell_type": "code",
      "metadata": {
        "id": "bRKl6YvyLiKS"
      },
      "source": [
        "model_path = \"/content/gdrive/My Drive/Big Data/\" + \"modelday\"\n",
        "lr_model.save(model_path)"
      ],
      "execution_count": null,
      "outputs": []
    },
    {
      "cell_type": "code",
      "metadata": {
        "id": "fT_G-0zyMTR-"
      },
      "source": [
        "from pyspark.ml.regression import LinearRegressionModel\n",
        "model2 = LinearRegressionModel.load(model_path)"
      ],
      "execution_count": null,
      "outputs": []
    },
    {
      "cell_type": "code",
      "metadata": {
        "id": "GRpiuUb0Mewl"
      },
      "source": [
        "model2_predict = model2.transform(test_data.limit(10))"
      ],
      "execution_count": null,
      "outputs": []
    },
    {
      "cell_type": "code",
      "metadata": {
        "id": "r1_MInfIMf7Q",
        "colab": {
          "base_uri": "https://localhost:8080/"
        },
        "outputId": "777bc677-ca35-4c00-c1fb-1962c7262e59"
      },
      "source": [
        "model2_predict.select(\"prediction\",\"violation_probability\",\"features\").show(10,False)"
      ],
      "execution_count": null,
      "outputs": [
        {
          "output_type": "stream",
          "text": [
            "+--------------------+---------------------+-----------------------------------------------+\n",
            "|prediction          |violation_probability|features                                       |\n",
            "+--------------------+---------------------+-----------------------------------------------+\n",
            "|0.17115625033374426 |0.16975              |(254,[0,1,29,67,194],[2014.0,6.0,1.0,1.0,1.0]) |\n",
            "|0.016397708912451403|0.00926              |(254,[0,1,29,67,206],[2014.0,6.0,1.0,1.0,1.0]) |\n",
            "|0.008218848379089039|0.00926              |(254,[0,1,29,67,223],[2014.0,6.0,1.0,1.0,1.0]) |\n",
            "|0.0957541915992507  |0.0216               |(254,[0,1,29,67,227],[2014.0,6.0,1.0,1.0,1.0]) |\n",
            "|0.01950637104060038 |0.00617              |(254,[0,1,29,67,230],[2014.0,6.0,1.0,1.0,1.0]) |\n",
            "|0.09420124025132426 |0.01079              |(254,[0,1,7,101,176],[2014.0,7.0,1.0,1.0,1.0]) |\n",
            "|0.052947871832777604|0.01079              |(254,[0,1,7,101,202],[2014.0,7.0,1.0,1.0,1.0]) |\n",
            "|0.016209983995455035|0.0036               |(254,[0,1,7,101,216],[2014.0,7.0,1.0,1.0,1.0]) |\n",
            "|0.10538296148388948 |0.1028               |(254,[0,1,12,108,227],[2014.0,7.0,1.0,1.0,1.0])|\n",
            "|0.06505491260365703 |0.00935              |(254,[0,1,12,108,241],[2014.0,7.0,1.0,1.0,1.0])|\n",
            "+--------------------+---------------------+-----------------------------------------------+\n",
            "\n"
          ],
          "name": "stdout"
        }
      ]
    },
    {
      "cell_type": "code",
      "metadata": {
        "id": "18hhqS8xMsuq",
        "colab": {
          "base_uri": "https://localhost:8080/"
        },
        "outputId": "b8b8f7c3-6371-46c1-abc1-8c382cb06942"
      },
      "source": [
        "\n",
        "print(\"Coefficients: \" + str(lr_model.coefficients))\n",
        "print(\"Intercept: \" + str(lr_model.intercept))"
      ],
      "execution_count": null,
      "outputs": [
        {
          "output_type": "stream",
          "text": [
            "Coefficients: [-0.00033098271697445584,-9.457542312984207e-05,0.0,-0.0002198335644110685,-0.0019563024908152878,-0.0012024165285327505,0.0012046684603103119,0.0005230202825503336,-0.0008142042263362837,-0.0004405292759599622,-0.002143209228263216,-0.002141820853318727,-0.0014532231898260863,-0.001858736493326953,-0.0004662522753247734,-0.001292726046651888,-0.0012724793700681835,-0.0018438379491721862,-0.00342610789578957,-0.001633011992783817,-0.0020517479758762414,-0.0023416965318339,-0.002882172234445708,-0.0031787150118863373,-0.003720804976640689,-0.00342635351442586,-0.0014742400931414966,0.0008219066580358535,0.0006076149306680141,-0.0003345389228903538,-0.0005051862973490409,-0.0008565324620880656,-0.001971433268811859,0.0,-0.14399799336106803,0.0,0.0,0.0,-0.14224507590326305,-0.140724938322932,-0.13694394094190912,0.0,-0.14149836610453323,-0.1451995545743845,0.0,0.0,-0.14536786978462404,-0.14601003281132596,0.0,0.0,-0.1455099257302641,-0.14594835088992866,-0.1457991236331085,-0.1424755046429879,0.0,0.1656232924889966,-0.13625664018626435,-0.13882670559669574,-0.13163308975934768,-0.13100809694577184,0.0,-0.1364316643088936,0.0,-0.12721511938263222,0.0,-0.1266564319974686,-0.13223086465192357,-0.13490383051711655,0.0,0.0,0.0,0.0,0.0,-0.1336415502776053,-0.1280382391148064,-0.11054482358918877,-0.13462581708783564,-0.1350380025550791,-0.1338974668874142,-0.13668025752954122,-0.1342803998476499,-0.13366925470329774,-0.13567308900107608,-0.13202169228968247,0.0,-0.13664611898569684,0.0,0.0,0.0,0.0,0.0,0.0,0.0,-0.12235604592783803,-0.13390921235070322,-0.13123343574532637,-0.1267819312277351,0.0,0.0,-0.12994824167821648,-0.1302178084768235,-0.13188992822566137,-0.11017383501185211,-0.1327925692638506,-0.11946333711863971,-0.13108939147195106,-0.11395779399154247,0.0,-0.12406180094241223,-0.11923341438438191,-0.1314316880816493,-0.13088275570270275,-0.12960920902374448,0.0,-0.08928726304427002,0.0,-0.12503012539095743,-0.1376722896325654,0.0,0.0,0.0,-0.1338834991906694,0.0,-0.13281069178201885,0.0,0.0,0.0,-0.13270490200067597,0.0,0.0,0.0,0.0,0.0,-0.11239918226175608,-0.11161180258313819,-0.1356197099860351,-0.13723810634246952,-0.1366065694479424,-0.13063962485703073,-0.12862563684861858,-0.1312453276514123,-0.13903768166585354,-0.13869433258873343,-0.13690828566238966,-0.11985678885643286,-0.13533640819818457,-0.121274167720304,-0.13935526382066812,-0.14200517221762893,0.0,0.0,0.0,0.0,-0.11163336352520287,-0.0712007619453609,-0.09995664235677759,0.0,0.012356784931636448,0.007065059623268589,0.012438920081068762,0.01549794892187171,0.0,-0.0036873882114050434,0.0,0.008748700543308601,0.032830158013365106,0.011159346799038756,0.006976657977123454,0.003337138036015299,0.011903111875068494,0.09117544021388418,0.0,0.023291785712353238,0.015928293740386734,0.008195225795451708,0.03320860042902702,0.08441866393333518,0.23451954093492366,0.004467582289052955,0.00944807306873615,0.011466452768414587,0.002287451648461276,0.007763703812399914,-0.007086752056562009,0.0015458945441351132,0.003573388489015234,0.007662110781872291,0.0513138644520988,0.0059749825509302825,0.0026231040924123063,0.0,0.009705928862814439,0.0,0.08145916823971315,0.16515056008952134,0.010093209454235105,0.06748390202347916,0.0,0.031207588775140075,0.006581315317167651,0.007159572626524197,0.0034548583071362018,0.04316529551478852,0.07715187683030261,0.015597959893359865,0.004523488232573689,0.01039201866822853,0.00843507649772733,0.003253753402949376,0.006678766671030978,0.0,0.002701868804101944,0.006673705607688827,0.0074780563371422346,0.0043125210557278726,0.0042969517224246,0.006427407677465937,0.0015265041406240837,0.005883335945145604,0.0035802211713159143,0.02360988252039652,0.00661084852158745,0.014580403442258848,0.002213158134866065,0.01345532127770412,0.0662426380003326,0.036940650023153464,0.0897485013550278,0.005170741396070386,0.0019979626591581793,0.013500680796377429,-0.0001592795509643748,0.0,0.006967524326875253,0.013771075253283636,0.014818588352290446,0.0008398295095396099,0.009014984002646921,0.005189647150503989,0.00483498450792071,0.011652671537347633,0.049420452474795325,0.005650517067481684,0.0,0.0,0.013255044029291802,0.0,0.002658844213127838,0.0006454775053177292,0.0017147543998916814,0.0,0.0,0.0009705552884281765,0.005511834627502863]\n",
            "Intercept: 0.808410704209563\n"
          ],
          "name": "stdout"
        }
      ]
    },
    {
      "cell_type": "code",
      "metadata": {
        "id": "L4imVQFcMyhK",
        "colab": {
          "base_uri": "https://localhost:8080/"
        },
        "outputId": "1a092048-b04b-43c1-f4f0-8c9e21de53f0"
      },
      "source": [
        "lr_predictions = lr_model.transform(test_data)\n",
        "lr_predictions.select(\"prediction\",\"violation_probability\",\"features\").show(100)"
      ],
      "execution_count": null,
      "outputs": [
        {
          "output_type": "stream",
          "text": [
            "+--------------------+---------------------+--------------------+\n",
            "|          prediction|violation_probability|            features|\n",
            "+--------------------+---------------------+--------------------+\n",
            "| 0.17115625033374426|              0.16975|(254,[0,1,29,67,1...|\n",
            "|0.016397708912451403|              0.00926|(254,[0,1,29,67,2...|\n",
            "|0.008218848379089039|              0.00926|(254,[0,1,29,67,2...|\n",
            "|  0.0957541915992507|               0.0216|(254,[0,1,29,67,2...|\n",
            "| 0.01950637104060038|              0.00617|(254,[0,1,29,67,2...|\n",
            "| 0.09420124025132426|              0.01079|(254,[0,1,7,101,1...|\n",
            "|0.052947871832777604|              0.01079|(254,[0,1,7,101,2...|\n",
            "|0.016209983995455035|               0.0036|(254,[0,1,7,101,2...|\n",
            "| 0.10538296148388948|               0.1028|(254,[0,1,12,108,...|\n",
            "| 0.06505491260365703|              0.00935|(254,[0,1,12,108,...|\n",
            "|0.029259578252681995|              0.01518|(254,[0,1,16,94,1...|\n",
            "|0.021896086280715488|              0.00217|(254,[0,1,16,94,1...|\n",
            "|  0.1711183526298501|               0.2885|(254,[0,1,16,94,1...|\n",
            "|0.014402869038056099|              0.00217|(254,[0,1,16,94,2...|\n",
            "|0.007494296680952...|              0.00217|(254,[0,1,16,94,2...|\n",
            "|0.011138533936399186|              0.00434|(254,[0,1,16,94,2...|\n",
            "|0.005808512989364356|              0.00217|(254,[0,1,16,94,2...|\n",
            "|  0.0566003334350369|              0.13869|(254,[0,1,19,144,...|\n",
            "|  0.0818625719362035|              0.09524|(254,[0,1,20,142,...|\n",
            "|0.005574145092560823|              0.00154|(254,[0,1,20,142,...|\n",
            "|0.012056075233838004|              0.00461|(254,[0,1,20,142,...|\n",
            "|4.034036964903897...|              0.00154|(254,[0,1,20,142]...|\n",
            "|  0.1035739941073861|              0.05495|(254,[0,1,24,116,...|\n",
            "| 0.09681721782683705|              0.09341|(254,[0,1,24,116,...|\n",
            "| 0.09385772213321497|              0.04396|(254,[0,1,24,116,...|\n",
            "| 0.07427295645090781|              0.00699|(254,[0,1,24,138,...|\n",
            "| 0.04995434994221715|              0.00699|(254,[0,1,24,138,...|\n",
            "|0.017181073095657085|              0.03497|(254,[0,1,24,138,...|\n",
            "| 0.04933920391665536|              0.00549|(254,[0,1,24,116,...|\n",
            "|  0.0717276534147574|              0.04255|(254,[0,1,25,114,...|\n",
            "| 0.13285453163573935|              0.10638|(254,[0,1,25,114,...|\n",
            "| 0.05882788637063263|              0.02128|(254,[0,1,25,114,...|\n",
            "|0.055403392029279463|              0.02128|(254,[0,1,25,114,...|\n",
            "| 0.09814578238116689|              0.01948|(254,[0,1,26,127,...|\n",
            "| 0.03208427417760917|              0.00262|(254,[0,1,26,111,...|\n",
            "| 0.07627639048873514|              0.07087|(254,[0,1,26,111,...|\n",
            "| 0.07445424419076185|              0.07468|(254,[0,1,26,127,...|\n",
            "| 0.05195778398004447|              0.01312|(254,[0,1,26,111,...|\n",
            "|0.008496846307906702|              0.00325|(254,[0,1,26,127,...|\n",
            "| 0.04573313848840943|              0.03937|(254,[0,1,26,111,...|\n",
            "|  0.0204710229636601|              0.00974|(254,[0,1,26,127,...|\n",
            "| 0.02453823830855717|              0.01746|(254,[0,1,27,39,1...|\n",
            "|0.017174746336590663|              0.00794|(254,[0,1,27,39,1...|\n",
            "| 0.01684441248956381|              0.02381|(254,[0,1,27,39,2...|\n",
            "|0.002772956736827...|              0.00159|(254,[0,1,27,39,2...|\n",
            "| 0.01474713339258138|              0.00635|(254,[0,1,27,39,2...|\n",
            "|0.006436099746707891|              0.00159|(254,[0,1,27,39,2...|\n",
            "|0.012899124133551543|              0.01111|(254,[0,1,27,39,2...|\n",
            "|  0.1007016747537286|               0.0125|(254,[0,1,28,66,1...|\n",
            "| 0.04273483496887154|                0.025|(254,[0,1,28,66,1...|\n",
            "| 0.04646688456299797|                0.025|(254,[0,1,28,66,2...|\n",
            "| 0.09311538486370297|              0.17401|(254,[0,1,32,136,...|\n",
            "| 0.16709050473934006|              0.17181|(254,[0,1,32,136,...|\n",
            "|0.012331963318047201|              0.00881|(254,[0,1,32,136,...|\n",
            "| 0.09168844600484649|              0.04185|(254,[0,1,32,136,...|\n",
            "| 0.08596253351511629|              0.13747|(254,[0,1,85,193]...|\n",
            "| 0.16965392536492452|               0.1752|(254,[0,1,85,194]...|\n",
            "|0.003543773355408...|              0.02128|(254,[0,1,5,42,23...|\n",
            "| 0.03051336045555464|              0.01724|(254,[0,1,6,77,17...|\n",
            "| 0.01541680053865313|              0.01149|(254,[0,1,6,77,17...|\n",
            "| 0.24174111567812506|              0.51724|(254,[0,1,6,77,17...|\n",
            "| 0.09697007609822916|              0.01149|(254,[0,1,6,77,22...|\n",
            "|0.018839809032145105|              0.00313|(254,[0,1,7,78,16...|\n",
            "| 0.09209912616644156|              0.04702|(254,[0,1,7,78,17...|\n",
            "|  0.1728310223226277|              0.23824|(254,[0,1,7,78,19...|\n",
            "| 0.07516436425658557|              0.03448|(254,[0,1,7,78,19...|\n",
            "|0.009206966373730419|              0.00627|(254,[0,1,7,78,21...|\n",
            "| 0.09498448051662445|              0.05851|(254,[0,1,8,61,17...|\n",
            "| 0.10119833634869457|              0.15094|(254,[0,1,8,100,1...|\n",
            "| 0.02710082601509356|               0.0266|(254,[0,1,8,61,17...|\n",
            "| 0.03701764073176739|              0.04787|(254,[0,1,8,61,17...|\n",
            "|0.055122904754839164|              0.01064|(254,[0,1,8,61,18...|\n",
            "| 0.08526820854245343|              0.07979|(254,[0,1,8,61,19...|\n",
            "| 0.16895960039226166|              0.17021|(254,[0,1,8,61,19...|\n",
            "| 0.07750679815828965|              0.01887|(254,[0,1,8,100,1...|\n",
            "|  0.0194070001961002|              0.03191|(254,[0,1,8,61,20...|\n",
            "|0.010487806973771274|              0.00532|(254,[0,1,8,61,20...|\n",
            "| 0.01730972109911777|              0.01064|(254,[0,1,8,61,23...|\n",
            "| 0.09574579547069195|              0.01608|(254,[0,1,13,76,1...|\n",
            "|0.028846407779391292|              0.01702|(254,[0,1,13,73,1...|\n",
            "| 0.24007416300196172|              0.34894|(254,[0,1,13,73,1...|\n",
            "| 0.23908989619173138|              0.40514|(254,[0,1,13,76,1...|\n",
            "|  0.1707051821565594|              0.07234|(254,[0,1,13,73,1...|\n",
            "| 0.09530312342206582|              0.05106|(254,[0,1,13,73,2...|\n",
            "| 0.08981696015043494|              0.09266|(254,[0,1,14,66,1...|\n",
            "|0.023955751804081715|              0.01931|(254,[0,1,14,66,2...|\n",
            "| 0.11071526395733855|               0.0241|(254,[0,1,20,104,...|\n",
            "|  0.1039584876767895|               0.0241|(254,[0,1,20,104,...|\n",
            "|   0.254059364678378|              0.66265|(254,[0,1,20,104,...|\n",
            "|0.013485520988329669|              0.02168|(254,[0,1,21,135,...|\n",
            "|0.017673905762360054|              0.00542|(254,[0,1,21,135,...|\n",
            "| 0.03492299430432144|              0.02833|(254,[0,1,24,135,...|\n",
            "| 0.23623393481021804|              0.33144|(254,[0,1,24,135,...|\n",
            "|0.013180846643708999|              0.00283|(254,[0,1,24,135,...|\n",
            "|0.008393160546325329|              0.00567|(254,[0,1,24,135,...|\n",
            "|0.003927552010160484|              0.00283|(254,[0,1,24,135,...|\n",
            "| 0.09146289523032214|              0.06516|(254,[0,1,24,135,...|\n",
            "|0.015215074671671824|              0.03116|(254,[0,1,24,135,...|\n",
            "|  0.0197047227135575|              0.01478|(254,[0,1,29,40,1...|\n",
            "| 0.23829596990809443|              0.10837|(254,[0,1,29,40,1...|\n",
            "+--------------------+---------------------+--------------------+\n",
            "only showing top 100 rows\n",
            "\n"
          ],
          "name": "stdout"
        }
      ]
    },
    {
      "cell_type": "code",
      "metadata": {
        "id": "DP0BO1SnM3gO"
      },
      "source": [
        "dataForGrapgh = lr_predictions.select(\"prediction\",\"violation_probability\",\"features\")"
      ],
      "execution_count": null,
      "outputs": []
    },
    {
      "cell_type": "code",
      "metadata": {
        "id": "MliDYvrzM9CP"
      },
      "source": [
        "dataG =dataForGrapgh.toPandas()"
      ],
      "execution_count": null,
      "outputs": []
    },
    {
      "cell_type": "code",
      "metadata": {
        "id": "Gwf3nCsGNBOJ",
        "colab": {
          "base_uri": "https://localhost:8080/"
        },
        "outputId": "636616ce-9a01-4364-a03e-6e8f3b09c692"
      },
      "source": [
        "# Necessary imports: \n",
        "from sklearn.model_selection import cross_val_score, cross_val_predict\n",
        "from sklearn import metrics\n",
        "accuracy = metrics.r2_score(dataG['violation_probability'], dataG['prediction'])\n",
        "print(\"Cross-Predicted Accuracy:\", accuracy)"
      ],
      "execution_count": null,
      "outputs": [
        {
          "output_type": "stream",
          "text": [
            "Cross-Predicted Accuracy: 0.427665119739859\n"
          ],
          "name": "stdout"
        }
      ]
    },
    {
      "cell_type": "code",
      "metadata": {
        "id": "i2UXS8zdNCJe",
        "colab": {
          "base_uri": "https://localhost:8080/",
          "height": 500
        },
        "outputId": "cb7e09a3-f491-473d-a1b4-ff42538f5ab4"
      },
      "source": [
        "from matplotlib import pyplot as plt\n",
        "plt.rcParams[\"figure.figsize\"] = (24, 8)\n",
        "plt.plot(dataG['prediction'][:100], label = \"Pred\")  # Load the 500 data points from prediction with label name 'Pred'\n",
        "plt.plot(dataG['violation_probability'][:100], label = \"Actual\")"
      ],
      "execution_count": null,
      "outputs": [
        {
          "output_type": "execute_result",
          "data": {
            "text/plain": [
              "[<matplotlib.lines.Line2D at 0x7f3877b3e350>]"
            ]
          },
          "metadata": {
            "tags": []
          },
          "execution_count": 39
        },
        {
          "output_type": "display_data",
          "data": {
            "image/png": "[encoded data removed]",
            "text/plain": [
              "<Figure size 1728x576 with 1 Axes>"
            ]
          },
          "metadata": {
            "tags": [],
            "needs_background": "light"
          }
        }
      ]
    }
  ]
}