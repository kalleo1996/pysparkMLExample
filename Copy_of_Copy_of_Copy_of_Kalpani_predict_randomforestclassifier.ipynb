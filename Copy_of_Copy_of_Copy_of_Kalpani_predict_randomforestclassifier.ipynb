{
  "nbformat": 4,
  "nbformat_minor": 0,
  "metadata": {
    "colab": {
      "name": "Copy of Copy of Copy of Kalpani_predict_randomforestclassifier.ipynb",
      "provenance": [],
      "collapsed_sections": [],
      "include_colab_link": true
    },
    "kernelspec": {
      "display_name": "Python 3",
      "name": "python3"
    },
    "language_info": {
      "name": "python"
    }
  },
  "cells": [
    {
      "cell_type": "markdown",
      "metadata": {
        "id": "view-in-github",
        "colab_type": "text"
      },
      "source": [
        "<a href=\"https://colab.research.google.com/github/kalleo1996/pysparkMLExample/blob/main/Copy_of_Copy_of_Copy_of_Kalpani_predict_randomforestclassifier.ipynb\" target=\"_parent\"><img src=\"https://colab.research.google.com/assets/colab-badge.svg\" alt=\"Open In Colab\"/></a>"
      ]
    },
    {
      "cell_type": "code",
      "metadata": {
        "id": "WVgT7Scp99jL",
        "colab": {
          "base_uri": "https://localhost:8080/"
        },
        "outputId": "f7b33bdf-e3dd-4680-dec0-1c8392f228ee"
      },
      "source": [
        "!pip install pyspark"
      ],
      "execution_count": 3,
      "outputs": [
        {
          "output_type": "stream",
          "text": [
            "Collecting pyspark\n",
            "\u001b[?25l  Downloading https://files.pythonhosted.org/packages/89/db/e18cfd78e408de957821ec5ca56de1250645b05f8523d169803d8df35a64/pyspark-3.1.2.tar.gz (212.4MB)\n",
            "\u001b[K     |████████████████████████████████| 212.4MB 64kB/s \n",
            "\u001b[?25hCollecting py4j==0.10.9\n",
            "\u001b[?25l  Downloading https://files.pythonhosted.org/packages/9e/b6/6a4fb90cd235dc8e265a6a2067f2a2c99f0d91787f06aca4bcf7c23f3f80/py4j-0.10.9-py2.py3-none-any.whl (198kB)\n",
            "\u001b[K     |████████████████████████████████| 204kB 15.6MB/s \n",
            "\u001b[?25hBuilding wheels for collected packages: pyspark\n",
            "  Building wheel for pyspark (setup.py) ... \u001b[?25l\u001b[?25hdone\n",
            "  Created wheel for pyspark: filename=pyspark-3.1.2-py2.py3-none-any.whl size=212880768 sha256=67a8208d0abb807adec12f8dcdf116e3846a4059c2107f286a970d13a5305e05\n",
            "  Stored in directory: /root/.cache/pip/wheels/40/1b/2c/30f43be2627857ab80062bef1527c0128f7b4070b6b2d02139\n",
            "Successfully built pyspark\n",
            "Installing collected packages: py4j, pyspark\n",
            "Successfully installed py4j-0.10.9 pyspark-3.1.2\n"
          ],
          "name": "stdout"
        }
      ]
    },
    {
      "cell_type": "code",
      "metadata": {
        "id": "JPuyqaq7Aduc"
      },
      "source": [
        "from pyspark.sql import SparkSession"
      ],
      "execution_count": 4,
      "outputs": []
    },
    {
      "cell_type": "code",
      "metadata": {
        "id": "CEt9UFlABkYl"
      },
      "source": [
        "spark = SparkSession \\\n",
        "    .builder \\\n",
        "    .config(\"spark.driver.memory\", \"15g\") \\\n",
        "    .appName(\"Exploratory Analysis\") \\\n",
        "    .getOrCreate()"
      ],
      "execution_count": 5,
      "outputs": []
    },
    {
      "cell_type": "code",
      "metadata": {
        "id": "jqYlTH5BBn77",
        "colab": {
          "base_uri": "https://localhost:8080/"
        },
        "outputId": "3cdbbce8-d0de-4fdf-9544-42f235c98c39"
      },
      "source": [
        "import numpy as np\n",
        "import pandas as pd\n",
        "from google.colab import drive\n",
        "drive.mount(\"/content/gdrive\")"
      ],
      "execution_count": 7,
      "outputs": [
        {
          "output_type": "stream",
          "text": [
            "Mounted at /content/gdrive\n"
          ],
          "name": "stdout"
        }
      ]
    },
    {
      "cell_type": "code",
      "metadata": {
        "id": "SW35cPY2Bqpd"
      },
      "source": [
        "parking2017 = spark.read.format(\"csv\").option(\"header\", \"true\").option(\"inferSchema\", \"true\").load('/content/gdrive/My Drive/Big Data/Parking_Violations_Issued_-_Fiscal_Year_2017.csv')\n",
        "parking2016 = spark.read.format(\"csv\").option(\"header\", \"true\").option(\"inferSchema\", \"true\").load('/content/gdrive/My Drive/Big Data/Parking_Violations_Issued_-_Fiscal_Year_2016.csv')\n",
        "parking2015 = spark.read.format(\"csv\").option(\"header\", \"true\").option(\"inferSchema\", \"true\").load('/content/gdrive/My Drive/Big Data/Parking_Violations_Issued_-_Fiscal_Year_2015.csv')\n",
        "parking2014 = spark.read.format(\"csv\").option(\"header\", \"true\").option(\"inferSchema\", \"true\").load('/content/gdrive/My Drive/Big Data/Parking_Violations_Issued_-_Fiscal_Year_2014__August_2013___June_2014_.csv')"
      ],
      "execution_count": 5,
      "outputs": []
    },
    {
      "cell_type": "code",
      "metadata": {
        "id": "S7VZEwJ1Dqe_"
      },
      "source": [
        "parking2017 = parking2017.dropDuplicates()\n",
        "parking2016 = parking2016.dropDuplicates()\n",
        "parking2015 = parking2015.dropDuplicates()\n",
        "parking2014 = parking2014.dropDuplicates()"
      ],
      "execution_count": 6,
      "outputs": []
    },
    {
      "cell_type": "code",
      "metadata": {
        "id": "h_u97Tc8EN__"
      },
      "source": [
        ""
      ],
      "execution_count": 6,
      "outputs": []
    },
    {
      "cell_type": "code",
      "metadata": {
        "id": "VjvLft2LEjwO"
      },
      "source": [
        "parkingtable2017 = parking2017.toDF(*(c.replace(' ', '_') for c in parking2017.columns))\n",
        "parkingtable2016 = parking2016.toDF(*(c.replace(' ', '_') for c in parking2016.columns))\n",
        "parkingtable2015 = parking2015.toDF(*(c.replace(' ', '_') for c in parking2015.columns))\n",
        "parkingtable2014 = parking2014.toDF(*(c.replace(' ', '_') for c in parking2014.columns))"
      ],
      "execution_count": 7,
      "outputs": []
    },
    {
      "cell_type": "code",
      "metadata": {
        "id": "p6phlN3f0gYW"
      },
      "source": [
        "parkingtable2017.createOrReplaceTempView(\"parking2017\")\n",
        "parkingtable2016.createOrReplaceTempView(\"parking2016\")\n",
        "parkingtable2015.createOrReplaceTempView(\"parking2015\")\n",
        "parkingtable2014.createOrReplaceTempView(\"parking2014\")"
      ],
      "execution_count": 8,
      "outputs": []
    },
    {
      "cell_type": "code",
      "metadata": {
        "id": "lS4HS6LUE4Au"
      },
      "source": [
        "parkingtable2017 = spark.sql(\"select Issue_Date,Violation_Location, Violation_Code from parking2017\")\n",
        "parkingtable2016 = spark.sql(\"select Issue_Date,Violation_Location, Violation_Code from parking2016\")\n",
        "parkingtable2015 = spark.sql(\"select Issue_Date,Violation_Location, Violation_Code from parking2015\")\n",
        "parkingtable2014 = spark.sql(\"select Issue_Date,Violation_Location, Violation_Code from parking2014\")"
      ],
      "execution_count": 9,
      "outputs": []
    },
    {
      "cell_type": "code",
      "metadata": {
        "id": "qn5kp3ey4dcT"
      },
      "source": [
        ""
      ],
      "execution_count": 9,
      "outputs": []
    },
    {
      "cell_type": "markdown",
      "metadata": {
        "id": "_mPWWkO3FD9l"
      },
      "source": [
        "# Predictions"
      ]
    },
    {
      "cell_type": "code",
      "metadata": {
        "id": "UEn7pbcNFFqX",
        "colab": {
          "base_uri": "https://localhost:8080/"
        },
        "outputId": "002d50e6-43e9-417b-bc91-e17dedf86403"
      },
      "source": [
        "from pyspark.sql.functions import unix_timestamp, from_unixtime\n",
        "\n",
        "combinedparkingtable = parkingtable2017.union(parkingtable2016).union(parkingtable2015).union(parkingtable2014)\n",
        "combinedparkingtable.show()"
      ],
      "execution_count": 10,
      "outputs": [
        {
          "output_type": "stream",
          "text": [
            "+----------+------------------+--------------+\n",
            "|Issue_Date|Violation_Location|Violation_Code|\n",
            "+----------+------------------+--------------+\n",
            "|02/22/2017|                19|            18|\n",
            "|01/27/2017|               110|            74|\n",
            "|07/23/2016|                71|            20|\n",
            "|06/23/2017|                30|            21|\n",
            "|06/15/2017|              null|            36|\n",
            "|02/16/2017|              null|            36|\n",
            "|10/28/2016|                72|            21|\n",
            "|05/30/2017|                90|            21|\n",
            "|08/20/2016|                47|            16|\n",
            "|11/11/2016|                 9|            40|\n",
            "|02/16/2017|                40|            21|\n",
            "|12/04/2016|                32|            71|\n",
            "|03/09/2017|              null|             7|\n",
            "|10/13/2016|              null|             5|\n",
            "|04/10/2017|                24|            21|\n",
            "|10/04/2016|                23|            38|\n",
            "|05/08/2017|               110|            13|\n",
            "|10/29/2016|               112|            37|\n",
            "|03/15/2017|                52|            19|\n",
            "|05/18/2017|                66|            38|\n",
            "+----------+------------------+--------------+\n",
            "only showing top 20 rows\n",
            "\n"
          ],
          "name": "stdout"
        }
      ]
    },
    {
      "cell_type": "code",
      "metadata": {
        "id": "Y1ZcX0HUwcmz"
      },
      "source": [
        "#parking2017.show(100)"
      ],
      "execution_count": 11,
      "outputs": []
    },
    {
      "cell_type": "code",
      "metadata": {
        "id": "o3PJgCUqh2qb"
      },
      "source": [
        "combinedparkingtable=combinedparkingtable.dropna()"
      ],
      "execution_count": 12,
      "outputs": []
    },
    {
      "cell_type": "code",
      "metadata": {
        "id": "WRGYxQPdxB8H",
        "colab": {
          "base_uri": "https://localhost:8080/"
        },
        "outputId": "07119651-e90e-4dca-e32a-9786e6cafc66"
      },
      "source": [
        "combinedparkingtable.count()\n"
      ],
      "execution_count": 13,
      "outputs": [
        {
          "output_type": "execute_result",
          "data": {
            "text/plain": [
              "35236230"
            ]
          },
          "metadata": {
            "tags": []
          },
          "execution_count": 13
        }
      ]
    },
    {
      "cell_type": "code",
      "metadata": {
        "id": "BF7Ae3a0IewL"
      },
      "source": [
        "combinedparkingtable.createOrReplaceTempView(\"combinedparkingtableView\")\n"
      ],
      "execution_count": 14,
      "outputs": []
    },
    {
      "cell_type": "code",
      "metadata": {
        "colab": {
          "base_uri": "https://localhost:8080/"
        },
        "id": "h6R-mMX8MNQv",
        "outputId": "a751f190-1c03-4b37-8fa3-c26ceeef1698"
      },
      "source": [
        "def get_weekday(date):\n",
        "    import datetime\n",
        "    import calendar\n",
        "    month, day, year = (int(x) for x in date.split('/'))    \n",
        "    weekday = datetime.date(year, month, day)\n",
        "    #return calendar.day_name[weekday.weekday()]\n",
        "    \n",
        "    if calendar.day_name[weekday.weekday()] == 'Sunday':\n",
        "      return 0\n",
        "    if calendar.day_name[weekday.weekday()] == 'Monday':\n",
        "      return 1\n",
        "    if calendar.day_name[weekday.weekday()] == 'Tuesday':\n",
        "      return 2\n",
        "    if calendar.day_name[weekday.weekday()] == 'Wednesday':\n",
        "      return 3\n",
        "    if calendar.day_name[weekday.weekday()] == 'Thursday':\n",
        "      return 4\n",
        "    if calendar.day_name[weekday.weekday()] == 'Friday':\n",
        "      return 5\n",
        "    if calendar.day_name[weekday.weekday()] == 'Saturday':\n",
        "      return 6\n",
        "    if calendar.day_name[weekday.weekday()] == 'Sunday':\n",
        "      return 7\n",
        "\n",
        "spark.udf.register('get_weekday', get_weekday)"
      ],
      "execution_count": 15,
      "outputs": [
        {
          "output_type": "execute_result",
          "data": {
            "text/plain": [
              "<function __main__.get_weekday>"
            ]
          },
          "metadata": {
            "tags": []
          },
          "execution_count": 15
        }
      ]
    },
    {
      "cell_type": "code",
      "metadata": {
        "id": "9xtOvGlLakDB"
      },
      "source": [
        ""
      ],
      "execution_count": 15,
      "outputs": []
    },
    {
      "cell_type": "code",
      "metadata": {
        "id": "0uEcH79Ndieo"
      },
      "source": [
        ""
      ],
      "execution_count": 15,
      "outputs": []
    },
    {
      "cell_type": "code",
      "metadata": {
        "colab": {
          "base_uri": "https://localhost:8080/"
        },
        "id": "m2Hty912NsM_",
        "outputId": "1eb796fc-02b2-4eb3-edee-2f7f0f2976f2"
      },
      "source": [
        "from pyspark.sql.functions import udf\n",
        "\n",
        "def week_number(date_str):\n",
        "    start_day_of_week=7\n",
        "   \n",
        "    def _week_number(date_str):\n",
        "        from datetime import datetime, date\n",
        "        d = datetime.strptime(date_str, '%m/%d/%Y')     # compatible with Python2\n",
        "        wd_d1 = date(d.year, d.month, 1).isoweekday()\n",
        "        offset = (wd_d1 - start_day_of_week + 7 ) % 7\n",
        "        return (d.day - 1 + offset) // 7 + 1\n",
        "    return _week_number(date_str)\n",
        "spark.udf.register('week_number',week_number)    "
      ],
      "execution_count": 16,
      "outputs": [
        {
          "output_type": "execute_result",
          "data": {
            "text/plain": [
              "<function __main__.week_number>"
            ]
          },
          "metadata": {
            "tags": []
          },
          "execution_count": 16
        }
      ]
    },
    {
      "cell_type": "code",
      "metadata": {
        "id": "JRW9rp-Lb1Yf"
      },
      "source": [
        "from pyspark.sql.functions import udf,desc\n",
        "from datetime import datetime"
      ],
      "execution_count": 17,
      "outputs": []
    },
    {
      "cell_type": "code",
      "metadata": {
        "id": "XvisW97yI-g6"
      },
      "source": [
        "\n",
        "\n",
        "from pyspark.sql.functions import date_format\n",
        "from pyspark.sql.functions import to_date, date_format\n",
        "\n",
        "from pyspark.sql.functions import *\n"
      ],
      "execution_count": 18,
      "outputs": []
    },
    {
      "cell_type": "markdown",
      "metadata": {
        "id": "aXfRQKR86q-D"
      },
      "source": [
        "for 2014 to 2016 first"
      ]
    },
    {
      "cell_type": "code",
      "metadata": {
        "id": "oevgkdPw6p5U"
      },
      "source": [
        "data_2014 = spark.sql(\"select year(from_unixtime(unix_timestamp(Issue_Date, 'MM/dd/yyy'))) as year,month(from_unixtime(unix_timestamp(Issue_Date, 'MM/dd/yyy'))) as month,week_number(Issue_Date) as week,get_weekday(Issue_Date) as day,Violation_Location, Violation_Code , count(*) as frequency from combinedparkingtableView where   Group by year,month,week,day,Violation_Location, Violation_Code order by year,month,week,day,Violation_Location,Violation_Code \")\n",
        "data_2014.createOrReplaceTempView(\"data_2014\")\n",
        "data_2014 = spark.sql(\" SELECT CAST(year AS INTEGER),CAST(month AS INTEGER),CAST(week AS INTEGER) , CAST(day AS INTEGER), CAST(Violation_Location AS INTEGER),CAST(Violation_Code AS INTEGER),frequency FROM data_2014 where year>= 2014 \")\n",
        "\n",
        "\n"
      ],
      "execution_count": 19,
      "outputs": []
    },
    {
      "cell_type": "code",
      "metadata": {
        "id": "mH0cHnOBUIqv",
        "colab": {
          "base_uri": "https://localhost:8080/"
        },
        "outputId": "b01ddf29-d9d2-420b-b49a-8b64062a7853"
      },
      "source": [
        "data_2014.dtypes"
      ],
      "execution_count": 20,
      "outputs": [
        {
          "output_type": "execute_result",
          "data": {
            "text/plain": [
              "[('year', 'int'),\n",
              " ('month', 'int'),\n",
              " ('week', 'int'),\n",
              " ('day', 'int'),\n",
              " ('Violation_Location', 'int'),\n",
              " ('Violation_Code', 'int'),\n",
              " ('frequency', 'bigint')]"
            ]
          },
          "metadata": {
            "tags": []
          },
          "execution_count": 20
        }
      ]
    },
    {
      "cell_type": "code",
      "metadata": {
        "id": "VkUAfpYN458k"
      },
      "source": [
        "data_2014_day = spark.sql(\"select year(from_unixtime(unix_timestamp(Issue_Date, 'MM/dd/yyy'))) as year,month(from_unixtime(unix_timestamp(Issue_Date, 'MM/dd/yyy'))) as month,week_number(Issue_Date) as week,get_weekday(Issue_Date) as day,Violation_Location,count(*) as totalViolation from combinedparkingtableView  Group by year,month,week,day,Violation_Location order by year,month,week,day,Violation_Location \")\n",
        "data_2014_day.createOrReplaceTempView(\"data_2014_d\")\n",
        "data_2014_day=spark.sql(\" SELECT CAST(year AS INTEGER),CAST(month AS INTEGER),CAST(week AS INTEGER) , CAST(day AS INTEGER), CAST(Violation_Location AS INTEGER),totalViolation FROM data_2014_d where year >= 2014\")\n",
        "\n"
      ],
      "execution_count": 21,
      "outputs": []
    },
    {
      "cell_type": "code",
      "metadata": {
        "id": "5wSRUxWhXL3I",
        "colab": {
          "base_uri": "https://localhost:8080/"
        },
        "outputId": "27a4d09b-260a-4e36-98f0-5973ae35aab7"
      },
      "source": [
        "data_2014_day.dtypes"
      ],
      "execution_count": 22,
      "outputs": [
        {
          "output_type": "execute_result",
          "data": {
            "text/plain": [
              "[('year', 'int'),\n",
              " ('month', 'int'),\n",
              " ('week', 'int'),\n",
              " ('day', 'int'),\n",
              " ('Violation_Location', 'int'),\n",
              " ('totalViolation', 'bigint')]"
            ]
          },
          "metadata": {
            "tags": []
          },
          "execution_count": 22
        }
      ]
    },
    {
      "cell_type": "code",
      "metadata": {
        "id": "ukbLxBiJ7bOW"
      },
      "source": [
        "import pyspark.sql.functions as F\n",
        "from pyspark.sql.functions import round, col\n",
        "df_2014 = data_2014.join(data_2014_day, (data_2014.Violation_Location == data_2014_day.Violation_Location) & (data_2014.year == data_2014_day.year)& (data_2014.month == data_2014_day.month)& (data_2014.week == data_2014_day.week) & (data_2014_day.day == data_2014_day.day))\\\n",
        "    .withColumn(\"violation_probability\", round(F.col(\"frequency\") / F.col(\"totalViolation\"), 5))\\\n",
        "    .drop(data_2014_day.totalViolation).drop(data_2014.frequency).drop(data_2014_day.Violation_Location).drop(data_2014_day.month).drop(data_2014_day.week).drop(data_2014_day.day).drop(data_2014_day.year)\n",
        "\n"
      ],
      "execution_count": 23,
      "outputs": []
    },
    {
      "cell_type": "code",
      "metadata": {
        "id": "agZAcfE1FR_s"
      },
      "source": [
        "#dataframe concatenation\n",
        "from functools import reduce  # For Python 3.x\n",
        "from pyspark.sql import DataFrame\n",
        "\n",
        "#def unionAll(*dfs):\n",
        "    #return reduce(DataFrame.unionAll, dfs)\n",
        "\n",
        "#full_df = unionAll( df_2015, df_2016,df)\n",
        "#train_df.show(10)"
      ],
      "execution_count": 24,
      "outputs": []
    },
    {
      "cell_type": "code",
      "metadata": {
        "id": "y6nsfvkI_rJ9"
      },
      "source": [
        "full_df = df_2014\n"
      ],
      "execution_count": 25,
      "outputs": []
    },
    {
      "cell_type": "code",
      "metadata": {
        "id": "rGTwrev0FPmi"
      },
      "source": [
        "#from pyspark.ml.feature import StringIndexer\n",
        "#qualification_indexer = StringIndexer(inputCol=\"day\", outputCol=\"day_chng\")\n",
        "#Fits a model to the input dataset with optional parameters.\n",
        "#df_buck = qualification_indexer.fit(full_df).transform(full_df)\n",
        "#df_buck.show()"
      ],
      "execution_count": 26,
      "outputs": []
    },
    {
      "cell_type": "code",
      "metadata": {
        "id": "6w3Cik33ARGb"
      },
      "source": [
        ""
      ],
      "execution_count": 26,
      "outputs": []
    },
    {
      "cell_type": "code",
      "metadata": {
        "id": "cAR8lUwnbzTm"
      },
      "source": [
        "from pyspark.ml.feature import OneHotEncoder\n",
        "\n",
        "#for training data\n",
        "#\n",
        "\n",
        "#day_encoded = OneHotEncoder(inputCol=\"day\", outputCol=\"day_one\")\n",
        "#df_buck = day_encoded.fit(full_df).transform(full_df)\n",
        "\n",
        "#week_encoded = OneHotEncoder(inputCol=\"week\", outputCol=\"week_one\")\n",
        "#df_buck = week_encoded.fit(df_buck).transform(df_buck)\n",
        "\n",
        "month_encoded = OneHotEncoder(inputCol=\"month\", outputCol=\"month_one\")\n",
        "df_buck = month_encoded.fit(full_df).transform(full_df)\n",
        "\n",
        "location_encoded = OneHotEncoder(inputCol=\"Violation_Location\", outputCol=\"Violation_Location_one\")\n",
        "df_buck1 = location_encoded.fit(df_buck).transform(df_buck)\n",
        "\n",
        "code_encoded = OneHotEncoder(inputCol=\"Violation_Code\", outputCol=\"Violation_Code_one\")\n",
        "df_buck2 = code_encoded.fit(df_buck1).transform(df_buck1)\n",
        "\n",
        "\n",
        "#df_buck_train.show(10)"
      ],
      "execution_count": 27,
      "outputs": []
    },
    {
      "cell_type": "code",
      "metadata": {
        "id": "Za16cr9ZMCu9"
      },
      "source": [
        ""
      ],
      "execution_count": 27,
      "outputs": []
    },
    {
      "cell_type": "code",
      "metadata": {
        "id": "1T3UTTWtMIUM"
      },
      "source": [
        ""
      ],
      "execution_count": 27,
      "outputs": []
    },
    {
      "cell_type": "code",
      "metadata": {
        "id": "iyNOvjaCGuv2"
      },
      "source": [
        "from pyspark.ml.linalg import Vectors\n",
        "from pyspark.ml.feature import VectorAssembler\n",
        "\n",
        "#for training data\n",
        "#assembler = VectorAssembler(inputCols=[\"day_one\",\"month_one\",\"Violation_Location_one\",\"week_one\",\"Violation_Code_one\"], outputCol=\"features\")\n",
        "# Assemble all the features with VectorAssembler\n",
        "required_features = [\"year\",\"month_one\",\"week\",\"day\",\"Violation_Location_one\",\"Violation_Code_one\"]\n",
        "\n",
        "from pyspark.ml.feature import VectorAssembler\n",
        "\n",
        "numericCols = [] #['prob']\n",
        "assemblerInputs = [c  for c in required_features] + numericCols\n",
        "assembler = VectorAssembler(inputCols=assemblerInputs, outputCol='features')\n",
        "\n",
        "transformed_data = assembler.transform(df_buck2)\n",
        "#transformed_data.show(5)"
      ],
      "execution_count": 28,
      "outputs": []
    },
    {
      "cell_type": "code",
      "metadata": {
        "id": "nswy9zAFGkMv"
      },
      "source": [
        "(training_data, test_data) = transformed_data.randomSplit([0.8,0.2], seed =2020)"
      ],
      "execution_count": 29,
      "outputs": []
    },
    {
      "cell_type": "code",
      "metadata": {
        "id": "0yEVDasmLH9S",
        "colab": {
          "base_uri": "https://localhost:8080/"
        },
        "outputId": "21eb9ae2-00dd-47df-ac61-5f7f60b9388d"
      },
      "source": [
        "from pyspark.ml.regression import LinearRegression\n",
        "lr = LinearRegression(featuresCol = 'features', labelCol='violation_probability')\n",
        "lr_model = lr.fit(training_data)\n",
        "print(\"Coefficients: \" + str(lr_model.coefficients))\n",
        "print(\"Intercept: \" + str(lr_model.intercept))\n"
      ],
      "execution_count": 30,
      "outputs": [
        {
          "output_type": "stream",
          "text": [
            "Coefficients: [0.010212225045646357,0.0,0.07257204241195582,-0.036191404321141075,-0.0368918811894584,-0.058208596212540875,-0.04931796961802898,-0.03556383565506816,-0.03928115587930469,-0.056099835807713994,-0.0402245660668567,-0.05338902437132868,-0.03482070016621827,0.011343466258329712,0.0004998534110976042,0.0,0.021763218026816605,0.6336216101850222,0.7779506918617642,0.6844795756153135,-0.029071890870521904,0.04434859036889491,-0.03433911131440282,0.7088880651990085,0.016899534147072546,-0.020539907982423174,0.7320827320244391,0.7177346634731776,-0.006825079019406478,-0.019482049388238252,0.7240402491079476,0.71372408791793,-0.005610623752594327,-0.013532291036015736,0.005287365393718115,-0.012661980409103152,0.7385319080831111,0.7551944967509239,-0.020343509036775776,-0.0052579980971528256,-0.02228126981445335,0.020096253844987748,1.3439558517534336,-0.022732441252720604,0.789949566662772,-0.018824354182431353,0.803104913159033,-0.0325984316957795,-0.017407882011311403,-0.02701354099149225,0.8221964655776404,0.6739324986361525,0.7929577617736238,0.7826045023693469,0.7330092439017412,-0.010410210790983632,0.0015481678474955425,-0.0014952276381680239,-0.032398840413913645,-0.03619434735647522,-0.013494938316709804,-0.021824895482258064,-0.02342698191240333,-0.010976515730999815,-0.004195156188959342,-0.022658603139550454,0.7276307714817415,-0.03227168608689725,0.7757712477790097,0.7338686234400148,0.7945423341405056,0.705205948224575,0.8204031977616454,0.776409691885073,0.7821274052175704,-0.020504821927891166,-0.02215854038521618,-0.01708211670176286,0.0012666161982513055,0.7122400841255992,0.7349463380482727,0.016425748528994328,-0.032418990404792465,0.04990866353281842,-0.01868195829315235,-0.030119813523511566,-0.00898928648772323,-0.001568889111943863,-0.0015254672261857645,0.6921934190209409,-0.009270046814554926,0.07666897164259355,-0.026071386849107855,0.04764613312213314,-0.005607063945724265,0.7689614489554295,0.10024752802350594,0.7844355195099935,-0.00022631218841888048,-0.019526093005839757,0.8018219418405614,0.748834785826794,0.7545121980388293,-0.008815036488022928,0.705817095854245,0.0558723891091764,0.77375941857398,0.7624438727328546,0.8497676457358574,0.00032781384615679544,0.8152038056836173,0.7538116816702902,0.8115151833324259,0.7005127145915473,0.8111308421602009,0.023671900804566826,0.018871127386214277,-0.031764223277855,-0.03250393700222433,0.020223271438980665,8.741659472270375e-05,-0.017818882019645408,0.050968537400734266,0.036373685906410186,-0.030494039747988456,-0.028622238614009265,0.051235734598857885,0.02959555245704625,0.00856663837745472,0.0410436804627166,-0.034423773107789296,0.706048719106733,0.7092695778517598,0.718638997617348,0.6439590424196823,0.07344971480674031,0.027081944333435706,0.07771072526970713,0.14044860764564335,0.7911644322589226,0.8428201232448119,0.8543001282102441,0.8600361555840024,0.6736155109624918,0.8792335090132263,0.7533045063263488,0.9954764078348723,0.4281075728120285,0.8749192575896695,0.776001407050689,0.8725191529603451,1.003771728694528,0.914023317529213,0.0,0.889740738394304,0.9291801797954178,0.7412642364309121,0.8635660673848872,0.8243797008824072,0.7166815434371722,0.9008644005353937,0.7104737729740173,0.9098074060855974,0.8664578276385201,0.7946011803880519,0.9517854083088448,0.957356100046378,0.9763501715533016,0.820383368044422,0.0,0.8850906206034828,0.0,0.9041178486861864,0.0,0.0,0.8558045159589811,0.8630624115280474,0.6852638387969477,0.8641805352212454,0.7775188885165185,0.8277270281537975,0.9483546676281309,0.758561191853803,0.8774446095122745,0.8744889633441968,0.8846927631144834,0.9074703352420308,0.8789855745176611,0.7750629498931313,0.8607119206861098,0.8100661203665822,0.44785768359414474,0.861391542342585,0.9423310110639667,0.6945305626387624,0.7638979483010208,0.7835742098468158,0.8260124113679665,0.6779157871012071,0.9294642821779345,0.0,0.0,0.929476192345676,0.6393366259048652,0.968435781862178,0.6684053231563688,0.839112231310905,0.0,0.6864644989024417,0.4725434316795687,0.0,0.0,0.9902011309577321,0.0,0.9876241566175212,0.9673475588327163,0.85224796668362,0.8414548848457799,0.681508356273451,0.4631405250560882,0.9767127142950198,0.8880799254159355,0.9414512548651427,0.8440692801991239,0.4657708513138177,0.9221156900742572,0.949031745452844,0.9270488914147511,0.9081107142297096,0.8636037644825412,0.8744476194356149,0.0,0.9559840044481028,0.9581616156534208,0.9175723985910257,0.8745230748199657,0.0,0.7076631508869764,0.7028619767670011,0.7038529290531835,0.4507259660691862,0.9275864675631343,0.953335082073546,0.7587005789425827,0.0,0.9010529936461988,0.0,0.934690801419194,0.7653852324041374,0.7668030809634888,0.0,0.0,0.0,0.0,0.0,0.49260016138774365,0.8485251244051776,0.8900066697429877,0.9435937826731315,0.8869814703024788,0.6812125857999124,0.8027362864943897,0.8999096982949627,0.8783062056975324,0.9985021980808151,0.9781675447537054,0.0,0.8882802018287356,0.0,0.0,0.0,0.0,0.0,0.0,0.0,0.4734827810834749,0.8693931718657758,0.7740082364680048,0.8246444242742849,0.0,0.0,0.4704127784517174,0.7616059320813113,0.9062967443144997,0.0,0.419096689585735,0.9125298738950745,0.6218792213668684,0.5887059128647201,0.4840059910065711,0.9766559814401715,0.8791228447251177,0.9998094085204586,0.0,0.8855901881913527,0.9704395650800057,0.847043787680849,0.0,0.8617559831326881,0.8977630977004383,0.0,0.0,0.9211509340685501,0.0,0.0,0.0,0.0,0.0,0.0,0.0,0.0,0.0,0.0,0.0,0.0,0.8933309677450513,0.9192143598113443,0.735470836687454,0.8212622714326036,0.8999555315607093,0.916981917666763,0.9025339823100416,0.782785445043847,1.0137503791641638,0.9091066256833897,0.9230194624917725,0.6670872531923954,0.8491772827935549,0.7216370051276604,0.9080736310368175,0.0,0.0,0.8694031751436065,0.8982427789091203,0.9028356472192945,0.0,0.0,0.0,0.5493625307986436,0.0,0.4449132178109158,0.6897370744066499,0.0,0.8920716744824643,0.9775998702439632,0.7167468322470291,0.9509482987559785,0.7859976069375594,0.8739732830393198,0.0,0.0,0.0,0.8280857383791752,0.0,0.0,0.0,0.0,0.0,0.9824550426192996,0.0,0.7303502068528832,0.0,0.8649413265101474,0.0,0.0,0.8393525359632138,0.0,0.7515894752144878,0.8454369035346021,0.0,0.0,0.0,0.0,0.0,0.0,0.0,0.0,0.47032964404681776,0.0,0.0,0.728494320558878,0.6588184919972838,0.9973511288497479,0.9149347583501232,0.47082931707669573,0.0,0.672158699562324,0.4836562416120492,0.9826403019444208,0.0,0.9487714172303988,0.0,0.9679832634926847,0.89495138847092,0.0,0.0,0.5940433789845886,0.0,1.0424450470443571,0.0,0.0,0.0,0.0,0.923613394114441,0.0,0.0,0.0,0.0,0.0,0.0,0.0,0.0,0.5013811394777316,0.0,0.0,0.8276953560360745,1.0361988079127749,0.670563523743356,0.8317606556013389,0.9401923262931855,0.7839175936582586,0.5545873307895939,0.8739226420267214,0.8715893520156777,0.8392753391708362,0.6989928826190059,0.9506554657343215,0.6810695874941807,0.8239917915862276,0.8604258869354886,0.847224766920152,0.0,0.9755555972395709,0.7653548374518958,0.9401168850811461,0.6979164105733062,0.8722567741207187,0.951067750192051,0.807767426932838,0.7392168612828037,0.7031675311569205,0.901834003221972,0.664687307900437,0.6371422922810154,0.0,0.9411879818338009,0.866180406287276,0.7535518781575326,0.9216219245940144,0.8028968698926345,0.0,0.9844893259711653,0.0,0.0,0.0,0.7493171809441038,0.7520646384823599,0.7837096555037395,0.6473089563711357,0.8566479391856361,0.9223344844269723,0.8436679826261936,0.7794996838144975,0.8181223816209091,0.9143113860212576,0.5480128314144352,0.0,0.6844950574977727,0.0,0.0,0.8385287801970341,0.0,0.0,0.0,0.0,0.46528951419812187,0.7060567191827462,0.5840282433650035,0.9377422135315622,0.9735478162941462,0.7716540721742721,0.7795476566578899,0.832250662347601,1.2227395630722788,0.7647636648437022,0.757693711401658,0.6688302818202647,0.6422464989750706,0.7399956405496434,0.0,0.7343465337657836,0.5807217368135327,0.7416953761239456,0.7759800372261243,0.8207471511026234,0.0,0.7091103383609931,0.7200250144735891,0.5428878185754732,0.7279889237232227,0.9088764160081675,0.0,0.9092303058952075,0.0,0.8758770067055834,0.7035794244209315,0.8363347357209627,0.6932821793435499,0.9555999056722374,0.6563323221092402,0.0,0.0,0.0,0.0,0.0,0.9398460776661083,0.7212304695888636,0.4626408520262085,0.6440347433029682,0.7323115600352855,0.9908076969698041,0.8639419804503863,0.6711770110436615,0.0,0.9609521029892502,0.9357911833771971,0.847878545870683,0.8741652061882306,0.0,0.0,0.0,0.0,0.0,0.3491721166909293,0.9447086614219897,0.0,0.0,0.0,0.0,0.9678827686198894,0.0,0.0,0.0,0.0,0.9456953856838609,0.44039482038106137,0.0,0.894382083621371,0.0,0.560987330792298,0.0,0.0,0.8652347446805132,0.0,0.0,0.0,0.45804581285666185,0.0,0.0,0.9122643747062795,0.0,0.0,0.0,0.8967637516406786,1.0392102850643075,0.8756138236317136,0.0,0.47013260495791054,0.0,0.0,0.0,0.0,0.0,0.0,0.0,0.8506960639461674,0.0,0.47082931707669573,0.0,0.0,0.0,0.9140622734928358,0.0,0.0,0.0,0.0,0.0,0.0,0.0,0.0,0.0,0.85792768605232,0.0,0.0,0.0,0.0,0.8894559220557009,0.0,0.0,0.9781534207454675,0.0,0.0,0.0,0.0,0.0,0.0,0.0,0.0,0.0,0.0,0.0,0.0,0.0,0.0,0.0,0.9319943001560994,0.8484139621871857,0.6510703838359334,0.8904426543020822,0.9237222174737245,0.8880664972821316,0.7416705259274602,0.9569288900235947,0.8697098628486039,0.7393000357902425,0.986708363654687,0.9693425961699158,0.0,0.7470160894884972,0.8573497010386001,1.0119351292013805,0.0,0.9999260266970614,0.8548084463919539,0.8713231577956495,0.8484662859179863,0.8430704240103276,1.0028517202661402,0.7688489723682133,0.9327679884746601,0.7953663441547986,0.9841145958772669,0.8343134292360717,0.9306110627967359,0.0,0.0,0.0,0.9015953608899098,0.8982171558661797,0.9528895791399412,0.0,0.8981645221634303,0.48067382597001157,0.8810772135145625,0.0,0.0,0.0,0.8645436204817992,0.9794763073487075,0.921038673159551,0.0,0.882534975489615,0.8462502442712194,0.6849629438490221,0.9430673467023232,0.9872518028200176,0.0,0.9652647215053296,0.993298878246661,0.9091066256833897,0.0,0.0,0.0,0.0,0.0,0.0,0.9270378773712218,0.7518859885563367,0.9447787642925001,0.0,0.9801864511229879,0.6275706725153853,0.9518356125855297,0.907623739049027,0.8852876121620212,0.883848488912053,0.6161527834379343,0.960340033629341,0.8656693397298159,0.0,0.9518128715269984,0.7408215259765633,0.0,0.9754399152503999,0.7071618433725964,0.0,0.8073592846770357,0.0,0.6631997188910882,0.8561487973793407,0.9972546897710686,0.6279860246663851,0.8582227277938786,0.846935922624237,0.8874221276165403,0.9356211906244325,0.0,0.0,0.0,0.7341676761574797,0.0,0.0,0.8967859131413076,0.0,0.0,0.8118920879501345,0.6814006031784022,0.6853634263344478,0.8570601270839734,0.0,0.9904710556739312,0.0,0.7578510398401375,0.716779323182919,0.9929992842633399,0.0,0.929727475424087,0.0,0.4574870969742249,0.8984267654040086,0.9467137900518262,0.0,0.8531899507396759,0.8624211217485397,0.0,0.0,1.0108259835339202,0.8343341600192612,0.8579806195533181,0.0,0.9051034242509833,0.885218556132912,0.0,0.0,0.0,0.9432096423323507,0.0,0.9641537454654902,0.991715837482493,0.9204501536663421,0.0,0.0,0.0,0.0,0.0,0.9107673612021567,0.0,0.8711643188698432,0.0,0.8732370260879125,0.0,0.0,0.8403033013046074,0.7107931501745867,0.0,0.9342543509617374,0.0,0.0,0.7640643103655343,0.0,0.0,0.0,0.0,0.8269756958888115,0.8908110154664142,0.7087806770352902,0.672888304773137,0.46413987111584715,0.4797335227628076,0.0,0.0,0.0,0.8638866363605394,0.8525583166014662,0.0,0.6084441117807637,0.6856803682739692,0.4725434316840143,0.815198099734577,0.0,0.0,0.40822211431818095,0.6486003507506494,0.8862179021926714,0.0,0.0,0.9189511345767046,0.6692486744649155,0.8952120988482901,0.8666818106131382,0.0,0.0,0.0,0.0,0.0,0.976403603071551,0.0,0.0,0.0,0.0,0.0,0.0,0.0,0.0,0.0,0.0,0.9157624450787765,0.666640027675931,0.6217681361225111,0.8864809994498478,0.9208811365543222,0.8049935556809233,0.8917620578484712,0.9063562858385577,0.8924055571759019,0.0,0.9480065720232691,0.9556221481947332,0.4739843800091623,0.9888153264795733,0.0,0.0,0.0,0.8321881956981072,0.8769459845850105,0.0,0.0,0.0,0.917374697385657,0.9643775744909308,0.8655430753848361,0.955609526396848,0.7192485700015093,0.0,0.0,0.7899051974514486,0.6367730098295146,0.9422799280922626,0.0,0.9882824623229914,0.0,0.0,0.0,0.0,0.0,0.0,0.0,0.8428503226555774,0.4540069092799482,0.0,0.4652946222727216,0.0,0.0,0.0,0.0,0.0,0.0,0.4658515364392343,0.9869929142577561,0.0,0.0,0.0,0.0,0.0,0.0,0.7040735678865416,0.8760945470002631,0.9714554041858272,0.0,0.9936413407995106,0.0,0.873435774093548,0.7108198953539566,0.8806695769627398,0.8762454577699241,0.8224572984589604,0.9735187330469536,0.0,0.0,0.0,0.0,0.9254434403718007,0.8762670634791005,0.8358722642246252,0.0,0.0,0.7896606331797548,0.0,0.6902541464086773,0.8827331336846655,0.0,0.0,0.45462576559589746,0.9638790615581962,0.0,0.0,0.0,0.0,0.0,0.0,0.0,0.9612421509624061,0.0,0.0,0.0,0.8941029531808252,0.9879986308676696,0.8867208616586557,0.934325287959181,0.0,0.928836742987597,0.0,0.9039353580181501,0.0,0.9901139236153974,0.9017588929330632,0.0,0.0,0.8935752287282818,0.0,0.8963415842012766,0.0,0.9749126162476884,0.9172985092573909,0.8812323546855693,0.5128344670683874,0.0,0.0,0.5684613838197144,0.9976507569447901,0.9454176594703758,0.0,0.0,0.0,0.0,0.0,0.0,0.8934523693812805,0.8783691815162528,0.8749472924654924,0.0,0.0,0.0,0.0,0.4611999036966161,0.0,0.0,0.0,1.0170400694513664,0.0,0.0,0.0,0.676944772923586,0.0,0.0,0.8944517154410392,0.0,0.974660963434861,0.0,0.0,0.0,0.0,0.0,0.0,0.0,0.5029899581750756,0.9373238541617799,0.39282258889796356,0.8179938262543078,0.0,0.0,0.7016685646659987,0.4385616744341429,0.7814702562451984,0.0,0.0,0.47032964404681776,0.0,0.8921249738561209,0.0,0.9773532427689982,0.5737688440679448,0.0,0.4828044791978635,0.8521873182438111,0.0,0.9432792741520196,0.0,0.978324548959367,0.6611019903138897,0.0,0.0,0.8777818290270483,0.0,0.9552544362731868,0.8789098132055126,0.0,0.0,0.0,-0.014616604665499454,0.002964993507331927,0.00658851079149311,0.0054211058289117325,-0.027685809663211405,-0.007084647459939698,-0.008925019205514783,-0.002894826768800566,-0.005808866937476613,0.02204638135602561,0.006004272560006924,-0.007582146109723983,-0.0021749404227219262,-0.0010911773836890213,0.15484948989547326,-0.008609424186719639,0.036482206814674394,0.010369373262817092,0.005919844356006842,0.05125151088203969,0.1287805648985724,0.5252004593394677,-0.011494313920474758,-0.010661555536496685,0.004812210388209488,0.00766421811802638,-0.023752430521345458,-0.0034516667312689733,-0.006226295643393917,-0.014012071163181766,-0.009088499430594602,0.1023210741269523,0.0018125182171247745,-0.0068572967076615705,-0.021468550464750887,-0.0010587099690706457,0.0,0.1666695520342903,0.3331159462009024,0.009183300892400492,0.10007925070956586,-0.009715801070672993,0.057373657696938966,-0.022042299327367055,0.0014653877655312895,0.028078714600519118,0.11908440403913603,0.17809354276706355,0.015377919604896146,-0.009832844135856795,0.007249106409390927,0.003412778705107135,-0.008786640079570782,-0.0028818626102203597,-0.019639364915822147,-0.007955747932022857,-0.0001855875137420449,-0.010955502430515168,-0.00468278916670788,-0.00872839044190066,0.00011405113578532014,-0.010743529537379332,-0.00527969659703739,-0.009127963995278078,0.01792065631680197,-0.014719983987595883,0.007531518240978224,-0.0011754056648573274,0.005572769818389432,0.16151201765275117,0.04891353546382478,0.131808582398701,-0.0006206636751202462,-0.0092689861735793,0.010853746130134468,-0.012510910888095878,-0.009916278978229992,-0.00040020518331528206,0.006543550898789869,0.008069293598254165,-0.004409558498609113,-0.005829949705219766,-0.0042843153800529,0.001336364027721334,0.012050400626272054,0.030013778954292976,-0.0008363719845509736,-0.01006797267335884,-0.010283035058674908,0.012582293101444054,-0.011011470986673181,-0.0041395316424160285,-0.00977415777857182,-0.025168576855502996,-0.022855978564183352,-0.012285834633079832,-0.020580785975254572,0.006970429096406693,-0.0025450107739398093]\n",
            "Intercept: -20.561089996549843\n"
          ],
          "name": "stdout"
        }
      ]
    },
    {
      "cell_type": "code",
      "metadata": {
        "id": "bRKl6YvyLiKS"
      },
      "source": [
        "model_path = \"/content/gdrive/My Drive/Big Data/\" + \"modeldaynew\"\n",
        "lr_model.save(model_path)"
      ],
      "execution_count": 31,
      "outputs": []
    },
    {
      "cell_type": "code",
      "metadata": {
        "id": "uy_OdnPebsH8"
      },
      "source": [
        "model_path = \"/content/gdrive/My Drive/Big Data/\" + \"modeldaynew\""
      ],
      "execution_count": 1,
      "outputs": []
    },
    {
      "cell_type": "code",
      "metadata": {
        "id": "fT_G-0zyMTR-"
      },
      "source": [
        "from pyspark.ml.regression import LinearRegressionModel\n",
        "model2 = LinearRegressionModel.load(model_path)"
      ],
      "execution_count": 8,
      "outputs": []
    },
    {
      "cell_type": "code",
      "metadata": {
        "id": "GRpiuUb0Mewl"
      },
      "source": [
        "model2_predict = model2.transform(test_data.limit(10))"
      ],
      "execution_count": 33,
      "outputs": []
    },
    {
      "cell_type": "code",
      "metadata": {
        "id": "r1_MInfIMf7Q",
        "colab": {
          "base_uri": "https://localhost:8080/"
        },
        "outputId": "29fca7c4-bf5a-4a14-e37c-d93e9e906459"
      },
      "source": [
        "model2_predict.select(\"prediction\",\"violation_probability\",\"features\").show(10)"
      ],
      "execution_count": 34,
      "outputs": [
        {
          "output_type": "stream",
          "text": [
            "+-------------------+---------------------+--------------------+\n",
            "|         prediction|violation_probability|            features|\n",
            "+-------------------+---------------------+--------------------+\n",
            "| 0.1731436067019061|              0.05714|(1108,[0,2,13,14,...|\n",
            "|0.19214876003147552|              0.05714|(1108,[0,2,13,14,...|\n",
            "|0.07188895032748377|              0.01429|(1108,[0,2,13,14,...|\n",
            "|0.07188895032748377|              0.07692|(1108,[0,2,13,14,...|\n",
            "|0.12197789145616511|              0.01429|(1108,[0,2,13,14,...|\n",
            "|0.08391810212247464|              0.11765|(1108,[0,2,13,14,...|\n",
            "| 0.0796079068911304|              0.07692|(1108,[0,2,13,14,...|\n",
            "|0.07440072002006204|              0.04545|(1108,[0,2,13,14,...|\n",
            "|0.22332858449577486|              0.23134|(1108,[0,2,13,14,...|\n",
            "|  0.098063552995864|              0.03226|(1108,[0,2,13,14,...|\n",
            "+-------------------+---------------------+--------------------+\n",
            "\n"
          ],
          "name": "stdout"
        }
      ]
    },
    {
      "cell_type": "code",
      "metadata": {
        "id": "18hhqS8xMsuq",
        "colab": {
          "base_uri": "https://localhost:8080/"
        },
        "outputId": "92f27e46-e282-4b28-fd70-f108aa4cc1a1"
      },
      "source": [
        "\n",
        "print(\"Coefficients: \" + str(lr_model.coefficients))\n",
        "print(\"Intercept: \" + str(lr_model.intercept))"
      ],
      "execution_count": 35,
      "outputs": [
        {
          "output_type": "stream",
          "text": [
            "Coefficients: [0.010212225045646357,0.0,0.07257204241195582,-0.036191404321141075,-0.0368918811894584,-0.058208596212540875,-0.04931796961802898,-0.03556383565506816,-0.03928115587930469,-0.056099835807713994,-0.0402245660668567,-0.05338902437132868,-0.03482070016621827,0.011343466258329712,0.0004998534110976042,0.0,0.021763218026816605,0.6336216101850222,0.7779506918617642,0.6844795756153135,-0.029071890870521904,0.04434859036889491,-0.03433911131440282,0.7088880651990085,0.016899534147072546,-0.020539907982423174,0.7320827320244391,0.7177346634731776,-0.006825079019406478,-0.019482049388238252,0.7240402491079476,0.71372408791793,-0.005610623752594327,-0.013532291036015736,0.005287365393718115,-0.012661980409103152,0.7385319080831111,0.7551944967509239,-0.020343509036775776,-0.0052579980971528256,-0.02228126981445335,0.020096253844987748,1.3439558517534336,-0.022732441252720604,0.789949566662772,-0.018824354182431353,0.803104913159033,-0.0325984316957795,-0.017407882011311403,-0.02701354099149225,0.8221964655776404,0.6739324986361525,0.7929577617736238,0.7826045023693469,0.7330092439017412,-0.010410210790983632,0.0015481678474955425,-0.0014952276381680239,-0.032398840413913645,-0.03619434735647522,-0.013494938316709804,-0.021824895482258064,-0.02342698191240333,-0.010976515730999815,-0.004195156188959342,-0.022658603139550454,0.7276307714817415,-0.03227168608689725,0.7757712477790097,0.7338686234400148,0.7945423341405056,0.705205948224575,0.8204031977616454,0.776409691885073,0.7821274052175704,-0.020504821927891166,-0.02215854038521618,-0.01708211670176286,0.0012666161982513055,0.7122400841255992,0.7349463380482727,0.016425748528994328,-0.032418990404792465,0.04990866353281842,-0.01868195829315235,-0.030119813523511566,-0.00898928648772323,-0.001568889111943863,-0.0015254672261857645,0.6921934190209409,-0.009270046814554926,0.07666897164259355,-0.026071386849107855,0.04764613312213314,-0.005607063945724265,0.7689614489554295,0.10024752802350594,0.7844355195099935,-0.00022631218841888048,-0.019526093005839757,0.8018219418405614,0.748834785826794,0.7545121980388293,-0.008815036488022928,0.705817095854245,0.0558723891091764,0.77375941857398,0.7624438727328546,0.8497676457358574,0.00032781384615679544,0.8152038056836173,0.7538116816702902,0.8115151833324259,0.7005127145915473,0.8111308421602009,0.023671900804566826,0.018871127386214277,-0.031764223277855,-0.03250393700222433,0.020223271438980665,8.741659472270375e-05,-0.017818882019645408,0.050968537400734266,0.036373685906410186,-0.030494039747988456,-0.028622238614009265,0.051235734598857885,0.02959555245704625,0.00856663837745472,0.0410436804627166,-0.034423773107789296,0.706048719106733,0.7092695778517598,0.718638997617348,0.6439590424196823,0.07344971480674031,0.027081944333435706,0.07771072526970713,0.14044860764564335,0.7911644322589226,0.8428201232448119,0.8543001282102441,0.8600361555840024,0.6736155109624918,0.8792335090132263,0.7533045063263488,0.9954764078348723,0.4281075728120285,0.8749192575896695,0.776001407050689,0.8725191529603451,1.003771728694528,0.914023317529213,0.0,0.889740738394304,0.9291801797954178,0.7412642364309121,0.8635660673848872,0.8243797008824072,0.7166815434371722,0.9008644005353937,0.7104737729740173,0.9098074060855974,0.8664578276385201,0.7946011803880519,0.9517854083088448,0.957356100046378,0.9763501715533016,0.820383368044422,0.0,0.8850906206034828,0.0,0.9041178486861864,0.0,0.0,0.8558045159589811,0.8630624115280474,0.6852638387969477,0.8641805352212454,0.7775188885165185,0.8277270281537975,0.9483546676281309,0.758561191853803,0.8774446095122745,0.8744889633441968,0.8846927631144834,0.9074703352420308,0.8789855745176611,0.7750629498931313,0.8607119206861098,0.8100661203665822,0.44785768359414474,0.861391542342585,0.9423310110639667,0.6945305626387624,0.7638979483010208,0.7835742098468158,0.8260124113679665,0.6779157871012071,0.9294642821779345,0.0,0.0,0.929476192345676,0.6393366259048652,0.968435781862178,0.6684053231563688,0.839112231310905,0.0,0.6864644989024417,0.4725434316795687,0.0,0.0,0.9902011309577321,0.0,0.9876241566175212,0.9673475588327163,0.85224796668362,0.8414548848457799,0.681508356273451,0.4631405250560882,0.9767127142950198,0.8880799254159355,0.9414512548651427,0.8440692801991239,0.4657708513138177,0.9221156900742572,0.949031745452844,0.9270488914147511,0.9081107142297096,0.8636037644825412,0.8744476194356149,0.0,0.9559840044481028,0.9581616156534208,0.9175723985910257,0.8745230748199657,0.0,0.7076631508869764,0.7028619767670011,0.7038529290531835,0.4507259660691862,0.9275864675631343,0.953335082073546,0.7587005789425827,0.0,0.9010529936461988,0.0,0.934690801419194,0.7653852324041374,0.7668030809634888,0.0,0.0,0.0,0.0,0.0,0.49260016138774365,0.8485251244051776,0.8900066697429877,0.9435937826731315,0.8869814703024788,0.6812125857999124,0.8027362864943897,0.8999096982949627,0.8783062056975324,0.9985021980808151,0.9781675447537054,0.0,0.8882802018287356,0.0,0.0,0.0,0.0,0.0,0.0,0.0,0.4734827810834749,0.8693931718657758,0.7740082364680048,0.8246444242742849,0.0,0.0,0.4704127784517174,0.7616059320813113,0.9062967443144997,0.0,0.419096689585735,0.9125298738950745,0.6218792213668684,0.5887059128647201,0.4840059910065711,0.9766559814401715,0.8791228447251177,0.9998094085204586,0.0,0.8855901881913527,0.9704395650800057,0.847043787680849,0.0,0.8617559831326881,0.8977630977004383,0.0,0.0,0.9211509340685501,0.0,0.0,0.0,0.0,0.0,0.0,0.0,0.0,0.0,0.0,0.0,0.0,0.8933309677450513,0.9192143598113443,0.735470836687454,0.8212622714326036,0.8999555315607093,0.916981917666763,0.9025339823100416,0.782785445043847,1.0137503791641638,0.9091066256833897,0.9230194624917725,0.6670872531923954,0.8491772827935549,0.7216370051276604,0.9080736310368175,0.0,0.0,0.8694031751436065,0.8982427789091203,0.9028356472192945,0.0,0.0,0.0,0.5493625307986436,0.0,0.4449132178109158,0.6897370744066499,0.0,0.8920716744824643,0.9775998702439632,0.7167468322470291,0.9509482987559785,0.7859976069375594,0.8739732830393198,0.0,0.0,0.0,0.8280857383791752,0.0,0.0,0.0,0.0,0.0,0.9824550426192996,0.0,0.7303502068528832,0.0,0.8649413265101474,0.0,0.0,0.8393525359632138,0.0,0.7515894752144878,0.8454369035346021,0.0,0.0,0.0,0.0,0.0,0.0,0.0,0.0,0.47032964404681776,0.0,0.0,0.728494320558878,0.6588184919972838,0.9973511288497479,0.9149347583501232,0.47082931707669573,0.0,0.672158699562324,0.4836562416120492,0.9826403019444208,0.0,0.9487714172303988,0.0,0.9679832634926847,0.89495138847092,0.0,0.0,0.5940433789845886,0.0,1.0424450470443571,0.0,0.0,0.0,0.0,0.923613394114441,0.0,0.0,0.0,0.0,0.0,0.0,0.0,0.0,0.5013811394777316,0.0,0.0,0.8276953560360745,1.0361988079127749,0.670563523743356,0.8317606556013389,0.9401923262931855,0.7839175936582586,0.5545873307895939,0.8739226420267214,0.8715893520156777,0.8392753391708362,0.6989928826190059,0.9506554657343215,0.6810695874941807,0.8239917915862276,0.8604258869354886,0.847224766920152,0.0,0.9755555972395709,0.7653548374518958,0.9401168850811461,0.6979164105733062,0.8722567741207187,0.951067750192051,0.807767426932838,0.7392168612828037,0.7031675311569205,0.901834003221972,0.664687307900437,0.6371422922810154,0.0,0.9411879818338009,0.866180406287276,0.7535518781575326,0.9216219245940144,0.8028968698926345,0.0,0.9844893259711653,0.0,0.0,0.0,0.7493171809441038,0.7520646384823599,0.7837096555037395,0.6473089563711357,0.8566479391856361,0.9223344844269723,0.8436679826261936,0.7794996838144975,0.8181223816209091,0.9143113860212576,0.5480128314144352,0.0,0.6844950574977727,0.0,0.0,0.8385287801970341,0.0,0.0,0.0,0.0,0.46528951419812187,0.7060567191827462,0.5840282433650035,0.9377422135315622,0.9735478162941462,0.7716540721742721,0.7795476566578899,0.832250662347601,1.2227395630722788,0.7647636648437022,0.757693711401658,0.6688302818202647,0.6422464989750706,0.7399956405496434,0.0,0.7343465337657836,0.5807217368135327,0.7416953761239456,0.7759800372261243,0.8207471511026234,0.0,0.7091103383609931,0.7200250144735891,0.5428878185754732,0.7279889237232227,0.9088764160081675,0.0,0.9092303058952075,0.0,0.8758770067055834,0.7035794244209315,0.8363347357209627,0.6932821793435499,0.9555999056722374,0.6563323221092402,0.0,0.0,0.0,0.0,0.0,0.9398460776661083,0.7212304695888636,0.4626408520262085,0.6440347433029682,0.7323115600352855,0.9908076969698041,0.8639419804503863,0.6711770110436615,0.0,0.9609521029892502,0.9357911833771971,0.847878545870683,0.8741652061882306,0.0,0.0,0.0,0.0,0.0,0.3491721166909293,0.9447086614219897,0.0,0.0,0.0,0.0,0.9678827686198894,0.0,0.0,0.0,0.0,0.9456953856838609,0.44039482038106137,0.0,0.894382083621371,0.0,0.560987330792298,0.0,0.0,0.8652347446805132,0.0,0.0,0.0,0.45804581285666185,0.0,0.0,0.9122643747062795,0.0,0.0,0.0,0.8967637516406786,1.0392102850643075,0.8756138236317136,0.0,0.47013260495791054,0.0,0.0,0.0,0.0,0.0,0.0,0.0,0.8506960639461674,0.0,0.47082931707669573,0.0,0.0,0.0,0.9140622734928358,0.0,0.0,0.0,0.0,0.0,0.0,0.0,0.0,0.0,0.85792768605232,0.0,0.0,0.0,0.0,0.8894559220557009,0.0,0.0,0.9781534207454675,0.0,0.0,0.0,0.0,0.0,0.0,0.0,0.0,0.0,0.0,0.0,0.0,0.0,0.0,0.0,0.9319943001560994,0.8484139621871857,0.6510703838359334,0.8904426543020822,0.9237222174737245,0.8880664972821316,0.7416705259274602,0.9569288900235947,0.8697098628486039,0.7393000357902425,0.986708363654687,0.9693425961699158,0.0,0.7470160894884972,0.8573497010386001,1.0119351292013805,0.0,0.9999260266970614,0.8548084463919539,0.8713231577956495,0.8484662859179863,0.8430704240103276,1.0028517202661402,0.7688489723682133,0.9327679884746601,0.7953663441547986,0.9841145958772669,0.8343134292360717,0.9306110627967359,0.0,0.0,0.0,0.9015953608899098,0.8982171558661797,0.9528895791399412,0.0,0.8981645221634303,0.48067382597001157,0.8810772135145625,0.0,0.0,0.0,0.8645436204817992,0.9794763073487075,0.921038673159551,0.0,0.882534975489615,0.8462502442712194,0.6849629438490221,0.9430673467023232,0.9872518028200176,0.0,0.9652647215053296,0.993298878246661,0.9091066256833897,0.0,0.0,0.0,0.0,0.0,0.0,0.9270378773712218,0.7518859885563367,0.9447787642925001,0.0,0.9801864511229879,0.6275706725153853,0.9518356125855297,0.907623739049027,0.8852876121620212,0.883848488912053,0.6161527834379343,0.960340033629341,0.8656693397298159,0.0,0.9518128715269984,0.7408215259765633,0.0,0.9754399152503999,0.7071618433725964,0.0,0.8073592846770357,0.0,0.6631997188910882,0.8561487973793407,0.9972546897710686,0.6279860246663851,0.8582227277938786,0.846935922624237,0.8874221276165403,0.9356211906244325,0.0,0.0,0.0,0.7341676761574797,0.0,0.0,0.8967859131413076,0.0,0.0,0.8118920879501345,0.6814006031784022,0.6853634263344478,0.8570601270839734,0.0,0.9904710556739312,0.0,0.7578510398401375,0.716779323182919,0.9929992842633399,0.0,0.929727475424087,0.0,0.4574870969742249,0.8984267654040086,0.9467137900518262,0.0,0.8531899507396759,0.8624211217485397,0.0,0.0,1.0108259835339202,0.8343341600192612,0.8579806195533181,0.0,0.9051034242509833,0.885218556132912,0.0,0.0,0.0,0.9432096423323507,0.0,0.9641537454654902,0.991715837482493,0.9204501536663421,0.0,0.0,0.0,0.0,0.0,0.9107673612021567,0.0,0.8711643188698432,0.0,0.8732370260879125,0.0,0.0,0.8403033013046074,0.7107931501745867,0.0,0.9342543509617374,0.0,0.0,0.7640643103655343,0.0,0.0,0.0,0.0,0.8269756958888115,0.8908110154664142,0.7087806770352902,0.672888304773137,0.46413987111584715,0.4797335227628076,0.0,0.0,0.0,0.8638866363605394,0.8525583166014662,0.0,0.6084441117807637,0.6856803682739692,0.4725434316840143,0.815198099734577,0.0,0.0,0.40822211431818095,0.6486003507506494,0.8862179021926714,0.0,0.0,0.9189511345767046,0.6692486744649155,0.8952120988482901,0.8666818106131382,0.0,0.0,0.0,0.0,0.0,0.976403603071551,0.0,0.0,0.0,0.0,0.0,0.0,0.0,0.0,0.0,0.0,0.9157624450787765,0.666640027675931,0.6217681361225111,0.8864809994498478,0.9208811365543222,0.8049935556809233,0.8917620578484712,0.9063562858385577,0.8924055571759019,0.0,0.9480065720232691,0.9556221481947332,0.4739843800091623,0.9888153264795733,0.0,0.0,0.0,0.8321881956981072,0.8769459845850105,0.0,0.0,0.0,0.917374697385657,0.9643775744909308,0.8655430753848361,0.955609526396848,0.7192485700015093,0.0,0.0,0.7899051974514486,0.6367730098295146,0.9422799280922626,0.0,0.9882824623229914,0.0,0.0,0.0,0.0,0.0,0.0,0.0,0.8428503226555774,0.4540069092799482,0.0,0.4652946222727216,0.0,0.0,0.0,0.0,0.0,0.0,0.4658515364392343,0.9869929142577561,0.0,0.0,0.0,0.0,0.0,0.0,0.7040735678865416,0.8760945470002631,0.9714554041858272,0.0,0.9936413407995106,0.0,0.873435774093548,0.7108198953539566,0.8806695769627398,0.8762454577699241,0.8224572984589604,0.9735187330469536,0.0,0.0,0.0,0.0,0.9254434403718007,0.8762670634791005,0.8358722642246252,0.0,0.0,0.7896606331797548,0.0,0.6902541464086773,0.8827331336846655,0.0,0.0,0.45462576559589746,0.9638790615581962,0.0,0.0,0.0,0.0,0.0,0.0,0.0,0.9612421509624061,0.0,0.0,0.0,0.8941029531808252,0.9879986308676696,0.8867208616586557,0.934325287959181,0.0,0.928836742987597,0.0,0.9039353580181501,0.0,0.9901139236153974,0.9017588929330632,0.0,0.0,0.8935752287282818,0.0,0.8963415842012766,0.0,0.9749126162476884,0.9172985092573909,0.8812323546855693,0.5128344670683874,0.0,0.0,0.5684613838197144,0.9976507569447901,0.9454176594703758,0.0,0.0,0.0,0.0,0.0,0.0,0.8934523693812805,0.8783691815162528,0.8749472924654924,0.0,0.0,0.0,0.0,0.4611999036966161,0.0,0.0,0.0,1.0170400694513664,0.0,0.0,0.0,0.676944772923586,0.0,0.0,0.8944517154410392,0.0,0.974660963434861,0.0,0.0,0.0,0.0,0.0,0.0,0.0,0.5029899581750756,0.9373238541617799,0.39282258889796356,0.8179938262543078,0.0,0.0,0.7016685646659987,0.4385616744341429,0.7814702562451984,0.0,0.0,0.47032964404681776,0.0,0.8921249738561209,0.0,0.9773532427689982,0.5737688440679448,0.0,0.4828044791978635,0.8521873182438111,0.0,0.9432792741520196,0.0,0.978324548959367,0.6611019903138897,0.0,0.0,0.8777818290270483,0.0,0.9552544362731868,0.8789098132055126,0.0,0.0,0.0,-0.014616604665499454,0.002964993507331927,0.00658851079149311,0.0054211058289117325,-0.027685809663211405,-0.007084647459939698,-0.008925019205514783,-0.002894826768800566,-0.005808866937476613,0.02204638135602561,0.006004272560006924,-0.007582146109723983,-0.0021749404227219262,-0.0010911773836890213,0.15484948989547326,-0.008609424186719639,0.036482206814674394,0.010369373262817092,0.005919844356006842,0.05125151088203969,0.1287805648985724,0.5252004593394677,-0.011494313920474758,-0.010661555536496685,0.004812210388209488,0.00766421811802638,-0.023752430521345458,-0.0034516667312689733,-0.006226295643393917,-0.014012071163181766,-0.009088499430594602,0.1023210741269523,0.0018125182171247745,-0.0068572967076615705,-0.021468550464750887,-0.0010587099690706457,0.0,0.1666695520342903,0.3331159462009024,0.009183300892400492,0.10007925070956586,-0.009715801070672993,0.057373657696938966,-0.022042299327367055,0.0014653877655312895,0.028078714600519118,0.11908440403913603,0.17809354276706355,0.015377919604896146,-0.009832844135856795,0.007249106409390927,0.003412778705107135,-0.008786640079570782,-0.0028818626102203597,-0.019639364915822147,-0.007955747932022857,-0.0001855875137420449,-0.010955502430515168,-0.00468278916670788,-0.00872839044190066,0.00011405113578532014,-0.010743529537379332,-0.00527969659703739,-0.009127963995278078,0.01792065631680197,-0.014719983987595883,0.007531518240978224,-0.0011754056648573274,0.005572769818389432,0.16151201765275117,0.04891353546382478,0.131808582398701,-0.0006206636751202462,-0.0092689861735793,0.010853746130134468,-0.012510910888095878,-0.009916278978229992,-0.00040020518331528206,0.006543550898789869,0.008069293598254165,-0.004409558498609113,-0.005829949705219766,-0.0042843153800529,0.001336364027721334,0.012050400626272054,0.030013778954292976,-0.0008363719845509736,-0.01006797267335884,-0.010283035058674908,0.012582293101444054,-0.011011470986673181,-0.0041395316424160285,-0.00977415777857182,-0.025168576855502996,-0.022855978564183352,-0.012285834633079832,-0.020580785975254572,0.006970429096406693,-0.0025450107739398093]\n",
            "Intercept: -20.561089996549843\n"
          ],
          "name": "stdout"
        }
      ]
    },
    {
      "cell_type": "code",
      "metadata": {
        "id": "L4imVQFcMyhK",
        "colab": {
          "base_uri": "https://localhost:8080/"
        },
        "outputId": "306cca30-09c7-41f7-a6cf-f385238acc37"
      },
      "source": [
        "lr_predictions = lr_model.transform(test_data)\n",
        "lr_predictions.select(\"prediction\",\"violation_probability\",\"features\").show(100)"
      ],
      "execution_count": 36,
      "outputs": [
        {
          "output_type": "stream",
          "text": [
            "+--------------------+---------------------+--------------------+\n",
            "|          prediction|violation_probability|            features|\n",
            "+--------------------+---------------------+--------------------+\n",
            "|  0.1731436067019061|              0.05714|(1108,[0,2,13,14,...|\n",
            "| 0.19214876003147552|              0.05714|(1108,[0,2,13,14,...|\n",
            "| 0.07188895032748377|              0.01429|(1108,[0,2,13,14,...|\n",
            "| 0.07188895032748377|              0.07692|(1108,[0,2,13,14,...|\n",
            "| 0.12197789145616511|              0.01429|(1108,[0,2,13,14,...|\n",
            "| 0.08391810212247464|              0.11765|(1108,[0,2,13,14,...|\n",
            "|  0.0796079068911304|              0.07692|(1108,[0,2,13,14,...|\n",
            "| 0.07440072002006204|              0.04545|(1108,[0,2,13,14,...|\n",
            "| 0.22332858449577486|              0.23134|(1108,[0,2,13,14,...|\n",
            "|   0.098063552995864|              0.03226|(1108,[0,2,13,14,...|\n",
            "| 0.08897499132313413|              0.01493|(1108,[0,2,13,14,...|\n",
            "| 0.08897499132313413|              0.03509|(1108,[0,2,13,14,...|\n",
            "| 0.22841369929891187|              0.15909|(1108,[0,2,13,14,...|\n",
            "| 0.11004641621811473|              0.02273|(1108,[0,2,13,14,...|\n",
            "| 0.11004641621811473|              0.07692|(1108,[0,2,13,14,...|\n",
            "| 0.12481572028547916|              0.29412|(1108,[0,2,13,14,...|\n",
            "|  0.2023447743020128|              0.21429|(1108,[0,2,13,14,...|\n",
            "|  0.1736434601130057|              0.38462|(1108,[0,2,13,14,...|\n",
            "| 0.07697698810854803|              0.02273|(1108,[0,2,13,14,...|\n",
            "| 0.06927989402338852|              0.01429|(1108,[0,2,13,14,...|\n",
            "|0.061278374770360244|              0.07692|(1108,[0,2,13,14,...|\n",
            "| 0.07101919862950012|              0.04545|(1108,[0,2,13,14,...|\n",
            "| 0.07101919862950012|              0.11765|(1108,[0,2,13,14,...|\n",
            "| 0.10238922877099199|              0.04478|(1108,[0,2,13,14,...|\n",
            "| 0.10238922877099199|              0.42857|(1108,[0,2,13,14,...|\n",
            "|  0.2208004204067464|              0.14925|(1108,[0,2,13,14,...|\n",
            "|  0.2208004204067464|              0.64516|(1108,[0,2,13,14,...|\n",
            "|  0.6172203148476392|              0.03731|(1108,[0,2,13,14,...|\n",
            "| 0.08856818877690387|              0.05263|(1108,[0,2,13,14,...|\n",
            "| 0.42513580170907517|              0.03226|(1108,[0,2,13,14,...|\n",
            "|  0.1920991062177393|              0.07463|(1108,[0,2,13,14,...|\n",
            "|  0.1920991062177393|              0.71429|(1108,[0,2,13,14,...|\n",
            "| 0.09926896191756285|              0.07018|(1108,[0,2,13,14,...|\n",
            "| 0.09926896191756285|              0.28571|(1108,[0,2,13,14,...|\n",
            "| 0.09084444984331697|              0.00746|(1108,[0,2,13,14,...|\n",
            "|  0.0985634064069636|              0.42857|(1108,[0,2,13,14,...|\n",
            "| 0.08947484473423373|              0.02239|(1108,[0,2,13,14,...|\n",
            "| 0.08947484473423373|              0.05263|(1108,[0,2,13,14,...|\n",
            "| 0.17414331352410173|              0.11364|(1108,[0,2,13,14,...|\n",
            "| 0.17414331352410173|              0.29412|(1108,[0,2,13,14,...|\n",
            "| 0.19314846685367115|              0.30769|(1108,[0,2,13,14,...|\n",
            "| 0.07417811395032103|              0.07692|(1108,[0,2,13,14,...|\n",
            "| 0.06493609881925622|              0.01429|(1108,[0,2,13,14,...|\n",
            "|  0.2473691988147415|              0.03226|(1108,[0,2,13,14,...|\n",
            "| 0.10288908218208803|              0.03226|(1108,[0,2,13,14,...|\n",
            "|  0.1437712198013088|              0.07143|(1108,[0,2,13,14,...|\n",
            "| 0.19259895962883533|              0.21429|(1108,[0,2,13,14,...|\n",
            "| 0.21160411295840476|              0.01493|(1108,[0,2,13,14,...|\n",
            "| 0.21160411295840476|              0.03509|(1108,[0,2,13,14,...|\n",
            "| 0.21160411295840476|              0.06452|(1108,[0,2,13,14,...|\n",
            "|   0.091344303254413|              0.00746|(1108,[0,2,13,14,...|\n",
            "|   0.091344303254413|              0.03226|(1108,[0,2,13,14,...|\n",
            "|  0.2243282913179705|              0.05263|(1108,[0,2,13,14,...|\n",
            "| 0.17464316693520132|              0.04545|(1108,[0,2,13,14,...|\n",
            "| 0.19364832026477075|              0.35294|(1108,[0,2,13,14,...|\n",
            "| 0.07201890545169576|              0.06818|(1108,[0,2,13,14,...|\n",
            "| 0.07201890545169576|              0.17647|(1108,[0,2,13,14,...|\n",
            "|  0.2248281447290701|              0.01754|(1108,[0,2,13,14,...|\n",
            "| 0.09956311322915923|              0.01493|(1108,[0,2,13,14,...|\n",
            "| 0.09956311322915923|              0.06452|(1108,[0,2,13,14,...|\n",
            "| 0.09047455155642936|              0.01754|(1108,[0,2,13,14,...|\n",
            "| 0.19777235351332934|              0.00559|(1108,[0,2,13,47,...|\n",
            "| 0.19777235351332934|               0.0082|(1108,[0,2,13,47,...|\n",
            "| 0.23566134064904531|              0.00559|(1108,[0,2,13,47,...|\n",
            "| 0.16907103932432221|              0.01672|(1108,[0,2,13,47,...|\n",
            "| 0.16907103932432221|              0.01938|(1108,[0,2,13,47,...|\n",
            "| 0.16907103932432221|              0.20833|(1108,[0,2,13,47,...|\n",
            "| 0.06910583975054152|              0.01117|(1108,[0,2,13,47,...|\n",
            "| 0.06910583975054152|              0.01504|(1108,[0,2,13,47,...|\n",
            "| 0.06910583975054152|              0.01563|(1108,[0,2,13,47,...|\n",
            "| 0.20080037101345738|              0.00669|(1108,[0,2,13,47,...|\n",
            "| 0.20080037101345738|              0.08333|(1108,[0,2,13,47,...|\n",
            "| 0.22434113192132443|              0.01672|(1108,[0,2,13,14,...|\n",
            "| 0.22434113192132443|              0.02793|(1108,[0,2,13,14,...|\n",
            "| 0.22434113192132443|              0.04098|(1108,[0,2,13,14,...|\n",
            "|  0.1059738488405273|              0.01003|(1108,[0,2,13,14,...|\n",
            "|  0.1059738488405273|              0.02256|(1108,[0,2,13,14,...|\n",
            "| 0.07986101528867096|              0.01676|(1108,[0,2,13,14,...|\n",
            "| 0.07986101528867096|                0.125|(1108,[0,2,13,14,...|\n",
            "| 0.12074315290789173|              0.02007|(1108,[0,2,13,14,...|\n",
            "| 0.12074315290789173|                 0.25|(1108,[0,2,13,14,...|\n",
            "| 0.19827220692442538|              0.04682|(1108,[0,2,13,14,...|\n",
            "| 0.19827220692442538|              0.11475|(1108,[0,2,13,14,...|\n",
            "| 0.16957089273541825|               0.0814|(1108,[0,2,13,14,...|\n",
            "| 0.07674074843524181|              0.01639|(1108,[0,2,13,14,...|\n",
            "|  0.0729044207309606|              0.00559|(1108,[0,2,13,14,...|\n",
            "| 0.06660977941563218|              0.01563|(1108,[0,2,13,14,...|\n",
            "| 0.06960569316163756|              0.00334|(1108,[0,2,13,14,...|\n",
            "| 0.06960569316163756|              0.00388|(1108,[0,2,13,14,...|\n",
            "| 0.11840517748967727|              0.02256|(1108,[0,2,13,14,...|\n",
            "| 0.11840517748967727|              0.02459|(1108,[0,2,13,14,...|\n",
            "|  0.0803453881559868|              0.01504|(1108,[0,2,13,14,...|\n",
            "|  0.0803453881559868|              0.01639|(1108,[0,2,13,14,...|\n",
            "|  0.0803453881559868|              0.08333|(1108,[0,2,13,14,...|\n",
            "| 0.07603519292464256|              0.04167|(1108,[0,2,13,14,...|\n",
            "| 0.08154204265212428|              0.00388|(1108,[0,2,13,14,...|\n",
            "| 0.08154204265212428|              0.00752|(1108,[0,2,13,14,...|\n",
            "| 0.08154204265212428|              0.04167|(1108,[0,2,13,14,...|\n",
            "| 0.10647370225162689|              0.00388|(1108,[0,2,13,14,...|\n",
            "| 0.10647370225162689|              0.00781|(1108,[0,2,13,14,...|\n",
            "+--------------------+---------------------+--------------------+\n",
            "only showing top 100 rows\n",
            "\n"
          ],
          "name": "stdout"
        }
      ]
    },
    {
      "cell_type": "code",
      "metadata": {
        "id": "DP0BO1SnM3gO"
      },
      "source": [
        "dataForGrapgh = lr_predictions.select(\"prediction\",\"violation_probability\",\"features\")"
      ],
      "execution_count": 37,
      "outputs": []
    },
    {
      "cell_type": "code",
      "metadata": {
        "id": "MliDYvrzM9CP"
      },
      "source": [
        "dataG =dataForGrapgh.toPandas()"
      ],
      "execution_count": null,
      "outputs": []
    },
    {
      "cell_type": "code",
      "metadata": {
        "id": "Gwf3nCsGNBOJ"
      },
      "source": [
        "# Necessary imports: \n",
        "from sklearn.model_selection import cross_val_score, cross_val_predict\n",
        "from sklearn import metrics\n",
        "accuracy = metrics.r2_score(dataG['violation_probability'], dataG['prediction'])\n",
        "print(\"Cross-Predicted Accuracy:\", accuracy)"
      ],
      "execution_count": null,
      "outputs": []
    },
    {
      "cell_type": "code",
      "metadata": {
        "id": "i2UXS8zdNCJe"
      },
      "source": [
        "from matplotlib import pyplot as plt\n",
        "plt.rcParams[\"figure.figsize\"] = (24, 8)\n",
        "plt.plot(dataG['prediction'][:100], label = \"Pred\")  # Load the 500 data points from prediction with label name 'Pred'\n",
        "plt.plot(dataG['violation_probability'][:100], label = \"Actual\")"
      ],
      "execution_count": null,
      "outputs": []
    }
  ]
}